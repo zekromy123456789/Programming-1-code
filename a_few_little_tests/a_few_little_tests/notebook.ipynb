{
 "cells": [
  {
   "attachments": {},
   "cell_type": "markdown",
   "metadata": {},
   "source": [
    "# Run the code below...\n",
    "\n",
    "...by clicking anywhere in the box below, and then pressing Shift and Enter simultaneously. If it works, you'll see a message telling you so at the bottom."
   ]
  },
  {
   "cell_type": "code",
   "execution_count": 1,
   "metadata": {},
   "outputs": [
    {
     "name": "stdout",
     "output_type": "stream",
     "text": [
      "You were successful, hooray!\n"
     ]
    }
   ],
   "source": [
    "# Here's some more Python code\n",
    "\n",
    "def rot13(s):\n",
    "    out = \"\"\n",
    "    for let in s:\n",
    "        c = ord(let)\n",
    "        if 65 <= c <= 77 or 97 <= c <= 109:\n",
    "            c += 13\n",
    "        elif 78 <= c <= 90 or 110 <= c <= 122:\n",
    "            c -= 13\n",
    "        out += chr(c)\n",
    "    return out\n",
    "\n",
    "print(rot13(\"Lbh jrer fhpprffshy, ubbenl!\"))\n"
   ]
  },
  {
   "attachments": {},
   "cell_type": "markdown",
   "metadata": {},
   "source": [
    "# Now, let's try to read from a file.  \n",
    "\n",
    "For this to work, the file named `evans_file.txt` must be in the SAME FOLDER as the code that is running it.  That's probably already the case.  If this is successful, you should see the word `SUCCESS` printed many times below.  Again, run it by clicking in the box, and then pressing Shift-Enter."
   ]
  },
  {
   "cell_type": "code",
   "execution_count": 3,
   "metadata": {},
   "outputs": [
    {
     "name": "stdout",
     "output_type": "stream",
     "text": [
      "SUCCESS!!!!! SUCCESS!!!!! SUCCESS!!!!! SUCCESS!!!!! SUCCESS!!!!! SUCCESS!!!!! SUCCESS!!!!! SUCCESS!!!!! SUCCESS!!!!! SUCCESS!!!!! SUCCESS!!!!! SUCCESS!!!!! SUCCESS!!!!! SUCCESS!!!!! SUCCESS!!!!! SUCCESS!!!!! SUCCESS!!!!! SUCCESS!!!!! SUCCESS!!!!! SUCCESS!!!!! SUCCESS!!!!! SUCCESS!!!!! SUCCESS!!!!! SUCCESS!!!!! SUCCESS!!!!! SUCCESS!!!!! SUCCESS!!!!! SUCCESS!!!!! SUCCESS!!!!! SUCCESS!!!!! SUCCESS!!!!! SUCCESS!!!!! SUCCESS!!!!! SUCCESS!!!!! SUCCESS!!!!! SUCCESS!!!!! SUCCESS!!!!! SUCCESS!!!!! SUCCESS!!!!! SUCCESS!!!!! SUCCESS!!!!! SUCCESS!!!!! SUCCESS!!!!! SUCCESS!!!!! SUCCESS!!!!! SUCCESS!!!!! SUCCESS!!!!! SUCCESS!!!!! SUCCESS!!!!! SUCCESS!!!!! SUCCESS!!!!! SUCCESS!!!!! SUCCESS!!!!! SUCCESS!!!!! SUCCESS!!!!! SUCCESS!!!!! SUCCESS!!!!! SUCCESS!!!!! SUCCESS!!!!! SUCCESS!!!!! SUCCESS!!!!! SUCCESS!!!!! SUCCESS!!!!! SUCCESS!!!!! SUCCESS!!!!! SUCCESS!!!!! SUCCESS!!!!! SUCCESS!!!!! SUCCESS!!!!! SUCCESS!!!!! SUCCESS!!!!! SUCCESS!!!!! SUCCESS!!!!! SUCCESS!!!!! SUCCESS!!!!! SUCCESS!!!!! SUCCESS!!!!! SUCCESS!!!!! SUCCESS!!!!! SUCCESS!!!!! SUCCESS!!!!! SUCCESS!!!!! SUCCESS!!!!! SUCCESS!!!!! SUCCESS!!!!! SUCCESS!!!!! SUCCESS!!!!! SUCCESS!!!!! SUCCESS!!!!! SUCCESS!!!!! SUCCESS!!!!! SUCCESS!!!!! SUCCESS!!!!! SUCCESS!!!!! SUCCESS!!!!! SUCCESS!!!!! SUCCESS!!!!! SUCCESS!!!!! SUCCESS!!!!! SUCCESS!!!!! SUCCESS!!!!! SUCCESS!!!!! SUCCESS!!!!! SUCCESS!!!!! SUCCESS!!!!! SUCCESS!!!!! SUCCESS!!!!! SUCCESS!!!!! SUCCESS!!!!! SUCCESS!!!!! SUCCESS!!!!! SUCCESS!!!!! SUCCESS!!!!! SUCCESS!!!!! SUCCESS!!!!! SUCCESS!!!!! SUCCESS!!!!! SUCCESS!!!!! SUCCESS!!!!! SUCCESS!!!!! SUCCESS!!!!! SUCCESS!!!!! SUCCESS!!!!! SUCCESS!!!!! SUCCESS!!!!! SUCCESS!!!!! SUCCESS!!!!! SUCCESS!!!!! SUCCESS!!!!! SUCCESS!!!!! SUCCESS!!!!! SUCCESS!!!!! SUCCESS!!!!! SUCCESS!!!!! SUCCESS!!!!! SUCCESS!!!!! SUCCESS!!!!! SUCCESS!!!!! SUCCESS!!!!! SUCCESS!!!!! SUCCESS!!!!! SUCCESS!!!!! SUCCESS!!!!! SUCCESS!!!!! SUCCESS!!!!! SUCCESS!!!!! SUCCESS!!!!! SUCCESS!!!!! SUCCESS!!!!! SUCCESS!!!!! SUCCESS!!!!! SUCCESS!!!!! SUCCESS!!!!! SUCCESS!!!!! SUCCESS!!!!! SUCCESS!!!!! SUCCESS!!!!! SUCCESS!!!!! SUCCESS!!!!! SUCCESS!!!!! SUCCESS!!!!! SUCCESS!!!!! SUCCESS!!!!! SUCCESS!!!!! SUCCESS!!!!! SUCCESS!!!!! SUCCESS!!!!! SUCCESS!!!!! SUCCESS!!!!! SUCCESS!!!!! SUCCESS!!!!! SUCCESS!!!!! SUCCESS!!!!! SUCCESS!!!!! SUCCESS!!!!! SUCCESS!!!!! SUCCESS!!!!! SUCCESS!!!!! SUCCESS!!!!! SUCCESS!!!!! SUCCESS!!!!! SUCCESS!!!!! SUCCESS!!!!! SUCCESS!!!!! SUCCESS!!!!! SUCCESS!!!!! SUCCESS!!!!! SUCCESS!!!!! SUCCESS!!!!! SUCCESS!!!!! SUCCESS!!!!! SUCCESS!!!!! SUCCESS!!!!! SUCCESS!!!!! SUCCESS!!!!! SUCCESS!!!!! SUCCESS!!!!! SUCCESS!!!!! SUCCESS!!!!! SUCCESS!!!!! "
     ]
    }
   ],
   "source": [
    "# Opening a file\n",
    "\n",
    "f = open(\"shanes_file.txt\", \"r\")\n",
    "x = f.read()\n",
    "f.close()\n",
    "\n",
    "for i in range(200):\n",
    "    print(x, end = \" \")"
   ]
  },
  {
   "cell_type": "code",
   "execution_count": null,
   "metadata": {},
   "outputs": [],
   "source": []
  }
 ],
 "metadata": {
  "kernelspec": {
   "display_name": "Python 3 (ipykernel)",
   "language": "python",
   "name": "python3"
  },
  "language_info": {
   "codemirror_mode": {
    "name": "ipython",
    "version": 3
   },
   "file_extension": ".py",
   "mimetype": "text/x-python",
   "name": "python",
   "nbconvert_exporter": "python",
   "pygments_lexer": "ipython3",
   "version": "3.10.10"
  }
 },
 "nbformat": 4,
 "nbformat_minor": 2
}
