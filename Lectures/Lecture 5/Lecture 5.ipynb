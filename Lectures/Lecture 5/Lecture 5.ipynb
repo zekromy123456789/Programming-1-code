{
 "cells": [
  {
   "cell_type": "markdown",
   "metadata": {},
   "source": [
    "# Lecture 5\n",
    "\n",
    "### Selection (aka `if-else`); Blocks; Logical Expressions and Comparison Operators; Comparing Strings; Testing `floats` for Equality; Logical Connectives; Designing Logical Expressions; If-Elif-Else; Vowels"
   ]
  },
  {
   "cell_type": "markdown",
   "metadata": {},
   "source": [
    "# 1. Selection (aka `if`-`else`)\n"
   ]
  },
  {
   "cell_type": "code",
   "execution_count": null,
   "metadata": {
    "collapsed": true,
    "jupyter": {
     "outputs_hidden": true
    }
   },
   "outputs": [],
   "source": [
    "# EXAMPLE 1a: You Fail\n",
    "# Our first if statement: run it several times!\n",
    "\n",
    "score = input('Please input your score: ')\n",
    "score = float(score) \n",
    "\n",
    "if score >= 60:\n",
    "    print('You pass')\n",
    "    print('Hooray')\n",
    "else:\n",
    "    print('You fail')\n",
    "    print('Boo')\n"
   ]
  },
  {
   "cell_type": "markdown",
   "metadata": {},
   "source": [
    "<br><br><br><br><br><br><br><br><br><br>\n",
    "\n",
    "### * Just about any interesting program imaginable will need **_selection_** -- the ability to either run or not run certain statements depending on the values of variables. \n",
    "\n",
    "### * In Python, selection is accomplished by an **_if-else_** statement.  Here is the syntax:"
   ]
  },
  {
   "cell_type": "code",
   "execution_count": null,
   "metadata": {},
   "outputs": [],
   "source": [
    "IF-ELSE SYNTAX:\n",
    "    \n",
    "'.... previous statements (unindented) ....'\n",
    "\n",
    "if <logical expression>:\n",
    "    <body 1>\n",
    "    <maybe one statement, maybe several>\n",
    "    <however many you need>\n",
    "else:\n",
    "    <body 2>\n",
    "    \n",
    "'.... rest of statements (unindented) ....'   "
   ]
  },
  {
   "cell_type": "markdown",
   "metadata": {},
   "source": [
    "### * How this executes:\n",
    "\n",
    "### --- First, the logical expression evaluates, which produces a value of either `True` or `False`\n",
    "### --- If the value of the expression is `True`, then only the statements in `<body 1>` execute before continuing.\n",
    "### --- Otherwise, only the statements in `<body 2>`execute.\n",
    "### --- After this code, the program continues executing.\n",
    "\n",
    "### * Pay attention to the colons (:)!  The `if` line and the `else` line should end with them.  \n",
    "\n",
    "### * And **each of the lines in each body should be indented by exactly 4 spaces**! Fortunately, in both Jupyter and Spyder, the Tab button automatically spaces by 4.  \n",
    "\n",
    "\n",
    "<br><br><br><br><br><br><br><br><br><br>\n",
    "\n",
    "\n",
    "![IMAGE NOT FOUND!!!!!!!!!!!!](ifelse.png)\n",
    "\n",
    "<br><br><br><br><br><br><br><br><br><br>\n",
    "\n",
    "### * It's fine to leave out the `else` part of an if-else statement.  Sometimes, action is only needed if the answer to a question is \"yes\".  "
   ]
  },
  {
   "cell_type": "code",
   "execution_count": null,
   "metadata": {},
   "outputs": [],
   "source": [
    "JUST IF SYNTAX:\n",
    "    \n",
    "'.... previous statements (unindented) ....'\n",
    "\n",
    "if <logical expression>:\n",
    "    <body 1>\n",
    "    <maybe one statement, maybe several>\n",
    "    \n",
    "'.... rest of statements (unindented) ....'       \n"
   ]
  },
  {
   "cell_type": "markdown",
   "metadata": {},
   "source": [
    "<br><br><br><br><br><br><br><br><br><br>\n",
    "\n",
    "### * Write a program that when run, asks the user to enter a number.  If the number is positive, it should print `Positive`; if it is negative, it should print `Negative`."
   ]
  },
  {
   "cell_type": "code",
   "execution_count": null,
   "metadata": {},
   "outputs": [],
   "source": [
    "# EXAMPLE 1b: Positive\n",
    "# Ask for a number to be input; if it is positive, print \"Positive\", \n",
    "# if it is negative, print \"Negative\".\n",
    "\n",
    "#\n",
    "# YOUR CODE HERE!\n",
    "#"
   ]
  },
  {
   "cell_type": "markdown",
   "metadata": {},
   "source": [
    "<br><br><br><br><br><br><br><br><br><br>\n",
    "\n",
    "# 2. Blocks\n",
    "\n",
    "### * After an `if .... :`, which statements are controlled by that `if`?  \n",
    "\n",
    "### * Answer: every statement after, until an **unindented** statement is encountered.  The group of statements controlled is also called a **_block statement_**.  \n",
    "\n",
    "### * If your `if` statement has an `else`, that has to come immediately after the end of the `if` block. There can be empty lines between `if` block and `else`, but no unindented non-empty lines.  "
   ]
  },
  {
   "cell_type": "code",
   "execution_count": null,
   "metadata": {},
   "outputs": [],
   "source": [
    "# EXAMPLE 2a: Block Problems\n",
    "# What's wrong with this?\n",
    "\n",
    "if 2 > 1:\n",
    "    print('Hi')\n",
    "    print('How\\'s it going')\n",
    "print('Pretty good')\n",
    "\n",
    "else:\n",
    "    print('Blah')"
   ]
  },
  {
   "cell_type": "markdown",
   "metadata": {},
   "source": [
    "<br><br><br><br><br><br><br><br><br><br>\n",
    "\n",
    "### * In an if-else statement, execution returns to \"normal\" (every statement is executed) after the end of the `else` block; in a plain if statement, execution returns to \"normal\" at the end of the `if` block.  \n",
    "\n",
    "### * This can sometimes be confusing if you see consecutive `if` statements.  When one `if` follows the conclusion of another, the two should be considered as separate: the second one will execute the same way it would if the first wasn't there.  \n",
    "\n",
    "### * For example, what does the following produce when the user enters 1? 10? 100?"
   ]
  },
  {
   "cell_type": "code",
   "execution_count": null,
   "metadata": {},
   "outputs": [],
   "source": [
    "# EXAMPLE 2b: More Blocks\n",
    "\n",
    "x = int(input('Enter a number: ')) \n",
    "\n",
    "if x > 20:       \n",
    "    print('A')   \n",
    "    print('B')   \n",
    "else:              \n",
    "    print('C')   \n",
    "print('D')       \n",
    "if x > 5:        \n",
    "    print('E')   \n",
    "    print('F')   \n",
    "if x > 0:        \n",
    "    print('G')   \n",
    "   "
   ]
  },
  {
   "cell_type": "markdown",
   "metadata": {},
   "source": [
    "<br><br><br><br><br><br><br><br><br><br>"
   ]
  },
  {
   "cell_type": "markdown",
   "metadata": {},
   "source": [
    "# 3. Logical Expressions and Comparison Operators\n",
    "\n",
    "### * Question: what would we put into `if ....:` if we wanted something to print out only when `x` is, say, an odd number between 10 and 30?  \n",
    "\n",
    "### * We'll need to get familiar with **_logical expressions_** for this.  They're just like ordinary mathematical expressions, except when you evaluate them, the answers you get are not numbers, but rather `True` or `False`.  \n",
    "\n",
    "### * E.g.: `3 + 5` evaluates to `8`; likewise, `3 < 5` evaluates to `True`\n",
    "\n",
    "### * The basic *arithmetic* operators are `+`, `-`, `*`, `/`; likewise, the basic *logical* operators are `>`, `<`, `>=`, `<=`, `==`, and `!=`.\n",
    "\n",
    "<br><br><br><br><br><br><br><br><br><br>\n",
    "\n",
    "### * The first four should be mostly self explanatory.  \n",
    "\n",
    "### * The fifth, `==`, is the **_equality_** operator.  Note the difference between single `=` and `==`:\n",
    "\n",
    "### --- `x = 3` *assigns* the value `x` to the variable `3`.  It is a complete statement, more than just an expression.\n",
    "### --- `x == 3` *tests* whether `x` and `3` are equal.  This is an *expression*, which will evaluate to `True` or `False`, depending on what value `x` holds. If you write a line in your program that contains *only* `x == 3`, that line won't do much (but if you put `x == 3` after `if`, that could definitely be useful).\n",
    "\n",
    "### * `!=` is the **_inequality_** operator: `x != y` evaluates to `True` if `x` and `y` have different values, and `False` if they have the same value.  "
   ]
  },
  {
   "cell_type": "code",
   "execution_count": null,
   "metadata": {},
   "outputs": [],
   "source": [
    "# EXAMPLE 3a: Logical Expressions\n",
    "\n",
    "x = 10\n",
    "y = 20\n",
    "\n",
    "print('Here\\'s x < 10:', x < 10)\n",
    "print('Here\\'s x <= 10:', x <= 10)\n",
    "print('Here\\'s x * 2 == y:', x * 2 == y) \n",
    "# Note precedence for the last one: * evaluated before ==.\n",
    "    \n",
    "if x != 10:\n",
    "    print('A')\n",
    "\n",
    "if x != 11:\n",
    "    print('B')\n",
    "\n",
    "# In C++, this type of thing could drive you CRAZY; fortunately\n",
    "# Python will raise an error for this.\n",
    "if y = 20:\n",
    "    print('C')"
   ]
  },
  {
   "cell_type": "markdown",
   "metadata": {},
   "source": [
    "<br><br><br><br><br><br><br><br><br><br>\n",
    "\n",
    "# 4. Comparing Strings\n",
    "\n",
    "### * Can use `<` and `>` with `str`s.  They are compared using ASCII lexigraphical order.  What?  The \"lexigraphical\" part is easy to understand; that just means like the dictionary order.  You compare the first characters; if they are the same, you go on to the second characters; and so on.  \n",
    "\n",
    "### * But how would you compare `'!23'` and `'abc'`?  ASCII (American Standard Code for Information Interchange) associates each standard character with a number.  For instance:\n",
    "\n",
    "`'A'` corresponds to 65 <br>\n",
    "`'B'` corresponds to 66 <br>\n",
    "`'a'` corresponds to 97 <br>\n",
    "`'b'` corresponds to 98 <br>\n",
    "`'0'` (the symbol) corresponds to 49 <br>\n",
    "`'!'` corresponds to 33 <br>\n"
   ]
  },
  {
   "cell_type": "code",
   "execution_count": null,
   "metadata": {},
   "outputs": [],
   "source": [
    "# EXAMPLE 4a: String comparisons\n",
    "\n",
    "if 'yellow' == 'Yellow':\n",
    "    print('A')\n",
    "\n",
    "if 'yellow' == 'yellow':\n",
    "    print('B')\n",
    "    \n",
    "if 'a ' == 'a':\n",
    "    print('C')\n",
    "\n",
    "if '2345678' < '239':\n",
    "    print('D')\n",
    "    \n",
    "if 'Baby' < 'apple':\n",
    "    print('E')\n",
    "\n",
    "if '!23' >= 'abc':\n",
    "    print('F')\n"
   ]
  },
  {
   "cell_type": "markdown",
   "metadata": {},
   "source": [
    "<br><br><br><br><br><br><br><br><br><br>\n",
    "\n",
    "### * Let's choose a password as a class, and write a program.  It should ask the user to enter a guess; if they enter the correct password, print out a secret message, and otherwise print `Access denied`."
   ]
  },
  {
   "cell_type": "code",
   "execution_count": null,
   "metadata": {},
   "outputs": [],
   "source": [
    "# EXAMPLE 4b: Password\n",
    "# Ask for input: if the user enters your chosen message, print out secret files.\n",
    "\n"
   ]
  },
  {
   "cell_type": "markdown",
   "metadata": {},
   "source": [
    "<br><br><br><br><br><br><br><br><br><br>\n",
    "\n",
    "# 5. A Reminder: Testing Floats for Equality\n",
    "\n",
    "### * Remember how `float`s are imprecise?  Well, tiny imprecisions are one thing, but the difference between `True` and `False` is a bit more stark."
   ]
  },
  {
   "cell_type": "code",
   "execution_count": null,
   "metadata": {},
   "outputs": [],
   "source": [
    "# EXAMPLE 5a: Float Trouble\n",
    "# The if block ought to execute, but: that's not what happens\n",
    "\n",
    "if 0.1 + 0.2 == 0.3:\n",
    "    print('Everything is ok, I feel fine')\n",
    "else:\n",
    "    print('Oh no, everything is broken, the world is on fire!')\n",
    "    print( 0.1 + 0.2 - 0.3)"
   ]
  },
  {
   "cell_type": "markdown",
   "metadata": {},
   "source": [
    "<br><br><br><br><br><br><br><br><br><br>\n",
    "\n",
    "# 6. Logical Connectives\n",
    "\n",
    "### * If `<exp1>` and `<exp2>` are logical expressions, then:\n",
    "\n",
    "### --- If `<exp1>` is `True`, then `not <exp1>` evaluates to `False`; and vice-versa.\n",
    "### --- `<exp1> and <exp2>` evaluates to `True` if **both** `<exp1>` and `<exp2>` are `True`; otherwise, `<exp1> and <exp2>`  evaluates to `False`.\n",
    "### --- `<exp1> or <exp2>` evaluates to `True` if **one or both** of `<exp1>` and `<exp2>` are `True`; otherwise (when both are `False`), `<exp1> or <exp2>`  evaluates to `False`.\n",
    "\n",
    "### * Suppose that `x = 2`.  What would the following three expressions evaluate to?\n"
   ]
  },
  {
   "cell_type": "code",
   "execution_count": null,
   "metadata": {},
   "outputs": [],
   "source": [
    "# EXAMPLE 6a: Connectives\n",
    "# Add in the x = 2 part where you are ready\n",
    "\n",
    "\n",
    "print(  x > 1 and x < 1 )\n",
    "\n",
    "print(  not( x > 1 and (x <= 1 or 3 > x) )  )\n",
    "\n",
    "print(  (3 > x) or (not x > 1) and (x <= 1)  )\n"
   ]
  },
  {
   "cell_type": "markdown",
   "metadata": {},
   "source": [
    "<br><br><br><br><br><br><br><br><br><br>\n",
    "\n",
    "### * The third one: `True or (not True) and False` --> `True or False and False` -->\n",
    "\n",
    "### * We have a trick question -- to answer it properly, you need to know more about the rules of precedence! They read, in part:\n",
    "\n",
    "### * `**`, then {`*`, `/`, `%`, `//`}, then {`+`, `-`}, then {`==`, `!=`, `<`, `>`, `<=`, `>=`}, then `not`, then `and`, and finally `or`.  Within each class, operators are evaluated as they are encounted from left to right in the expression.\n",
    "\n",
    "### * So: `True or False and False` --> `True or False` --> `True`. The `and` is evaluated first!\n"
   ]
  },
  {
   "cell_type": "markdown",
   "metadata": {},
   "source": [
    "<br><br><br><br><br><br><br><br><br><br>\n",
    "\n",
    "# 7. Designing Logical Expressions\n",
    "\n",
    "### * How would you print `You can ride` if the variable `height` is between 36 and 96 (inclusive)?"
   ]
  },
  {
   "cell_type": "code",
   "execution_count": null,
   "metadata": {
    "collapsed": true,
    "jupyter": {
     "outputs_hidden": true
    }
   },
   "outputs": [],
   "source": [
    "# EXAMPLE 7a: You can ride\n",
    "\n",
    "height = 40\n",
    "\n",
    "if ??????????????:\n",
    "    print('You can ride.')\n",
    "\n",
    "# or, IN PYTHON ONLY: CHAINED inequalities\n",
    "\n",
    "if ??????????????:\n",
    "    print('You can ride.')\n"
   ]
  },
  {
   "cell_type": "markdown",
   "metadata": {},
   "source": [
    "### * How would you print `Someone got a 7!` if at least one of `x` and `y` is `7`?"
   ]
  },
  {
   "cell_type": "code",
   "execution_count": null,
   "metadata": {
    "collapsed": true,
    "jupyter": {
     "outputs_hidden": true
    }
   },
   "outputs": [],
   "source": [
    "# EXAMPLE 7b: At least one 7\n",
    "\n",
    "x = 7\n",
    "y = 5\n",
    "\n",
    "if ??????????????:\n",
    "    print('Someone got a 7!')\n"
   ]
  },
  {
   "cell_type": "markdown",
   "metadata": {},
   "source": [
    "<br><br><br><br><br><br><br><br><br><br>"
   ]
  },
  {
   "cell_type": "markdown",
   "metadata": {},
   "source": [
    "### * How would you print `Exactly one winner!` if **exactly one** of `x` and `y` is `7`?"
   ]
  },
  {
   "cell_type": "code",
   "execution_count": null,
   "metadata": {},
   "outputs": [],
   "source": [
    "# EXAMPLE 7c: Exactly one 7\n",
    "# Of course, there are several ways to do this\n",
    "\n",
    "x = 5\n",
    "y = 7\n",
    "\n",
    "if ?????????????????:\n",
    "    print('Exactly one winner!')\n"
   ]
  },
  {
   "cell_type": "markdown",
   "metadata": {},
   "source": [
    "### * How would you print `Buzz` if a variable `x` is either a multiple of `7` or ends with the digit `7`?"
   ]
  },
  {
   "cell_type": "code",
   "execution_count": null,
   "metadata": {
    "collapsed": true,
    "jupyter": {
     "outputs_hidden": true
    }
   },
   "outputs": [],
   "source": [
    "# EXAMPLE 7d: Buzz\n",
    "\n",
    "x = 17\n",
    "\n",
    "if  ????????????????:\n",
    "    print('Buzz')\n"
   ]
  },
  {
   "cell_type": "markdown",
   "metadata": {},
   "source": [
    "<br><br><br><br><br><br><br><br><br><br>\n",
    "\n",
    "### * How would you write code which stores the absolute value of `x` into the variable `y`?  "
   ]
  },
  {
   "cell_type": "code",
   "execution_count": null,
   "metadata": {},
   "outputs": [],
   "source": [
    "# EXAMPLE 7e: Absolute value\n",
    "\n",
    "x = -3\n",
    "\n",
    "if \n",
    "\n",
    "\n",
    "\n",
    "\n",
    "\n",
    "print(y)\n"
   ]
  },
  {
   "cell_type": "markdown",
   "metadata": {},
   "source": [
    "<br><br><br><br><br><br><br><br><br><br>\n",
    "\n",
    "# 8. If-Elif-Else Chains\n",
    "\n",
    "### * If-else is great when you have two possibilites to choose from.  What if you have 3 possibilities, or 5? \n",
    "\n",
    "### * In that case, you might want an **_if-elif-else chain_**.  (\"Elif\" is short for \"else if\".)"
   ]
  },
  {
   "cell_type": "code",
   "execution_count": null,
   "metadata": {},
   "outputs": [],
   "source": [
    "# EXAMPLE 8a: Pie\n",
    "\n",
    "favorite = input('Please state your favorite type of pie: ')\n",
    "\n",
    "if favorite == 'Key Lime':\n",
    "    print('I agree, Key Lime pie is amazing')\n",
    "elif favorite == 'Pumpkin' or favorite == 'Apple':\n",
    "    print('Yeah, that\\'s good, but have you tried Key Lime?')\n",
    "elif favorite == 'Chocolate':\n",
    "    print('Christine likes chocolate pudding pie.  I don\\'t see the appeal.')\n",
    "else:\n",
    "    print('Hmm... I haven\\'t heard of that one.')"
   ]
  },
  {
   "cell_type": "markdown",
   "metadata": {},
   "source": [
    "<br><br><br><br><br><br><br><br><br><br>\n"
   ]
  },
  {
   "cell_type": "code",
   "execution_count": null,
   "metadata": {},
   "outputs": [],
   "source": [
    "IF-ELIF-ELSE CHAIN SYNTAX:\n",
    "\n",
    "\"...previous statements (unindented)...\"\n",
    "\n",
    "if <expr 1>:\n",
    "    <body 1>\n",
    "elif <expr 2>:\n",
    "    <body 2>\n",
    "elif <expr 3>:\n",
    "    <body 3>\n",
    "else:\n",
    "    <body 4>\n",
    "\n",
    "\"...further statements (unindented)...\""
   ]
  },
  {
   "cell_type": "markdown",
   "metadata": {},
   "source": [
    "### * Note that the `elif`'s go in the middle, and of course you can have more or less than 2.  \n",
    "\n",
    "### * The `else` at the end is optional.\n",
    "\n",
    "### * When this chain is encountered, the body corresponding to the FIRST logical expression which is `True` will be executed; all others will be ignored.\n",
    "\n",
    "### * If none of the logical expressions are `True`, then the `else` body will be executed (if there is one -- if not, nothing will get executed at all).\n",
    "\n",
    "<br><br><br><br><br><br><br><br><br><br>\n",
    "\n",
    "\n",
    "![IMAGE NOT FOUND](ifelsechain.png)\n",
    "\n",
    "### * Notice that **exactly one** of the bodies is executed.  (And if there were no `else`, then **at most one** body would be executed.)"
   ]
  },
  {
   "cell_type": "markdown",
   "metadata": {},
   "source": [
    "\n",
    "<br><br><br><br><br><br><br><br><br><br>\n",
    "\n",
    "# 9. Vowels\n",
    "\n",
    "### * Write a program which asks the user to put in a lowercase letter.  Then have it print out \n",
    "\n",
    "### `Always` if it is a,e,i,o,u; \n",
    "\n",
    "### `Sometimes` if it is y; \n",
    "\n",
    "### and `Never` otherwise."
   ]
  },
  {
   "cell_type": "code",
   "execution_count": null,
   "metadata": {},
   "outputs": [],
   "source": [
    "# EXAMPLE 9a: Vowels\n",
    "# Ask user to input a lowercase letter, then print out whether or not it is \n",
    "# a vowel always, sometimes, or never\n",
    "\n",
    "letter = input('Enter a lowercase letter: ')\n",
    "\n",
    "#\n",
    "# YOUR CODE HERE!\n",
    "#\n",
    "\n",
    "\n"
   ]
  }
 ],
 "metadata": {
  "kernelspec": {
   "display_name": "Python 3 (ipykernel)",
   "language": "python",
   "name": "python3"
  },
  "language_info": {
   "codemirror_mode": {
    "name": "ipython",
    "version": 3
   },
   "file_extension": ".py",
   "mimetype": "text/x-python",
   "name": "python",
   "nbconvert_exporter": "python",
   "pygments_lexer": "ipython3",
   "version": "3.11.5"
  },
  "name": "_merged_merged"
 },
 "nbformat": 4,
 "nbformat_minor": 4
}
