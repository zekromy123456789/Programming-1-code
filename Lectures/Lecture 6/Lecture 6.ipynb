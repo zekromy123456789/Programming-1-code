{
 "cells": [
  {
   "cell_type": "markdown",
   "metadata": {},
   "source": [
    "# Lecture 6\n",
    "\n",
    "### Designing Logical Expressions; If-Elif-Else; Vowels; Bad Grades; Nested Ifs and Pseudocode; What Should I Do Today?; Using `bool` Variables; The Same Name Game"
   ]
  },
  {
   "cell_type": "markdown",
   "metadata": {},
   "source": [
    "# 1. Designing Logical Expressions\n",
    "\n",
    "### * How would you print `You can ride` if the variable `height` is between 36 and 96 (inclusive)?"
   ]
  },
  {
   "cell_type": "code",
   "execution_count": null,
   "metadata": {
    "collapsed": true,
    "jupyter": {
     "outputs_hidden": true
    }
   },
   "outputs": [],
   "source": [
    "# EXAMPLE 1a: You can ride\n",
    "\n",
    "height = 40\n",
    "\n",
    "if ??????????????:\n",
    "    print('You can ride.')\n",
    "\n",
    "# or, IN PYTHON ONLY: CHAINED inequalities\n",
    "\n",
    "if ??????????????:\n",
    "    print('You can ride.')\n"
   ]
  },
  {
   "cell_type": "markdown",
   "metadata": {},
   "source": [
    "### * How would you print `Someone got a 7!` if at least one of `x` and `y` is `7`?"
   ]
  },
  {
   "cell_type": "code",
   "execution_count": null,
   "metadata": {
    "collapsed": true,
    "jupyter": {
     "outputs_hidden": true
    }
   },
   "outputs": [],
   "source": [
    "# EXAMPLE 1b: At least one 7\n",
    "\n",
    "x = 7\n",
    "y = 5\n",
    "\n",
    "if ??????????????:\n",
    "    print('Someone got a 7!')\n"
   ]
  },
  {
   "cell_type": "markdown",
   "metadata": {},
   "source": [
    "<br><br><br><br><br><br><br><br><br><br>"
   ]
  },
  {
   "cell_type": "markdown",
   "metadata": {},
   "source": [
    "### * How would you print `Exactly one winner!` if **exactly one** of `x` and `y` is `7`?"
   ]
  },
  {
   "cell_type": "code",
   "execution_count": null,
   "metadata": {},
   "outputs": [],
   "source": [
    "# EXAMPLE 1c: Exactly one 7\n",
    "# Of course, there are several ways to do this\n",
    "\n",
    "x = 5\n",
    "y = 7\n",
    "\n",
    "if ?????????????????:\n",
    "    print('Exactly one winner!')\n"
   ]
  },
  {
   "cell_type": "markdown",
   "metadata": {},
   "source": [
    "### * How would you print `Buzz` if a variable `x` is either a multiple of `7` or ends with the digit `7`?"
   ]
  },
  {
   "cell_type": "code",
   "execution_count": null,
   "metadata": {
    "collapsed": true,
    "jupyter": {
     "outputs_hidden": true
    }
   },
   "outputs": [],
   "source": [
    "# EXAMPLE 1d: Buzz\n",
    "\n",
    "x = 17\n",
    "\n",
    "if  ????????????????:\n",
    "    print('Buzz')\n"
   ]
  },
  {
   "cell_type": "markdown",
   "metadata": {},
   "source": [
    "<br><br><br><br><br><br><br><br><br><br>\n",
    "\n",
    "### * How would you write code which stores the absolute value of `x` into the variable `y`?  "
   ]
  },
  {
   "cell_type": "code",
   "execution_count": null,
   "metadata": {},
   "outputs": [],
   "source": [
    "# EXAMPLE 1e: Absolute value\n",
    "\n",
    "x = -3\n",
    "\n",
    "if \n",
    "\n",
    "\n",
    "\n",
    "\n",
    "\n",
    "print(y)\n"
   ]
  },
  {
   "cell_type": "markdown",
   "metadata": {},
   "source": [
    "<br><br><br><br><br><br><br><br><br><br>\n",
    "\n",
    "# 2. If-Elif-Else Chains\n",
    "\n",
    "### * If-else is great when you have two possibilites to choose from.  What if you have 3 possibilities, or 5? \n",
    "\n",
    "### * In that case, you might want an **_if-elif-else chain_**.  (\"Elif\" is short for \"else if\".)"
   ]
  },
  {
   "cell_type": "code",
   "execution_count": null,
   "metadata": {},
   "outputs": [],
   "source": [
    "# EXAMPLE 2a: Pie\n",
    "\n",
    "favorite = input('Please state your favorite type of pie: ')\n",
    "\n",
    "if favorite == 'Key Lime':\n",
    "    print('I agree, Key Lime pie is amazing')\n",
    "elif favorite == 'Pumpkin' or favorite == 'Apple':\n",
    "    print('Yeah, that\\'s good, but have you tried Key Lime?')\n",
    "elif favorite == 'Chocolate':\n",
    "    print('Christine likes chocolate pudding pie.  I don\\'t see the appeal.')\n",
    "else:\n",
    "    print('Hmm... I haven\\'t heard of that one.')"
   ]
  },
  {
   "cell_type": "markdown",
   "metadata": {},
   "source": [
    "<br><br><br><br><br><br><br><br><br><br>\n"
   ]
  },
  {
   "cell_type": "code",
   "execution_count": null,
   "metadata": {},
   "outputs": [],
   "source": [
    "IF-ELIF-ELSE CHAIN SYNTAX:\n",
    "\n",
    "\"...previous statements (unindented)...\"\n",
    "\n",
    "if <expr 1>:\n",
    "    <body 1>\n",
    "elif <expr 2>:\n",
    "    <body 2>\n",
    "elif <expr 3>:\n",
    "    <body 3>\n",
    "else:\n",
    "    <body 4>\n",
    "\n",
    "\"...further statements (unindented)...\""
   ]
  },
  {
   "cell_type": "markdown",
   "metadata": {},
   "source": [
    "### * Note that the `elif`'s go in the middle, and of course you can have more or less than 2.  \n",
    "\n",
    "### * The `else` at the end is optional.\n",
    "\n",
    "### * When this chain is encountered, the body corresponding to the FIRST logical expression which is `True` will be executed; all others will be ignored.\n",
    "\n",
    "### * If none of the logical expressions are `True`, then the `else` body will be executed (if there is one -- if not, nothing will get executed at all).\n",
    "\n",
    "<br><br><br><br><br><br><br><br><br><br>\n",
    "\n",
    "\n",
    "![IMAGE NOT FOUND](ifelsechain.png)\n",
    "\n",
    "### * Notice that **exactly one** of the bodies is executed.  (And if there were no `else`, then **at most one** body would be executed.)"
   ]
  },
  {
   "cell_type": "markdown",
   "metadata": {},
   "source": [
    "\n",
    "<br><br><br><br><br><br><br><br><br><br>\n",
    "\n",
    "# 3. Vowels\n",
    "\n",
    "### * Write a program which asks the user to put in a lowercase letter.  Then have it print out \n",
    "\n",
    "### `Always` if it is a,e,i,o,u; \n",
    "\n",
    "### `Sometimes` if it is y; \n",
    "\n",
    "### and `Never` otherwise."
   ]
  },
  {
   "cell_type": "code",
   "execution_count": 2,
   "metadata": {},
   "outputs": [
    {
     "name": "stdout",
     "output_type": "stream",
     "text": [
      "a\n"
     ]
    }
   ],
   "source": [
    "# EXAMPLE 3a: Vowels\n",
    "# Ask user to input a lowercase letter, then print out whether or not it is \n",
    "# a vowel always, sometimes, or never\n",
    "import random\n",
    "letter = input('Enter a lowercase letter: ')\n",
    "\n",
    "#\n",
    "# YOUR CODE HERE!\n",
    "#\n",
    "if letter == \"a\" or letter == \"e\" or letter == \"i\" or letter == \"o\" or letter == \"u\":\n",
    "    print(letter)\n",
    "elif letter == \"y\":\n",
    "    num = random.randrange(0,2)\n",
    "    if num ==1:\n",
    "        print(letter)\n",
    "else:\n",
    "    exit()"
   ]
  },
  {
   "cell_type": "markdown",
   "metadata": {},
   "source": [
    "\n",
    "<br><br><br><br><br><br><br><br><br><br>\n",
    "\n",
    "# 4. Bad Grades, Three Ways\n",
    "\n",
    "### * I have here three versions of a program.  The program is a (slightly lazy) grade converter.  It asks for a score, and then prints out `A` for 90-100, `B` for in the 80's, a `C or lower` for less than 80.  All versions have flaws.  "
   ]
  },
  {
   "cell_type": "code",
   "execution_count": null,
   "metadata": {},
   "outputs": [],
   "source": [
    "# EXAMPLE 4a: Flawed Grades, Version 1\n",
    "\n",
    "score = float(input('Enter score: '))\n",
    "\n",
    "if score >= 90:\n",
    "    print('A')\n",
    "else score >= 80:\n",
    "    print('B')\n",
    "else:\n",
    "    print('C or lower')\n",
    "    "
   ]
  },
  {
   "cell_type": "code",
   "execution_count": null,
   "metadata": {},
   "outputs": [],
   "source": [
    "# EXAMPLE 4b: Flawed Grades, Version 2\n",
    "\n",
    "score = float(input('Enter score: '))\n",
    "\n",
    "if score < 80:\n",
    "    print('C or lower')\n",
    "elif score >= 80:\n",
    "    print('B')\n",
    "elif score >= 90:\n",
    "    print('A')\n"
   ]
  },
  {
   "cell_type": "code",
   "execution_count": null,
   "metadata": {},
   "outputs": [],
   "source": [
    "# EXAMPLE 4c: Flawed Grades, Version 3\n",
    "\n",
    "score = float(input('Enter score: '))\n",
    "\n",
    "if score >= 90:\n",
    "    print('A')\n",
    "if score >= 80:\n",
    "    print('B')\n",
    "else:\n",
    "    print('C or lower')"
   ]
  },
  {
   "cell_type": "markdown",
   "metadata": {},
   "source": [
    "<br><br><br><br><br><br><br><br><br><br>\n",
    "\n",
    "# 5. Nested If Statements and Pseudo-code\n",
    "\n",
    "### * You can put if (or if-else) statements inside one another.  They frequently come up when, in an if statement, the `True` branch is significantly different than the `False` branch.\n",
    "\n",
    "### * Example: 2 questions! The program we're about to write will allow the user to think of an animal; the program then asks questions, which the user answers, and based on that it tries to read your mind.  (It doesn't do a very good job, unless you happen to be thinking of a dog, cat, bird or fish -- in which case it works!) \n",
    "\n",
    "![IMAGE NOT FOUND!!!!!!!!!!!!!!](20questions.png)\n",
    "\n",
    "### * Translate from the top down.  Start by looking at the top question.  **Everything** coming out of the top \"yes\" arrow should be inside the `if` block; and **everything** coming out of the top \"no\" arrow should be inside the `else` block.  "
   ]
  },
  {
   "cell_type": "code",
   "execution_count": null,
   "metadata": {},
   "outputs": [],
   "source": [
    "# EXAMPLE 5a: 20 questions\n",
    "\n",
    "print('Think of an animal, then press Enter.')\n",
    "\n",
    "# Here is a trick to make your program have a dramatic pause.\n",
    "input()\n",
    "\n",
    "print('I\\'m going to try and guess it now.')\n",
    "\n",
    "input()\n",
    "\n",
    "first_ans = input('Is it a mammal? ')\n",
    "\n",
    "\n",
    "if first_ans == 'y':\n",
    "    second_ans = input('Does it bark? ')   #\n",
    "    if second_ans == 'y':                  #  These 5 lines are \n",
    "        print('It\\'s a dog!')              #  the 'if' block for the\n",
    "    else:                                  #  first 'if-else' statement.\n",
    "        print('It\\'s a cat!')              #\n",
    "else:\n",
    "    second_ans = input('Does it fly? ')    #\n",
    "    if second_ans == 'y':                  #  These 5 lines are \n",
    "        print('It\\'s a bird!')             #  the 'else' block for the\n",
    "    else:                                  #  first 'if-else' statement.\n",
    "        print('It\\'s a fish!')             #\n",
    "    "
   ]
  },
  {
   "cell_type": "markdown",
   "metadata": {},
   "source": [
    "\n",
    "<br><br><br><br><br><br><br><br><br><br>\n",
    "\n",
    "### * **_pseudo-code_** means the steps of the program written down in English, arranged to resemble source code, but without worrying about the details inherent in programming correct steps -- like proper variable names, data types, etc.  \n",
    "\n",
    "### * For this flowchart:"
   ]
  },
  {
   "cell_type": "code",
   "execution_count": null,
   "metadata": {},
   "outputs": [],
   "source": [
    "Ask if it is a mammal\n",
    "If it is a mammal:\n",
    "    Ask if it barks\n",
    "    If it barks:\n",
    "        It is a dog\n",
    "    Otherwise:\n",
    "        It is a cat\n",
    "Otherwise (if it is not a mammal):\n",
    "    Ask if it flies\n",
    "    If it flies:\n",
    "        It is a bird\n",
    "    Otherwise:\n",
    "        It is a fish"
   ]
  },
  {
   "cell_type": "markdown",
   "metadata": {},
   "source": [
    "<br><br><br><br><br><br><br><br><br><br>\n",
    "\n",
    "# 6. What Should I Do Today?\n",
    "\n",
    "### * Now, code this flow chart!\n",
    "\n",
    "![IMAGE NOT FOUND!!!!!!!!!!!!](weather.png)"
   ]
  },
  {
   "cell_type": "code",
   "execution_count": 3,
   "metadata": {},
   "outputs": [
    {
     "name": "stdout",
     "output_type": "stream",
     "text": [
      "Build snowman\n"
     ]
    }
   ],
   "source": [
    "# EXAMPLE 6a: Weather\n",
    "\n",
    "first_ans = input('Raining? ')\n",
    "if first_ans == 'y':\n",
    "    print('Read a book')\n",
    "else:\n",
    "    second_ans = input(\"Cold? \")\n",
    "    if second_ans == \"y\":\n",
    "        third_ans = input(\"Snowing? \")\n",
    "        if third_ans == \"y\":\n",
    "            print('Build snowman')\n",
    "        else:\n",
    "            print('Curl up by fire')\n",
    "    else:\n",
    "        print('Go to the park')\n"
   ]
  },
  {
   "cell_type": "markdown",
   "metadata": {},
   "source": [
    "\n",
    "<br><br><br><br><br><br><br><br><br><br>\n",
    "\n",
    "# 7. Using `bool` Variables\n",
    "\n",
    "### * Suppose you want to check that three sides of a triangle, `a`, `b` and `c`, are entered in descending order, are all greater than 0, and satisfy the triangle inequality (that the sum of any two sides is always greater than the third)?\n",
    "\n",
    "### * One way to code this:"
   ]
  },
  {
   "cell_type": "code",
   "execution_count": null,
   "metadata": {},
   "outputs": [],
   "source": [
    "if (a >= b) and (b >= c) and (a > 0) and (b > 0) and (c > 0) and (a + b > c) and (a + c > b) and (b + c > a):\n",
    "    # Solve triangle\n",
    "else:\n",
    "    # Print error message\n",
    "# (Let's ignore the fact that for mathematical reasons, there's some redundancy in the above.)"
   ]
  },
  {
   "cell_type": "markdown",
   "metadata": {},
   "source": [
    "\n",
    "<br><br><br><br><br><br><br><br><br><br>\n",
    "\n",
    "### * Here's an alternative, more digestible way to deal with this statement, using `bool` variables (or *flags*). "
   ]
  },
  {
   "cell_type": "code",
   "execution_count": null,
   "metadata": {},
   "outputs": [],
   "source": [
    "# EXAMPLE 7a: Using bools\n",
    "\n",
    "a = 7\n",
    "b = 8\n",
    "c = 1000\n",
    "\n",
    "in_order = (a >= b) and (b >= c)\n",
    "all_positive = (a > 0) and (b > 0) and (c > 0)\n",
    "satisfies_triangle_ineq = (a + b > c) and (a + c > b) and (b + c > a)\n",
    "\n",
    "if in_order and all_positive and satisfies_triangle_ineq:\n",
    "    print('Solving triangle...(not really, laziness)')\n",
    "else:\n",
    "    if not in_order:\n",
    "        print('Out of order')\n",
    "    if not all_positive:\n",
    "        print('Non-positive side entered')\n",
    "    if not satisfies_triangle_ineq:\n",
    "        print('Your sides don\\'t satisfy the triangle inequality')\n",
    "        \n",
    "# PS Why did I NOT use elif here?"
   ]
  },
  {
   "cell_type": "markdown",
   "metadata": {},
   "source": [
    "\n",
    "### * When you see an `if` statement without `==`'s or `>`'s or the like, *don't freak out -- evaluate*!  Evaluate the whole logical expression, like before.  If the expression evaluates to `True`, then the statement prints; if it evaluates to `False`, then the statement doesn't print.\n",
    "\n"
   ]
  },
  {
   "cell_type": "markdown",
   "metadata": {},
   "source": [
    "\n",
    "<br><br><br><br><br><br><br><br><br><br>\n",
    "# 8. The Same Name Game \n",
    "\n",
    "### * The next program is meant to allow the user to enter 4 names.  At the end, the program should answer the question: \n",
    "\n",
    "*Did the user ever enter the same name twice in a row?* \n",
    "\n",
    "### (If a name was entered three times in a row, or two different names were each entered twice in a row, we'll still answer \"yes\".)  \n",
    "\n",
    "### * Since we'll need the answer to a yes or no question at the end, we'll use a `bool` variable to store the answer.  (We may need to debug a little at the end.)"
   ]
  },
  {
   "cell_type": "code",
   "execution_count": null,
   "metadata": {},
   "outputs": [],
   "source": [
    "# EXAMPLE 8a: Same Name Twice In A Row \n",
    "# We may need to fix a couple of things.\n",
    "\n",
    "# repeat_yet will contain the answer to the question: 'have two identical names been entered consecutively yet?'\n",
    "# What should repeat_yet be initialized to?\n",
    "repeat_yet =\n",
    "\n",
    "name1 = input('First name: ')\n",
    "name2 = input('Second name: ')\n",
    "\n",
    "if name1 == name2:\n",
    "    repeat_yet = True\n",
    "else:\n",
    "    repeat_yet = False\n",
    "    \n",
    "name3 = input('Third name: ')\n",
    "\n",
    "if name2 == name3:\n",
    "    repeat_yet = True\n",
    "else:\n",
    "    repeat_yet = False\n",
    "\n",
    "name4 = input('Fourth name: ')\n",
    "\n",
    "if name3 == name4:\n",
    "    repeat_yet = True\n",
    "else:\n",
    "    repeat_yet = False\n",
    "\n",
    "    \n",
    "if repeat_yet:\n",
    "    print('There were two consecutive entries that were the same.')\n",
    "else:\n",
    "    print('No consecutive repeats.')"
   ]
  }
 ],
 "metadata": {
  "kernelspec": {
   "display_name": "Python 3 (ipykernel)",
   "language": "python",
   "name": "python3"
  },
  "language_info": {
   "codemirror_mode": {
    "name": "ipython",
    "version": 3
   },
   "file_extension": ".py",
   "mimetype": "text/x-python",
   "name": "python",
   "nbconvert_exporter": "python",
   "pygments_lexer": "ipython3",
   "version": "3.10.10"
  },
  "name": "_merged_merged"
 },
 "nbformat": 4,
 "nbformat_minor": 4
}
