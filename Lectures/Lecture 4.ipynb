{
 "cells": [
  {
   "cell_type": "markdown",
   "metadata": {},
   "source": [
    "# Lecture 4\n",
    "\n",
    "### Comparisons and `bool`s; Some More String Basics; Escape Charactersl Syntax Errors; Runtime Errors; Semantic Errors; Pretty Printing with f-Strings; Format Specifiers"
   ]
  },
  {
   "cell_type": "markdown",
   "metadata": {},
   "source": [
    "# 1. Comparisons and `bool`s\n",
    "\n",
    "### * Having an answer which is off by 0.00000000000000004 rarely leads to practical difficulties for your code.  \n",
    "\n",
    "### * However, there is one place where `float` imprecision can lead to huge differences: comparisons."
   ]
  },
  {
   "cell_type": "code",
   "execution_count": null,
   "metadata": {},
   "outputs": [],
   "source": [
    "# EXAMPLE 1a: Float imprecision and comparisons\n",
    "\n",
    "print(1 + 2 <= 3)       # Would you say that 1 + 2 <= 3 is a True statement?\n",
    "print(0.1 + 0.2 <= 0.3) # Would you say that 0.1 + 0.2 <= 0.3 is a True statement?\n",
    "                        # Python disagrees with you on the second one."
   ]
  },
  {
   "cell_type": "markdown",
   "metadata": {},
   "source": [
    "<br><br><br><br><br><br><br><br><br><br>\n",
    "\n",
    "### * BTW, `1 + 2 <= 3` and `0.1 + 0.2 <= 0.3` are expressions that you can evaluate -- but the values you get are not numbers, but the logical values `True` and `False`.  \n",
    "\n",
    "\n",
    "### * The logical values are so important that they get their own data type: `bool` (short for Boolean, after the famous logician George Boole). If you type `True` or `False` into Python code -- NOT in quotes -- Python will treat that value as a `bool` literal.  See below. "
   ]
  },
  {
   "cell_type": "code",
   "execution_count": null,
   "metadata": {},
   "outputs": [],
   "source": [
    "# EXAMPLE 1b: bool literals\n",
    "\n",
    "my_bool = True             #  This is what bool\n",
    "another_bool = False       #  literals look like.\n",
    "one_more = (4 > 5)\n",
    "\n",
    "print(my_bool, another_bool, one_more)"
   ]
  },
  {
   "cell_type": "markdown",
   "metadata": {},
   "source": [
    "<br><br><br><br><br><br><br><br><br><br>\n",
    "\n",
    "# 2.  Some More String Basics\n",
    "\n",
    "### * Basic string operations include `+`, `len()` as we discussed before.\n",
    "\n",
    "### * Also, if you multiply a `str` by a positive `int`, it concatenates it with itself the given number of times.\n",
    "\n",
    "### * And the *index operator*, represented by a pair of square brackets.  It works as follows: `x[i]` will produce the i+1 st character of the string `x` (where the count includes spaces).\n",
    "\n",
    "### * Negative indices: `x[-1]` will retrieve the last character, `x[-2]` will receive the second-to-last character, and so on.  \n",
    "\n",
    "### * If you provide an invalid index, you will get an Index Error.\n"
   ]
  },
  {
   "cell_type": "code",
   "execution_count": null,
   "metadata": {},
   "outputs": [],
   "source": [
    "# EXAMPLE 2: Strings\n",
    "a = 'yo'\n",
    "b = 'ma'\n",
    "print(2 * a + b)  # Precedence?\n",
    "\n",
    "x = 'Hi!  Ho? '\n",
    "print(x[0], x[1], x[2], x[6])\n",
    "\n",
    "# If you put in a negative index, it counts from the end (but not zero-based)\n",
    "print(x[-2]) \n",
    "\n",
    "# And this will cause an index error\n",
    "x[100]"
   ]
  },
  {
   "cell_type": "markdown",
   "metadata": {},
   "source": [
    "<br><br><br><br><br><br><br><br><br><br>\n",
    "\n",
    "\n",
    "# 3. Escape Characters\n",
    "\n",
    "### * Imagine that I wanted to store the following literal in a single string variable -- do you see the problem?\n",
    "\n",
    "`Shane's class is a non-stop thrill ride.`\n",
    "\n"
   ]
  },
  {
   "cell_type": "code",
   "execution_count": null,
   "metadata": {},
   "outputs": [],
   "source": [
    "# EXAMPLE 3a: A troublesome string literal\n",
    "# Look at the coloring of the code below -- it gives a big hint\n",
    "# about what the problem is.\n",
    "\n",
    "sentence = 'Shane's class is a non-stop thrill ride.'\n",
    "print(sentence)"
   ]
  },
  {
   "cell_type": "markdown",
   "metadata": {},
   "source": [
    "### * The apostrophe, which we want to be a character within the string, accidentally ends the string!\n",
    "\n",
    "<br><br><br><br><br><br><br><br><br><br>\n",
    "\n",
    "### * There are a few characters that, for one reason or another, are tricky to include in strings because Python confuses them with important language features.  \n",
    "\n",
    "### * To type these, Python (and many languages) have the so-called **_escape characters_**.  They are all typed as a backslash(`\\`) and one more keystroke; and they are used to represent these tricky characters.  Examples: \n",
    "\n",
    "\n",
    "### --- `\\'`: if you want to see the quote mark character, you can use backslash-', and then that quote won't be interpreted as the end of the string.\n",
    "\n",
    "### --- `\\n`: is the newline character.  If this is included in a string literal, then when that literal is printed, the slash and n will not be displayed -- in their place, you will see your output with part of it on a new line (the part after the backslash n).\n",
    "\n",
    "### --- `\\\\`: what if you actually truly want to see the backslash character?  You use two backslashes.\n"
   ]
  },
  {
   "cell_type": "code",
   "execution_count": null,
   "metadata": {},
   "outputs": [],
   "source": [
    "# EXAMPLE 3b: Escape characters\n",
    "\n",
    "sentence = 'Shane said \\'escape sequences are helpful\\' and we nodded knowingly.'\n",
    "print(sentence)\n",
    "\n",
    "forget = '\\nHe also said... \\n\\n ...actually, I can\\'t remember what else he said.\\n'\n",
    "print(forget)\n",
    "\n",
    "slash = 'I guess I wasn\\'t \\\\\\\\listening//.'\n",
    "print(slash)"
   ]
  },
  {
   "cell_type": "markdown",
   "metadata": {},
   "source": [
    "<br><br><br><br><br><br><br><br><br><br>\n",
    "\n",
    "# 5. Pretty Printing with f-Strings\n",
    "\n",
    "### *  I'll start by just showing an example."
   ]
  },
  {
   "cell_type": "code",
   "execution_count": null,
   "metadata": {},
   "outputs": [],
   "source": [
    "# EXAMPLE 7a: Introducing f-strings\n",
    "\n",
    "nnn = input('Enter a name: ')\n",
    "\n",
    "           # See that letter f immediately prior to the quote?\n",
    "           # That makes this string an \"f-string\"\n",
    "nametag = f'Hello my name is {nnn}, nice to meet you!'\n",
    "\n",
    "print(nametag)\n",
    "\n",
    "# Notice: the bit in the curly braces is removed, and replaced with \n",
    "# the value of the variable nnn!"
   ]
  },
  {
   "cell_type": "markdown",
   "metadata": {},
   "source": [
    "<br><br><br><br><br><br><br><br><br><br>\n",
    "\n",
    "### * An **_f-string_** is a string literal typed with the letter `f` immediately in front of the open quote.  The \"f\" stands for \"formatted\". \n",
    "\n",
    "### * An f-string will probably have one or more pairs of curly braces embedded between the quotes -- and inside of each pair of curly braces, you will probably find the name of a variable.  Python will automatically *format* such a string for you, by replacing the curly braces with the value of the included variable.  It will also preserve the rest of the string, including spaces!\n",
    "\n",
    "### * For example, in the example above, if `nnn` had the value `Evan`, then the Python interpreter will automatically convert\n",
    "\n",
    "`f'Hello my name is {nnn}, nice to meet you!'`\n",
    "\n",
    "### to\n",
    "\n",
    "`'Hello my name is Evan, nice to meet you!'`\n",
    "\n"
   ]
  },
  {
   "cell_type": "code",
   "execution_count": null,
   "metadata": {},
   "outputs": [],
   "source": [
    "# EXAMPLE 7b: Madlibs\n",
    "\n",
    "food = input('Enter the name of a food: ') # pretzel\n",
    "adjective = input('Enter an adjective: ')  # thirsty\n",
    "\n",
    "# Finish this line so that it reads \n",
    "# \"These pretzels are making me thirsty.\"  (if you use my suggestions)\n",
    "# using an f-string \n",
    "\n",
    "\n",
    "\n",
    "print(madlib)\n"
   ]
  },
  {
   "cell_type": "markdown",
   "metadata": {},
   "source": [
    "<br><br><br><br><br><br><br><br><br><br>\n",
    "\n",
    "# 6. Format Specifiers\n",
    "\n",
    "### * In each pair of curly braces you can put *format specifiers* which can further help you control the exact appearance of printed values.  \n",
    "\n",
    "### * We'll look at two types: column specifiers and float specifiers."
   ]
  },
  {
   "cell_type": "code",
   "execution_count": 1,
   "metadata": {},
   "outputs": [
    {
     "name": "stdout",
     "output_type": "stream",
     "text": [
      "Evan     | 4\n",
      "Joe      | 10\n",
      "Christine| 7\n"
     ]
    }
   ],
   "source": [
    "# EXAMPLE 6a: Column Specifiers\n",
    "\n",
    "# If you put  :9  after a variable within curly braces, Python\n",
    "# will print out 9 characters in place of the braces:\n",
    "# the first few will be filled by the variable's value, and \n",
    "# the rest will be spaces.\n",
    "\n",
    "name = 'Evan'\n",
    "score = 4\n",
    "\n",
    "print( f'{name:9}| {score}')\n",
    "\n",
    "name = 'Joe'\n",
    "score = 10\n",
    "\n",
    "print( f'{name:9}| {score}')\n",
    "\n",
    "name = 'Christine'\n",
    "score = 7\n",
    "\n",
    "print( f'{name:9}| {score}')\n",
    "\n",
    "# Observe the nice columns below!"
   ]
  },
  {
   "cell_type": "code",
   "execution_count": 2,
   "metadata": {},
   "outputs": [
    {
     "name": "stdout",
     "output_type": "stream",
     "text": [
      "One seventh is equal to approximately 0.14286\n",
      "One tenth is equal to approximately 0.10000\n"
     ]
    }
   ],
   "source": [
    "# EXAMPLE 6b: Float Specifiers\n",
    "\n",
    "# If you place .5f after a FLOAT variable, it will display that value\n",
    "# with exactly 5 places after the decimal. \n",
    "\n",
    "x = 1/7\n",
    "print(f'One seventh is equal to approximately {x:.5f}')\n",
    "\n",
    "y = 1/10\n",
    "print(f'One tenth is equal to approximately {y:.5f}')\n",
    "\n",
    "# f-strings will round appropriately for you!\n",
    "# Note that they do NOT change the value of x or y,\n",
    "# just how they appear on one printed line."
   ]
  },
  {
   "cell_type": "markdown",
   "metadata": {},
   "source": [
    "<br><br><br><br><br><br><br><br><br><br>\n",
    "\n",
    "### * Fix this code so that the output looks proper, like (for example, with 6 people)\n",
    "\n",
    "`Each person pays: $16.92`\n",
    "\n",
    "### * The price is displayed with no space after the dollar sign, and rounded to two decimal places.\n"
   ]
  },
  {
   "cell_type": "code",
   "execution_count": null,
   "metadata": {},
   "outputs": [],
   "source": [
    "# EXAMPLE 6c: Split the bill\n",
    "\n",
    "# NOTICE: We've put   input()  inside of int(  ), on one line!\n",
    "n = int(input('Number of people: '))\n",
    "\n",
    "bill = 101.53\n",
    "share = bill/n\n",
    "\n",
    "print('Each person pays: $', share)\n"
   ]
  },
  {
   "cell_type": "markdown",
   "metadata": {},
   "source": [
    "<br><br><br><br><br><br><br><br><br><br>\n",
    "\n",
    "# 7. Syntax Errors\n",
    "\n",
    "### * Three basic types of errors: **_syntax_**, **_runtime_** and **_semantic_** errors.  \n",
    "\n",
    "### * Syntax errors occur when your program can't be understood by the interpreter.  This typically happens because you've put symbols together in an order the language doesn't recognize: putting more than one variable on the left side of an equal sign, starting a variable name with a number, or unbalanced parentheses(!!!!!!!!!!!!!!!!!!!!!!!!!!!!!!!!!!!!!!!!!!!!).  \n",
    "\n",
    "### * If your program has a syntax error anywhere in it, your program won't even begin to run."
   ]
  },
  {
   "cell_type": "code",
   "execution_count": null,
   "metadata": {},
   "outputs": [],
   "source": [
    "# EXAMPLE 7a: Syntax Errors\n",
    "# Any of these lines anywhere in your program will cause Python to\n",
    "# be so confused that it won't even attempt to run your program\n",
    "\n",
    "# The assignment operator needs a variable on the left side!\n",
    "4 + 2 = x\n",
    "\n",
    "# Python sees a 3 at the beginning, and it thinks it's dealing\n",
    "# with a number; it then gets very confused when it then sees \"x\"\n",
    "y = 3x # Try 3*x instead.\n",
    "\n",
    "# GOLDEN RULE OF PARENTHESES: number of opens = number of closes\n",
    "# (This is necessary, but not sufficient, for correctness)\n",
    "y = 2 + ((4 + 5)/(6 - 7)\n"
   ]
  },
  {
   "cell_type": "markdown",
   "metadata": {},
   "source": [
    "<br><br><br><br><br><br><br><br><br><br>\n",
    "\n",
    "# 8. Runtime Errors\n",
    "\n",
    "### * **_Runtime_** errors occur when Python can at least figure out what all your variables and operations are, but can't execute them for whatever reason.  \n",
    "\n",
    "### * Examples:\n",
    "\n",
    "### --- `NameError`: when you've referenced a variable prior to definition (arises oftern from typos)\n",
    "\n",
    "### --- `TypeError`: when you try to use an operation on an inappropriate type of data\n",
    "\n",
    "### --- `ZeroDivisionError`: `/0`, `//0`, `%0` are all bad.\n",
    "\n",
    "### --- `ValueError`: when the operation you've attempted is defined for the data types you've attempted it with, but not for those particular values.  For example, `int('abc')`.\n",
    "\n",
    "### --- `IndexError`: when you try to lookup a character in a string at a position which is invalid.  For example, `x[10]` when `x` is the string `'abc'`.\n"
   ]
  },
  {
   "cell_type": "code",
   "execution_count": null,
   "metadata": {},
   "outputs": [],
   "source": [
    "# EXAMPLE 8a: Name Errors\n",
    "# Try removing some of these lines to see what the interpreter yells at you about for each one.\n",
    "\n",
    "# At the time that print(yyz) is encountered, there is no yyz variable yet\n",
    "print(yyz)\n",
    "yyz = 4\n",
    "\n",
    "# Typos can be considered a special case of the above: you try to tell Python to print the line, but\n",
    "# the interpreter thinks you are introducing a new variable with the slightly-different name \"abce\"\n",
    "abcde = 'Look out for the missing letter d on the next line'\n",
    "print(abce)\n"
   ]
  },
  {
   "cell_type": "code",
   "execution_count": null,
   "metadata": {},
   "outputs": [],
   "source": [
    "# EXAMPLE 8b: Other Runtime Errors\n",
    "# Try removing some of the hashtags to observe the various errors.\n",
    "\n",
    "#'Hello' + 3   # TypeError\n",
    "\n",
    "\n",
    "#5 / 0         # ZeroDivisionError\n",
    "\n",
    "\n",
    "#int('1.2')    # ValueError\n",
    "\n",
    "\n",
    "x = 'Hi'\n",
    "#x[10]         # IndexError"
   ]
  },
  {
   "cell_type": "markdown",
   "metadata": {},
   "source": [
    "<br><br><br><br><br><br><br><br><br><br>\n",
    "\n",
    "# 9. Semantic Errors, and Debugging\n",
    "\n",
    "### * **_Semantic_** errors are errors that don't prevent the program from running, but which give undesired (that is to say, wrong) outputs.  "
   ]
  },
  {
   "cell_type": "code",
   "execution_count": 1,
   "metadata": {},
   "outputs": [
    {
     "name": "stdout",
     "output_type": "stream",
     "text": [
      "50\n",
      "farenheit is the same as\n",
      "10.0\n",
      "celsius.\n",
      "\n",
      "60\n",
      "farenheit is the same as\n",
      "10.0\n",
      "celsius.\n"
     ]
    }
   ],
   "source": [
    "# EXAMPLE 9a: Temperature conversion\n",
    "# This is supposed to convert 50F and 60F to Celsius.  It doesn't work -- why?\n",
    "\n",
    "farentemp = 50\n",
    "celtemp = (farentemp-32)/1.8\n",
    "print(farentemp)\n",
    "print('farenheit is the same as')\n",
    "print(celtemp)\n",
    "print('celsius.')\n",
    "\n",
    "print()\n",
    "\n",
    "farentemp = 60\n",
    "print(farentemp)\n",
    "print('farenheit is the same as')\n",
    "print(celtemp)\n",
    "print('celsius.')\n"
   ]
  },
  {
   "cell_type": "markdown",
   "metadata": {},
   "source": [
    "<br><br><br><br><br><br><br><br><br><br>\n",
    "\n",
    "### * **_Debugging_** is a huge part of programming.  There are three main tricks we'll use to locate bugs:\n",
    "\n",
    "### 1. For syntax/runtime errors, read the interpreter reports -- try your best, and be aware that the error might be **on an earlier line**.\n",
    "\n",
    "### 2. Do walkthroughs of your program, carefully executing lines as the interpreter should, and keeping track of variable values at all moments.\n",
    "\n",
    "### 3. Print statements/ variable inspection: you should have an idea of what values all your variables hold at every point in your program, and you can confirm or deny your suspicions by inspecting their values at those points.\n",
    "\n",
    "### * A key to success in this class: **__WHEN YOU ENCOUNTER A BUG, DON'T JUST FIX IT -- UNDERSTAND IT.__**\n",
    "\n",
    "<br><br><br><br><br><br><br><br><br><br>\n",
    "\n",
    "### * A classic: suppose you want to swap the values of two variables.  I.e., suppose that `x = 3` and `y = 4`, and you want to change that so `x = 4` and `y = 3`.  "
   ]
  },
  {
   "cell_type": "code",
   "execution_count": null,
   "metadata": {},
   "outputs": [],
   "source": [
    "# EXAMPLE 9b: Swap\n",
    "\n",
    "x = 3\n",
    "y = 4\n",
    "\n",
    "# Now I want to switch the values (without cheating and just writing x = 4 and y = 3\n",
    "# directly).  So I try:\n",
    "\n",
    "x = y\n",
    "y = x\n",
    "\n",
    "# What's going to happen when I print these values?"
   ]
  }
 ],
 "metadata": {
  "kernelspec": {
   "display_name": "Python 3 (ipykernel)",
   "language": "python",
   "name": "python3"
  },
  "language_info": {
   "codemirror_mode": {
    "name": "ipython",
    "version": 3
   },
   "file_extension": ".py",
   "mimetype": "text/x-python",
   "name": "python",
   "nbconvert_exporter": "python",
   "pygments_lexer": "ipython3",
   "version": "3.10.10"
  },
  "name": "_merged_merged"
 },
 "nbformat": 4,
 "nbformat_minor": 4
}
