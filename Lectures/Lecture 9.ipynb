{
 "cells": [
  {
   "cell_type": "markdown",
   "metadata": {},
   "source": [
    "# Lecture 9\n",
    "\n",
    "### `for` Loops; The Rules of Loops; Read a Loop; Words; Accumulating Sums and Products; Counting; Repeating 50 Times With `range()`s; Saving `n` Entries; Sigma Notation"
   ]
  },
  {
   "cell_type": "markdown",
   "metadata": {},
   "source": [
    "# 1. `for` Loops\n",
    "\n",
    "### * It's time."
   ]
  },
  {
   "cell_type": "code",
   "execution_count": null,
   "metadata": {},
   "outputs": [],
   "source": [
    "# EXAMPLE 1a: 1 + 2 + 3 + 4 + ... + 1000000\n",
    "\n",
    "running_sum = 0\n",
    "for my_number in range(1, 10**6 + 1):\n",
    "    running_sum = running_sum + my_number\n",
    "print(running_sum)"
   ]
  },
  {
   "cell_type": "markdown",
   "metadata": {},
   "source": [
    "### * How do you get the computer to execute a million instructions with 4 lines of code?  With a **loop**.\n",
    "\n",
    "### * `range(1, 10**6 + 1)` is, more or less, the list `[1, 2, 3, 4, ..., 1000000]`.\n",
    "\n",
    "### * `my_number` is just a plain-old variable name.  \n",
    "\n",
    "### * `for ... in ...` means: assign `my_number` to be the first list element, and run the body; assign `my_number` to be the second list element, and run the body AGAIN; then repeat over and over again, until you reach the end of the list.\n",
    "\n",
    "<br><br><br><br><br><br><br><br><br><br>\n",
    "\n",
    "# 2. The Rules of `for` Loops"
   ]
  },
  {
   "cell_type": "code",
   "execution_count": null,
   "metadata": {
    "collapsed": true,
    "jupyter": {
     "outputs_hidden": true
    }
   },
   "outputs": [],
   "source": [
    "BASIC FOR LOOP SYNTAX:\n",
    "\n",
    "\"... previous statements ...\"\n",
    "for <target var> in <list>:\n",
    "    <body, indented>\n",
    "    <some statements will likely involve <target var> >\n",
    "\"... further statements, unindented...\""
   ]
  },
  {
   "cell_type": "markdown",
   "metadata": {},
   "source": [
    "### * This does the following.\n",
    "\n",
    "### --- First, `<target var>` will be assigned the first value from the `<list>`.\n",
    "### --- Then, `<body>` will execute.\n",
    "### --- Once that is finished, `<target var>` will be assigned the second value from the `<list>`...\n",
    "### --- ...and `<body>` executes again, with `<target var>` assigned to the new value.\n",
    "### --- And so on until you've reached the end of the list.  At this point, statements after the `<body>` are executed.\n",
    "\n",
    "### * Once again, indenting is important!  The part of the code that gets repeated is everything after the `for` line, until you get to a non-indented line.\n",
    "\n",
    "<br><br><br><br><br>\n",
    "<br><br><br><br><br>\n",
    "\n",
    "\n",
    "\n",
    "\n",
    "![IMAGE NOT FOUND!!!!!!!!!!](forloop.png)"
   ]
  },
  {
   "cell_type": "code",
   "execution_count": null,
   "metadata": {},
   "outputs": [],
   "source": [
    "# EXAMPLE 2a: Let's look at a loop carefully.\n",
    "\n",
    "words = ['Apple', 'Banana', 'Cauliflower']\n",
    "\n",
    "for w in words:\n",
    "    num_letters = len(w)\n",
    "    print(f'{w} has {num_letters} letters.')\n",
    "    \n",
    "print(words)"
   ]
  },
  {
   "cell_type": "markdown",
   "metadata": {},
   "source": [
    "### * At the very beginning, `words` is created.  \n",
    "\n",
    "### * Then, we arrive at the loop.  Here's what happens:\n",
    "\n",
    "### --- `w` is assigned the first element of the list, which is `Apple`.\n",
    "### --- The body of the loop, two lines, is executed.\n",
    "### --- Since this is a loop, you don't go on -- you go back to the beginning of the loop, and make `w` the **next** entry in the list, which is `Banana`.\n",
    "### --- Then, you execute the two lines of the body again.\n",
    "### --- Since this is a loop, you don't go on -- you go back to the beginning of the loop, and make `w` the **next** entry in the list, which is `Cauliflower`.\n",
    "### --- Then, you execute the two lines of the body again.\n",
    "### --- Since this is a loop, you don't go on -- you go back to the beginning of the loop, and make `w` the **next** entry in the list -- but wait, there *is* no next element!  So you proceed past the loop body.\n",
    "\n",
    "<br><br><br><br><br><br><br><br><br><br>\n",
    "\n",
    "# 3. Read a Loop"
   ]
  },
  {
   "cell_type": "code",
   "execution_count": 1,
   "metadata": {},
   "outputs": [
    {
     "name": "stdout",
     "output_type": "stream",
     "text": [
      "5\n",
      "10\n",
      "Match\n",
      "11\n",
      "That was fun.\n"
     ]
    }
   ],
   "source": [
    "# EXAMPLE 3a: Basic Example\n",
    "# Let's analyze what's happening, then remove the \"\"\"\n",
    "\n",
    "my_list = [3, 5, 1]\n",
    "variable = 2\n",
    "\n",
    "for x in my_list:\n",
    "    variable = variable + x\n",
    "    print(variable)\n",
    "    if variable == x + 5:\n",
    "        print('Match')\n",
    "print('That was fun.')\n"
   ]
  },
  {
   "cell_type": "markdown",
   "metadata": {},
   "source": [
    "<br><br><br><br><br>\n",
    "<br><br><br><br><br>\n",
    "\n",
    "# 4. Words\n",
    "\n",
    "### * Take the following list and write code which prints out every element, each on different lines, but with a `*` before each element:\n",
    "\n",
    "`* Apple` <br>\n",
    "`* Ball` <br>\n",
    "`* Animal` <br>\n",
    ".... <br>\n",
    "`* Beware`\n",
    "\n",
    "### * **Then**, write code which prints out only the elements from the list which begin with the letter `B`."
   ]
  },
  {
   "cell_type": "code",
   "execution_count": null,
   "metadata": {},
   "outputs": [],
   "source": [
    "# EXAMPLE 4a: B Words\n",
    "\n",
    "word_list = ['Apple', 'Ball', 'Animal', 'Bell', 'Band', 'Carrot', 'Angry', 'Banana', 'Bear', 'Attic', 'Candle', 'Cup', 'Beware']\n",
    "\n",
    "# Print out every word, as above\n",
    "\n",
    "\n",
    "\n",
    "\n",
    "\n",
    "# Now, print out only the B Words\n",
    "\n",
    "\n",
    "\n"
   ]
  },
  {
   "cell_type": "markdown",
   "metadata": {},
   "source": [
    "<br><br><br><br><br><br><br><br><br><br>\n",
    "\n",
    "# 5. Accumulating Sums and Products (and `+=`)\n",
    "\n",
    "\n",
    "#### *  Loops are useful for sums and products of lists.\n",
    "\n",
    "#### * Strategy: \n",
    "#### --- start with \"empty\" accumulator variable\n",
    "#### --- update it by addition or multiplication each time through the loop.\n"
   ]
  },
  {
   "cell_type": "code",
   "execution_count": null,
   "metadata": {},
   "outputs": [],
   "source": [
    "# EXAMPLE 5a: Accumulating sum/product\n",
    "\n",
    "big_list_o_numbers = [15,72,1,84,52,48,83,26,94,58,73,95,51,73]\n",
    "\n",
    "# Let's add'em up.\n",
    "# Initialize sum to zero.\n",
    "running_sum = 0\n",
    "\n",
    "for num in big_list_o_numbers:\n",
    "    running_sum = running_sum + num\n",
    "    \n",
    "print('Sum is:', running_sum)\n",
    "\n",
    "# Let's multiply'em.\n",
    "# Initialize prod to ONE.\n",
    "running_prod = 1 \n",
    "\n",
    "for num in big_list_o_numbers:\n",
    "    running_prod = running_prod * num\n",
    "    \n",
    "print('Product is:', running_prod)\n"
   ]
  },
  {
   "cell_type": "markdown",
   "metadata": {},
   "source": [
    "<br><br><br><br><br>\n",
    "<br><br><br><br><br>\n",
    "\n",
    "#### * \"Update assignments\" like `sum = sum + num` are common\n",
    "\n",
    "#### * This has a shortcut:  `+=`\n",
    "\n",
    "#### * Example: `xyz += 1`  is equivalent to `xyz = xyz + 1`\n",
    "\n",
    "#### * Also, `-=`, `*=`, and `/=` work similarly"
   ]
  },
  {
   "cell_type": "code",
   "execution_count": null,
   "metadata": {},
   "outputs": [],
   "source": [
    "# EXAMPLE 5b: Average\n",
    "# 1. Use += to find the average of the list of numbers.\n",
    "# 2. Write it so that it still works if I add numbers to big_list.\n",
    "\n",
    "big_list = [15,72,1,84,52,48,83,26,94,58,73,95,51,73]\n",
    "\n",
    "\n"
   ]
  },
  {
   "cell_type": "markdown",
   "metadata": {},
   "source": [
    "<br><br><br><br><br><br><br><br><br><br>\n",
    "\n",
    "# 6. Counting\n",
    "\n",
    "\n",
    "#### * Counting: initialize a counter variable to 0, add 1 for each list element of the type you're looking for\n",
    "\n"
   ]
  },
  {
   "cell_type": "code",
   "execution_count": null,
   "metadata": {},
   "outputs": [],
   "source": [
    "# EXAMPLE 6a: Counting 'B' words\n",
    "# How many words start with the letter 'B'?\n",
    "\n",
    "word_list = ['Apple', 'Ball', 'Animal', 'Bell', 'Band', 'Carrot', 'Angry', 'Banana', 'Bear', 'Attic', 'Candle', 'Cup', 'Beware']\n",
    "\n",
    "b_count = 0\n",
    "\n",
    "for x in word_list:\n",
    "    if x[0] == 'B':\n",
    "        b_count += 1\n",
    "\n",
    "print('Number of B words =', b_count)\n"
   ]
  },
  {
   "cell_type": "markdown",
   "metadata": {},
   "source": [
    "<br><br><br><br><br>\n",
    "<br><br><br><br><br>\n",
    "\n",
    "#### * You can loop through a string!\n",
    "\n",
    "#### * For each iteration, target variable will be a new character in the string\n",
    "\n",
    "#### * For example:\n",
    "\n",
    "`string_variable = 'abcdef'` <br>\n",
    "`for letter in string_variable:`\n",
    "\n",
    "#### then `letter` would take be `'a'`, then `'b'`, etc.\n"
   ]
  },
  {
   "cell_type": "code",
   "execution_count": null,
   "metadata": {},
   "outputs": [],
   "source": [
    "# EXAMPLE 6b: How many 'e''s?\n",
    "\n",
    "# Note the use of the triple quotes for a multi-line string!\n",
    "my_sentence = 'Let\\'s figure out how many times the letter \\'e\\' appears in this sentence that I am currently writing.'\n",
    "\n",
    "# COUNT e's\n",
    "\n",
    "\n",
    "\n",
    "\n",
    "\n",
    "print(e_counter, 'e\\'s in that sentence.')"
   ]
  },
  {
   "cell_type": "markdown",
   "metadata": {},
   "source": [
    "<br><br><br><br><br>\n",
    "<br><br><br><br><br>\n",
    "\n",
    "# 7. Repeating 50 Times With `range()`\n",
    "\n",
    "#### * What if you want to print `Hi There` fifty times?  \n",
    "\n",
    "#### * `range()` helps! \n",
    "\n",
    "#### * `range(50)` creates the \"list\" `[0, 1, 2, 3, 4, 5, ..., 49]`"
   ]
  },
  {
   "cell_type": "code",
   "execution_count": null,
   "metadata": {},
   "outputs": [],
   "source": [
    "# EXAMPLE 7a: Hi There\n",
    "\n",
    "# This will print \"0 Hi There!\", then \"1 Hi There!\", etc., down to \"49 Hi There!\"\n",
    "# Note that despite the funny numbering, that would be exactly 50 \"Hi There!\"s.\n",
    "\n",
    "for i in range(50):\n",
    "    print(i, 'Hi There!')\n",
    "    \n",
    "\n",
    "# What if you didn't want the numbers \"0\", \"1\", ..., \"49\" printing out?\n",
    "\n",
    "for i in range(50):\n",
    "    print('Hi There!')\n",
    "\n",
    "# Moral: It's ok to not use the values in the list, or the variable i, in the body of the loop.  \n",
    "# The list still has a use: making sure the body runs 50 times.\n"
   ]
  },
  {
   "cell_type": "markdown",
   "metadata": {},
   "source": [
    "<br><br><br><br><br>\n",
    "<br><br><br><br><br>\n",
    "\n",
    "#### * Three basic ways to create `range`s:\n",
    "\n",
    "#### --- `range(<int>)` will create \"list\" of integers starting at `0`, up to `<int>-1` (must be an INTEGER!)\n",
    "\n",
    "#### --- `range(<int>, <bigger int>)` will create \"list\" of integers starting with `<int>`, up to *but not including* `<bigger int>`\n",
    "\n",
    "#### --- and, `range(<int>, <bigger int>, <step>)` is like above, but counts `<step>` at a time (if `<step>` is positive).\n"
   ]
  },
  {
   "cell_type": "code",
   "execution_count": 1,
   "metadata": {},
   "outputs": [
    {
     "name": "stdout",
     "output_type": "stream",
     "text": [
      "range(10):\n",
      "0 1 2 3 4 5 6 7 8 9 \n",
      "\n",
      "range(10, 20):\n",
      "10 11 12 13 14 15 16 17 18 19 \n",
      "\n",
      "range(10, 20, 2):\n",
      "10 12 14 16 18 \n",
      "\n",
      "range(10, 20, 3):\n",
      "10 13 16 19 "
     ]
    }
   ],
   "source": [
    "#EXAMPLE 7b: Ranges\n",
    "\n",
    "print('range(10):')\n",
    "for i in range(10):\n",
    "    print(i, end = ' ')\n",
    "print('\\n')\n",
    "\n",
    "print('range(10, 20):')\n",
    "for i in range(10, 20):\n",
    "    print(i, end = ' ')\n",
    "print('\\n')\n",
    "\n",
    "print('range(10, 20, 2):')\n",
    "for i in range(10, 20, 2):\n",
    "    print(i, end = ' ')\n",
    "print('\\n')\n",
    "\n",
    "# It doesn't matter whether 20 would have been part of the sequence or not.\n",
    "# The range will keep going up to, but not including, any number >= 20.\n",
    "print('range(10, 20, 3):')\n",
    "for i in range(10, 20, 3):\n",
    "    print(i, end = ' ')\n",
    "   "
   ]
  },
  {
   "cell_type": "markdown",
   "metadata": {},
   "source": [
    "<br><br><br><br><br>\n",
    "<br><br><br><br><br>\n",
    "\n",
    "#### * Note 1: can use negative step sizes to count backwards!  \n",
    "\n",
    "#### `range(<x>, <y>, <negative step>)` will count starting with `<x>`...\n",
    "\n",
    "#### and ending when it reaches a number LESS than or equal to `<y>`  (so `<x>` should be larger number)\n",
    "\n",
    "\n",
    "#### * Note 2: a `range()` isn't reallllllly a `list`.  If you reallllllly need a list, try, e.g., `x = list(range(7))` (But you rarely need this!)"
   ]
  },
  {
   "cell_type": "code",
   "execution_count": 2,
   "metadata": {},
   "outputs": [
    {
     "name": "stdout",
     "output_type": "stream",
     "text": [
      "range(10, 0, -1):\n",
      "10 9 8 7 6 5 4 3 2 1 \n",
      "\n",
      "range(100, 0, -7):\n",
      "100 93 86 79 72 65 58 51 44 37 30 23 16 9 2 \n",
      "\n",
      "#####################\n",
      "\n",
      "Here's what happens when you print the_range_itself: range(0, 7)\n",
      "Here's what happens when you print list_range: [0, 1, 2, 3, 4, 5, 6]\n"
     ]
    }
   ],
   "source": [
    "#EXAMPLE 7c: Two notes\n",
    "\n",
    "# NOTE 1: Here's how negative steps work.\n",
    "print('range(10, 0, -1):')\n",
    "for i in range(10, 0, -1):\n",
    "    print(i, end = ' ')\n",
    "print('\\n')\n",
    "\n",
    "print('range(100, 0, -7):')\n",
    "for i in range(100, 0, -7):\n",
    "    print(i, end = ' ')\n",
    "print('\\n\\n#####################\\n')\n",
    "\n",
    "# NOTE 2: A range() isn't really a list.\n",
    "# Look what happens if you want to print range(7)?\n",
    "\n",
    "\n",
    "the_range_itself = range(7)\n",
    "print('Here\\'s what happens when you print the_range_itself:', the_range_itself)\n",
    "\n",
    "list_range = list(range(7))   # This IS a list.  You rarely need such a thing, though.   \n",
    "print('Here\\'s what happens when you print list_range:', list_range)\n"
   ]
  },
  {
   "cell_type": "markdown",
   "metadata": {},
   "source": [
    "<br><br><br><br><br>\n",
    "<br><br><br><br><br>\n",
    "\n",
    "# 8. Saving `n` Entries\n",
    "\n",
    "#### * What if you want to accept a list of `n` names from the user?\n",
    "\n",
    "\n",
    "#### * You need:\n",
    "\n",
    "#### --- a loop that runs `n` times, and\n",
    "\n",
    "#### --- and a list that starts out empty;\n",
    "\n",
    "#### --- each time through the loop, ask user for next name, append to list"
   ]
  },
  {
   "cell_type": "code",
   "execution_count": null,
   "metadata": {},
   "outputs": [],
   "source": [
    "# EXAMPLE 8a: Grab n names\n",
    "\n",
    "num_names = int(input('How many names do you want to store? '))\n",
    "\n",
    "name_list = []\n",
    "\n",
    "for i in range(num_names):\n",
    "    #\n",
    "    # What happens each time? \n",
    "    #\n",
    "\n",
    "print(name_list)"
   ]
  },
  {
   "cell_type": "markdown",
   "metadata": {},
   "source": [
    "<br><br><br><br><br>\n",
    "<br><br><br><br><br>\n",
    "\n",
    "# 9. Sigma Notation\n",
    "\n",
    "\n",
    "#### * $ \\displaystyle \\sum_{n = 1}^{100} \\sin(n^2) = ?$  `for`-loop is perfect! \n",
    "\n",
    "#### * $ \\displaystyle \\sum_{n = 1}^{100} \\sin(n^2)$ means:\n",
    "\n",
    "$$  \\sum_{n = 1}^{100} \\sin(n^2) = \\sin(1^2) + \\sin(2^2) + \\sin(3^2) + \\ldots + \\sin(100^2) $$\n",
    "\n",
    "#### * Suggestion: choose $n$ in `range(1, 101)`, to match the notation"
   ]
  },
  {
   "cell_type": "code",
   "execution_count": null,
   "metadata": {},
   "outputs": [],
   "source": [
    "# Example 9a: Sigma notation\n",
    "import math\n",
    "\n",
    "big_sigma = 0\n",
    "for n in range(1,101):\n",
    "    big_sigma += math.sin(n**2)\n",
    "print(big_sigma)\n",
    "\n",
    "###\n",
    "# This works too, since it has the right number of terms. \n",
    "# The formula might be a bit puzzling -- \n",
    "# but if you look at the first and second and last terms, it appears to work.\n",
    "big_sigma = 0\n",
    "for n in range(100):\n",
    "    big_sigma += math.sin( (n+1)**2 )\n",
    "print(big_sigma)"
   ]
  },
  {
   "cell_type": "markdown",
   "metadata": {},
   "source": [
    "<br><br><br><br><br>\n",
    "<br><br><br><br><br>\n",
    "\n",
    "\n",
    "#### * $(1.8)^2 + (2.4)^2 + (3.0)^2 + (3.6)^2 + \\ldots + (94.2)^2 = ??? $\n",
    "\n",
    "#### * `range()` doesn't work with non-integer step!\n",
    "\n",
    "#### * Let's find $\\Sigma$ notation: count number of terms, are find $n$th term in terms of $n$\n",
    "\n",
    "#### * First question: do you see pattern?  What is next term after $(3.6)^2$?"
   ]
  },
  {
   "cell_type": "code",
   "execution_count": null,
   "metadata": {},
   "outputs": [],
   "source": [
    "# EXAMPLE 9b: (1.8)^2 + (2.4)^2 + (3.0)^2 + (3.6)^2 + ... + (94.2)^2\n",
    "\n",
    "big_sig = 0\n",
    "\n",
    "\n",
    "\n",
    "\n",
    "\n",
    "print(big_sig)\n"
   ]
  }
 ],
 "metadata": {
  "kernelspec": {
   "display_name": "Python 3 (ipykernel)",
   "language": "python",
   "name": "python3"
  },
  "language_info": {
   "codemirror_mode": {
    "name": "ipython",
    "version": 3
   },
   "file_extension": ".py",
   "mimetype": "text/x-python",
   "name": "python",
   "nbconvert_exporter": "python",
   "pygments_lexer": "ipython3",
   "version": "3.10.10"
  },
  "name": "_merged_merged"
 },
 "nbformat": 4,
 "nbformat_minor": 4
}
