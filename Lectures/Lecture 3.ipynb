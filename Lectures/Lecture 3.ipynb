{
 "cells": [
  {
   "cell_type": "markdown",
   "metadata": {},
   "source": [
    "# Lecture 3\n",
    "\n",
    "### Functions and Modules; Randomness; Input; Numerical Input; Average Revisted;  Some More String Basics; Escape Characters"
   ]
  },
  {
   "cell_type": "markdown",
   "metadata": {},
   "source": [
    "# 1. Functions and Modules"
   ]
  },
  {
   "cell_type": "markdown",
   "metadata": {},
   "source": [
    "### * A **_function_** in Python is any expression that has the general form\n",
    "\n",
    "### * Functions can perform basic operations or complex algorithms. Every function tells python to perform some specific algorithm."
   ]
  },
  {
   "cell_type": "code",
   "execution_count": null,
   "metadata": {},
   "outputs": [],
   "source": [
    "BASIC FUNCTION SYNTAX:\n",
    "\n",
    "<fn name>(  <inputs>  )\n"
   ]
  },
  {
   "cell_type": "markdown",
   "metadata": {},
   "source": [
    "### * So a function is something that you write with parentheses, that often (not always) has inputs, and which can be evaluated to obtain a value. \n",
    "\n",
    "### * Example of a typical function: `len()`.  If you put a `str` inside the `len()` function, it produces a value: the number of characters in that `str`.  "
   ]
  },
  {
   "cell_type": "code",
   "execution_count": null,
   "metadata": {},
   "outputs": [],
   "source": [
    "# EXAMPLE 1a: len()\n",
    "\n",
    "x = 'hello'\n",
    "\n",
    "len('goodbye')  # This line is valid Python, but doesn't do much.\n",
    "\n",
    "s = len(x)   # But these two lines are\n",
    "print(s)     # more interesting!\n",
    "\n",
    "\n",
    "# From earlier, we also saw the type() function\n",
    "\n",
    "# We also saw the help() function to give us information on built in functions\n",
    "# These outputs can be hard to read, but they are incredibly useful"
   ]
  },
  {
   "cell_type": "markdown",
   "metadata": {},
   "source": [
    "<br><br><br><br><br><br><br><br><br><br>\n",
    "\n",
    "\n",
    "### * For math functions, first **import the `math` module**.  (And then use Google to get the names of common functions, which all start with `math.` .)"
   ]
  },
  {
   "cell_type": "code",
   "execution_count": null,
   "metadata": {},
   "outputs": [],
   "source": [
    "# EXAMPLE 1b: The math module\n",
    "\n",
    "# The line below IMPORTS A MODULE: the math module, which contains\n",
    "# functions beyond basic arithmetic\n",
    "\n",
    "#      |\n",
    "#      |\n",
    "#      V\n",
    "\n",
    "\n",
    "import math \n",
    "\n",
    "\n",
    "#     ^\n",
    "#     |\n",
    "#     |\n",
    "\n",
    "\n",
    "# Now you can use functions and variables in the math module; just write math. \n",
    "# in front of whatever you need.\n",
    "\n",
    "y = 25.0\n",
    "z = (3.14159)/6 # This is a crappy way of writing PI/6 -- see below.\n",
    "\n",
    "# math.exp() is the function e^x\n",
    "print(math.exp(1))\n",
    "# math.sqrt() is the square root function\n",
    "print(math.sqrt(y))\n",
    "# I think you can guess this one\n",
    "print(math.sin(z))\n",
    "\n",
    "# math.pi isn't a function -- it's an imported variable. \n",
    "# Indeed, notice the lack of parentheses.\n",
    "print(math.pi)"
   ]
  },
  {
   "cell_type": "markdown",
   "metadata": {},
   "source": [
    "<br><br><br><br><br><br><br><br><br><br>\n",
    "\n",
    "\n",
    "# 2. Randomness\n",
    "\n",
    "### * To generate random numbers, we'll have to import another module: the `random` module.\n",
    "\n",
    "### * `random.random()` will return a random float between 0 and 1.  Each float has a roughly equal chance of being chosen.\n",
    "\n",
    "### * `random.randrange(<int1>, <int2>)` will return a random integer that is ($\\geq$) `<int1>` but less than ($<$) `<int2>`. Pay attention to the boundaries: `<int1>` can be chosen, but `<int2>` cannot! "
   ]
  },
  {
   "cell_type": "code",
   "execution_count": null,
   "metadata": {},
   "outputs": [],
   "source": [
    "# EXAMPLE 2a: Random floats between 0 and 1\n",
    "\n",
    "import random\n",
    "\n",
    "# Every time we run this, we'll get different results, but all 3 numbers should be between 0 and 1.\n",
    "x = random.random()\n",
    "y = random.random()\n",
    "z = random.random()\n",
    "\n",
    "print(x,y,z)"
   ]
  },
  {
   "cell_type": "code",
   "execution_count": null,
   "metadata": {},
   "outputs": [],
   "source": [
    "# EXAMPLE 2b: Random ints\n",
    "\n",
    "import random\n",
    "\n",
    "# Hey Python! Think of a number between 1 and 10!\n",
    "x = random.randrange(1,11)\n",
    "print(x)\n",
    "# Let's play Craps\n",
    "\n",
    "\n",
    "    "
   ]
  },
  {
   "cell_type": "markdown",
   "metadata": {},
   "source": [
    "<br><br><br><br><br><br><br><br><br><br>\n",
    "\n",
    "# 3. Input\n",
    "\n",
    "\n",
    "### * You, the programmer, can write a program, and then have someone else (henceforth referred to as \"the user\") run that program, and put in their own input.  \n",
    "\n",
    "### * An **_input statement_** will be a statement of the following form:"
   ]
  },
  {
   "cell_type": "code",
   "execution_count": null,
   "metadata": {},
   "outputs": [],
   "source": [
    "INPUT STATEMENT SYNTAX:\n",
    "\n",
    "<variable> = input(<prompt message>)"
   ]
  },
  {
   "cell_type": "markdown",
   "metadata": {},
   "source": [
    "### `<variable>` denotes any variable you like, while `<prompt message>` is a string literal or variable which will get printed, informing the user of what they should be typing.  \n",
    "\n",
    "### * Here is what happens:\n",
    "\n",
    "#### 1. The prompt message is printed to the screen.\n",
    "\n",
    "#### 2. The program's execution pauses, until the program's user types a few characters, followed by Enter.\n",
    "\n",
    "#### 3. After Enter is pressed, all that the user has typed out (with the exception of the Enter) gets turned into a string, which is stored to `<variable>`.  \n"
   ]
  },
  {
   "cell_type": "code",
   "execution_count": null,
   "metadata": {},
   "outputs": [],
   "source": [
    "# EXAMPLE 3a: Word Triangle\n",
    "\n",
    "# If I want to let the user type in a phrase\n",
    "# and have it stored to the variable message,\n",
    "# I write:\n",
    "shanes_word = input('Please give me a word: ')\n",
    "\n",
    "# Now, this code prints a word triangle\n",
    "print(shanes_word)  # 1 time\n",
    "print(shanes_word + shanes_word) # 2 times\n",
    "print(shanes_word + shanes_word + shanes_word) # 3 times\n",
    "print(shanes_word * 4) # OOOOH, a short cut: string * int concatenates multiple times! "
   ]
  },
  {
   "cell_type": "markdown",
   "metadata": {},
   "source": [
    "### * Try entering `5+3` for the input.  What happens?"
   ]
  },
  {
   "cell_type": "markdown",
   "metadata": {},
   "source": [
    "<br><br><br><br><br><br><br><br><br><br>"
   ]
  },
  {
   "cell_type": "markdown",
   "metadata": {},
   "source": [
    "# 4. Numerical Input\n",
    "\n",
    "### * What if you want to do math with user input?  This doesn't work:"
   ]
  },
  {
   "cell_type": "code",
   "execution_count": null,
   "metadata": {},
   "outputs": [],
   "source": [
    "# EXAMPLE 4a: Add and subtract, but it doesn't work\n",
    "\n",
    "x = input('Enter a number for x: ')\n",
    "y = input('Enter a number for y: ')\n",
    "\n",
    "print('Sum is:', x + y)\n",
    "print('Difference is:', x - y)"
   ]
  },
  {
   "cell_type": "markdown",
   "metadata": {},
   "source": [
    "<br><br><br><br><br><br><br><br><br><br>\n",
    "\n",
    "### * `int()` and `float()` functions can assist you! In addition to being data types, they are also functions: they each take a `str` as input, and return the corresponding `int` or `float` value, if possible.\n",
    "\n",
    "### * For example:\n",
    "\n",
    "### --- The value of `int('125')` will be the `int` value 125 \n",
    "### --- The value of `float('125.34')` will be the `float` value 125.34 \n",
    "### --- The value of `float('1')` will be the `float` value 1.0 \n",
    "### --- `float('12xu')` and `int('1.23')` are both examples of things that will cause errors. "
   ]
  },
  {
   "cell_type": "code",
   "execution_count": null,
   "metadata": {},
   "outputs": [],
   "source": [
    "# EXAMPLE 4b: Add and subtract, this time it works!\n",
    "\n",
    "x = input('Enter a number for x: ')\n",
    "y = input('Enter a number for y: ')\n",
    "\n",
    "# Before this line, x has a str value...\n",
    "x = float(x)  # ...after, it has a float value!\n",
    "\n",
    "\n",
    "y = float(y)  # Notice that I'm using float here.\n",
    "# If your program makes any sort of sense for decimal values,\n",
    "# you probably want to use float values.\n",
    "\n",
    "\n",
    "print('Sum is:', x + y)\n",
    "print('Difference is:', x - y)"
   ]
  },
  {
   "cell_type": "markdown",
   "metadata": {},
   "source": [
    "### * Very little you can do as a programmer to force your users to enter values that don't cause errors.   So, for now, if the user is a jerk, your program will end with a `ValueError`.  \n",
    "\n",
    "<br><br><br><br><br><br><br><br><br><br>"
   ]
  },
  {
   "cell_type": "markdown",
   "metadata": {},
   "source": [
    "# 5. Average, Revisited (No Peeking!)\n",
    "\n",
    "### * Let's write the average program again.  (We won't bother with the two point curve.)  \n",
    "\n",
    "### * Your program should ask for: the user's name, and 3 scores for input.  After getting that, it should print out\n",
    "\n",
    "`<name> has average: <average of the three scores>`\n",
    "\n",
    "### * To write this program:\n",
    "\n",
    "### --- Ask for (and store) name\n",
    "### --- Ask for (and store) score 1\n",
    "### --- Do the last step twice more\n",
    "### --- Compute average\n",
    "### --- Print out result in desired format\n",
    "\n",
    "### * Remember: you are writing the *program*, *not* the inputs.  I should be able to walk up to your program, run it, enter my name and whatever scores I feel like, and get the correct output."
   ]
  },
  {
   "cell_type": "code",
   "execution_count": null,
   "metadata": {},
   "outputs": [],
   "source": [
    "# EXAMPLE 5a: Average\n",
    "# Input name and three scores, print out \"<name> has average: <average of scores>\"\n",
    "\n",
    "#\n",
    "# YOUR CODE HERE!\n",
    "#"
   ]
  },
  {
   "cell_type": "markdown",
   "metadata": {},
   "source": [
    "<br><br><br><br><br><br><br><br><br><br>\n",
    "\n",
    "# 6. `float` Weirdness\n",
    "\n",
    "### * `int` values can be truly huge -- they can have as many digits as your computer's memory can hold.  On the other hand, `float`s have a limited range: `float`s can't be larger than about $10^{300}$. "
   ]
  },
  {
   "cell_type": "code",
   "execution_count": null,
   "metadata": {},
   "outputs": [],
   "source": [
    "# EXAMPLE 6a: Overflow error\n",
    "print('It is ok for an int to be humongous:')\n",
    "print()  # A trick for printing a blank line\n",
    "\n",
    "print(2 ** 2000)     # A really big int\n",
    "\n",
    "print()\n",
    "print('But it is not ok for a float to be too big:')\n",
    "\n",
    "print(2.0 ** 2000)   # A really big float"
   ]
  },
  {
   "cell_type": "markdown",
   "metadata": {},
   "source": [
    "<br><br><br><br><br><br><br><br><br><br>\n",
    "\n",
    "### * The second weird thing is much more upsetting: `float` imprecision."
   ]
  },
  {
   "cell_type": "code",
   "execution_count": 1,
   "metadata": {},
   "outputs": [
    {
     "name": "stdout",
     "output_type": "stream",
     "text": [
      "0.30000000000000004\n"
     ]
    }
   ],
   "source": [
    "# EXAMPLE 6b: Float imprecision\n",
    "\n",
    "print(0.1 + 0.2)    # Wait, seriously? Why?"
   ]
  },
  {
   "cell_type": "markdown",
   "metadata": {},
   "source": [
    "### * Why these phenomena happen, in short, has to do with how the compute stores `float`s: using a *fixed number* of *binary digits*.  "
   ]
  },
  {
   "cell_type": "markdown",
   "metadata": {},
   "source": [
    "<br><br><br><br><br><br><br><br><br><br>\n",
    "\n",
    "# 7. Binary\n",
    "\n",
    "### * Humans use the decimal system for writing our numbers. Everything is based around the number ten: ten digits, powers of ten.\n",
    "\n",
    "### * When I write down a number like 307.4, each of those four digits stands for something.  The \"3\" stands for 3 hundreds, the \"0\" stands for 0 tens, the \"7\" stands for 7 ones, and the \"4\" stands for 4 tenths.  Each digit counts the number of a quantity that is a power of 10; which power of 10 depends on the position of the digit from the decimal point.  \n",
    "\n",
    "### * Oh, and of course, you add those quantities together: $3 \\times 10^2 + 0 \\times 10^1 + 7 \\times 10^0 + 4 \\times 10^{-1}$ is the quantity we mean when we write down $307.4$.\n",
    "\n",
    "<br><br><br><br><br><br><br><br><br><br>\n",
    "\n",
    "### * Computers have to store data -- each digit of each number it needs to compute with -- using tiny physical \"switches\".  (What  exactly this \"switch\" looks like in physical terms depends on the type of memory we are talking about.) It's hard to engineer a tiny switch that can have ten different positions; it's much easier to engineer a switch that has two positions.   So, computers don't use base ten; they use base two -- binary.\n",
    "\n",
    "### * The binary system works in exactly the same way as decimal, except the only digits allowed are 0 and 1, and all the quantities are powers of 2.\n",
    "\n",
    "### * Example: $ 111001 $ (binary) is the decimal number $1 \\times 2^5 + 1 \\times 2^4 + 1 \\times 2^3 + 0 \\times 2^2 + 0 \\times 2^1 + 1 \\times 2^0 = 32 + 16 + 8 + 0 + 0 + 1 = 57$.\n",
    "\n",
    "### * What would $1010101$ (binary) be?  What would $110.101$ (binary) be?   \n",
    "\n",
    "<br><br><br><br><br><br><br><br><br><br>\n",
    "\n",
    "### * `int`s are stored in the computer exactly, as finite sequences of \"0\"s and \"1\"s (where \"0\" would be represented by a down switch, and \"1\" would be represented by an up switch). And if you do arithmetic with `int`s, you will always get exactly correct answers.  \n",
    "\n",
    "\n",
    "### * In fact, that's the primary reason for the existence of `int`s: if you need an answer that you can be confident is *exactly* right -- often you do! -- you can have that with `int` arithmetic.\n",
    "\n",
    "### * `float`s, on the other hand, are harder to store, because numbers can have infinitely many digits to the right of the decimal point.  Furthermore, it turns out that many numbers we would think are very tame become infinite decimals in binary.  For example:\n",
    "\n",
    "$0.3$ (decimal) $ = 0.01001100110011001100110011001100\\ldots$ (binary)\n",
    "\n",
    "### * A finite computer can't store an infinite number of bits, and so it cuts off after a finite number of places -- leading to weird rounding errors.  \n",
    "\n",
    "### * A `float` is stored as an integer (in binary), together with a power of 2 to multiply it by (also stored in binary).  An analogue in base 10 would be: $1234.56$ can be written as $123456 \\times 10^{-2}$, so $123456$ and $-2$ would be stored.  Only a fixed number of bits are allowed for each part: if the exponent is too large to fit in its allotment, you get an error; if there are too many significant digits, the least significant ones just get rounded off. This explains both of the oddities we saw before.\n",
    "\n"
   ]
  },
  {
   "cell_type": "markdown",
   "metadata": {},
   "source": [
    "<br><br><br><br><br><br><br><br><br><br>\n",
    "\n",
    "# 8. Comparisons and `bool`s\n",
    "\n",
    "### * Having an answer which is off by 0.00000000000000004 rarely leads to practical difficulties for your code.  \n",
    "\n",
    "### * However, there is one place where `float` imprecision can lead to huge differences: comparisons."
   ]
  },
  {
   "cell_type": "code",
   "execution_count": null,
   "metadata": {},
   "outputs": [],
   "source": [
    "# EXAMPLE 8a: Float imprecision and comparisons\n",
    "\n",
    "print(1 + 2 <= 3)       # Would you say that 1 + 2 <= 3 is a True statement?\n",
    "print(0.1 + 0.2 <= 0.3) # Would you say that 0.1 + 0.2 <= 0.3 is a True statement?\n",
    "                        # Python disagrees with you on the second one."
   ]
  },
  {
   "cell_type": "markdown",
   "metadata": {},
   "source": [
    "<br><br><br><br><br><br><br><br><br><br>\n",
    "\n",
    "### * BTW, `1 + 2 <= 3` and `0.1 + 0.2 <= 0.3` are expressions that you can evaluate -- but the values you get are not numbers, but the logical values `True` and `False`.  \n",
    "\n",
    "\n",
    "### * The logical values are so important that they get their own data type: `bool` (short for Boolean, after the famous logician George Boole). If you type `True` or `False` into Python code -- NOT in quotes -- Python will treat that value as a `bool` literal.  See below. "
   ]
  },
  {
   "cell_type": "code",
   "execution_count": null,
   "metadata": {},
   "outputs": [],
   "source": [
    "# EXAMPLE 8b: bool literals\n",
    "\n",
    "my_bool = True             #  This is what bool\n",
    "another_bool = False       #  literals look like.\n",
    "one_more = (4 > 5)\n",
    "\n",
    "print(my_bool, another_bool, one_more)"
   ]
  },
  {
   "cell_type": "markdown",
   "metadata": {},
   "source": [
    "<br><br><br><br><br><br><br><br><br><br>\n",
    "\n",
    "# 9.  Some More String Basics\n",
    "\n",
    "### * Basic string operations include `+`, `len()` as we discussed before.\n",
    "\n",
    "### * Also, if you multiply a `str` by a positive `int`, it concatenates it with itself the given number of times.\n",
    "\n",
    "### * And the *index operator*, represented by a pair of square brackets.  It works as follows: `x[i]` will produce the i+1 st character of the string `x` (where the count includes spaces).\n",
    "\n",
    "### * Negative indices: `x[-1]` will retrieve the last character, `x[-2]` will receive the second-to-last character, and so on.  \n",
    "\n",
    "### * If you provide an invalid index, you will get an Index Error.\n"
   ]
  },
  {
   "cell_type": "code",
   "execution_count": null,
   "metadata": {},
   "outputs": [],
   "source": [
    "# EXAMPLE 9a: Strings\n",
    "a = 'yo'\n",
    "b = 'ma'\n",
    "print(2 * a + b)  # Precedence?\n",
    "\n",
    "x = 'Hi!  Ho? '\n",
    "print(x[0], x[1], x[2], x[6])\n",
    "\n",
    "# If you put in a negative index, it counts from the end (but not zero-based)\n",
    "print(x[-2]) \n",
    "\n",
    "# And this will cause an index error\n",
    "x[100]"
   ]
  },
  {
   "cell_type": "markdown",
   "metadata": {},
   "source": [
    "<br><br><br><br><br><br><br><br><br><br>\n",
    "\n",
    "\n",
    "# 10. Escape Characters\n",
    "\n",
    "### * Imagine that I wanted to store the following literal in a single string variable -- do you see the problem?\n",
    "\n",
    "`Shane's class is a non-stop thrill ride.`\n",
    "\n"
   ]
  },
  {
   "cell_type": "code",
   "execution_count": null,
   "metadata": {},
   "outputs": [],
   "source": [
    "# EXAMPLE 10a: A troublesome string literal\n",
    "# Look at the coloring of the code below -- it gives a big hint\n",
    "# about what the problem is.\n",
    "\n",
    "sentence = 'Shane's class is a non-stop thrill ride.'\n",
    "print(sentence)"
   ]
  },
  {
   "cell_type": "markdown",
   "metadata": {},
   "source": [
    "### * The apostrophe, which we want to be a character within the string, accidentally ends the string!\n",
    "\n",
    "<br><br><br><br><br><br><br><br><br><br>\n",
    "\n",
    "### * There are a few characters that, for one reason or another, are tricky to include in strings because Python confuses them with important language features.  \n",
    "\n",
    "### * To type these, Python (and many languages) have the so-called **_escape characters_**.  They are all typed as a backslash(`\\`) and one more keystroke; and they are used to represent these tricky characters.  Examples: \n",
    "\n",
    "\n",
    "### --- `\\'`: if you want to see the quote mark character, you can use backslash-', and then that quote won't be interpreted as the end of the string.\n",
    "\n",
    "### --- `\\n`: is the newline character.  If this is included in a string literal, then when that literal is printed, the slash and n will not be displayed -- in their place, you will see your output with part of it on a new line (the part after the backslash n).\n",
    "\n",
    "### --- `\\\\`: what if you actually truly want to see the backslash character?  You use two backslashes.\n"
   ]
  },
  {
   "cell_type": "code",
   "execution_count": null,
   "metadata": {},
   "outputs": [],
   "source": [
    "# EXAMPLE 10b: Escape characters\n",
    "\n",
    "sentence = 'Shane said \\'escape sequences are helpful\\' and we nodded knowingly.'\n",
    "print(sentence)\n",
    "\n",
    "forget = '\\nHe also said... \\n\\n ...actually, I can\\'t remember what else he said.\\n'\n",
    "print(forget)\n",
    "\n",
    "slash = 'I guess I wasn\\'t \\\\\\\\listening//.'\n",
    "print(slash)"
   ]
  }
 ],
 "metadata": {
  "kernelspec": {
   "display_name": "Python 3 (ipykernel)",
   "language": "python",
   "name": "python3"
  },
  "language_info": {
   "codemirror_mode": {
    "name": "ipython",
    "version": 3
   },
   "file_extension": ".py",
   "mimetype": "text/x-python",
   "name": "python",
   "nbconvert_exporter": "python",
   "pygments_lexer": "ipython3",
   "version": "3.10.10"
  },
  "name": "_merged_merged"
 },
 "nbformat": 4,
 "nbformat_minor": 4
}
