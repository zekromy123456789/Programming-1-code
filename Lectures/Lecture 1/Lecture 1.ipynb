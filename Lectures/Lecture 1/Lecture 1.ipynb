{
 "cells": [
  {
   "attachments": {},
   "cell_type": "markdown",
   "metadata": {},
   "source": [
    "# Lecture 1\n",
    "\n",
    "### Class Objective;  Thinking Algorithmically; Hello World!; Variables; Values, Literals, Data Types; Expressions; Printing; Variables; A Silly Exercise; Basic Numerical Operations; `%` and `\\\\`"
   ]
  },
  {
   "attachments": {},
   "cell_type": "markdown",
   "metadata": {},
   "source": [
    "# 1. Class Objective\n",
    "\n",
    "### * Objective: to familiarize ourselves with ideas involved in creating computer programs.\n",
    "\n",
    "### * We'll use the Python 3 language, and we'll place some focus on mathematical applications.\n",
    "\n",
    "### * What is a program? A set of instructions to be executed by a computer.  May involve input and output. \n",
    "\n",
    "### * Let's look at a few examples! [Here's where I show you a few of my favorite creations.]\n",
    "\n",
    "<br><br><br><br><br><br><br><br><br><br>\n",
    "\n",
    "\n",
    "### * What is programming good for? Video games, apps on your phone, every program on your desktop, the operating systems on your phone/desktop, software for embedded systems (e.g. thermostats, microwaves, space probes), data science/machine learning, quantitative finance ...\n",
    "\n",
    "\n",
    "### * What about Python 3 in particular? \n",
    "\n",
    "### --- One of the most widely used languages on Earth \n",
    "\n",
    "### --- Most of the other most widely used languages have major similarities in syntax. \n",
    "\n",
    "### --- Also used frequently in fields like data science and quantitative finance, because of a vast array of well-developed libraries.  \n",
    "\n",
    "### --- Generally recognized as being very welcoming to the newcomer.\n",
    "\n",
    "### * By the end of this course, you will know a lot about automating simple repetitive tasks.  \n",
    "\n",
    "### You will know almost nothing about serious programming :(\n",
    "\n",
    "### but you will be in a good place to start learning more and/or teaching yourself :)\n"
   ]
  },
  {
   "attachments": {},
   "cell_type": "markdown",
   "metadata": {},
   "source": [
    "<br><br><br><br><br><br><br><br><br><br>\n",
    "\n",
    "\n",
    "### * How do programs and programming work?  \n",
    "\n",
    "### --- Humans generally use a **high-level language** to write instructions called **source code**.  A language is called \"high-level\" if its instructions look something like commonplace English, and it has automated features for common tasks, as well as little direct interaction with RAM memory addresses.  Examples: Python, C, C++, C#, Java, R, Matlab, Ruby, PHP, etc.\n",
    "\n",
    "### --- Often write source code in an **Integrated Design Environment** (or IDE), which is a platform that contains text editing features, an interpreter, a debugger, etc.  \n",
    "\n",
    "### --- The **interpreter** (or in other languages, a **compiler**) is a program that translates your Python instructions into **machine code** -- the 0's and 1's that formulate the basic commands that your computer's processor follows.  (We won't see machine code -- it would be too confusing to read anyway.)\n",
    "\n",
    "### * Learning to speak a high-level language well enough to write source code isn't actually too bad.  The hard part is putting your ideas into terms the language can accommodate.\n"
   ]
  },
  {
   "attachments": {},
   "cell_type": "markdown",
   "metadata": {},
   "source": [
    "<br><br><br><br><br><br><br><br><br><br>\n",
    "\n",
    "# 2. Thinking Algorithmically\n",
    "\n",
    "### * Suppose you are given two positive integers. What is the process you go through to determine which is larger, or if they are equal?\n",
    "\n",
    "### * Clarification: You didn't come out of the womb knowing that $378 > 245$, or $98 < 1001$, or $4425 < 4437$, or $421 = 421$.  Nor did anybody teach you these four specific facts; they taught you a process.  What *exactly* is that process?\n",
    "\n",
    "### * Don't be clever -- explain the way you learned back when you were young!\n",
    "\n",
    "\n",
    "### * (We'll assume that we all know how 0, 1, 2, 3, 4, 5, 6, 7, 8, 9 are ordered, but that we need to be taught about ordering bigger integers. We'll also assume that our integers are less than 10 digits long for simplicity.)\n"
   ]
  },
  {
   "attachments": {},
   "cell_type": "markdown",
   "metadata": {},
   "source": [
    "<br><br><br><br><br><br><br><br><br><br>"
   ]
  },
  {
   "attachments": {},
   "cell_type": "markdown",
   "metadata": {},
   "source": [
    "### * The algorithm is just one part of the **development process**: \n",
    "\n",
    "#### 1. Understand problem\n",
    "\n",
    "#### 2. Design algorithm\n",
    "\n",
    "#### 3. Code solution\n",
    "\n",
    "#### 4. Test\n",
    "\n",
    "#### 5. Are there bugs? (There always will be.) Then go back to step 2 and/or step 3.\n",
    "\n",
    "\n",
    "### * Goals for code:\n",
    "\n",
    "### --- Correct\n",
    "\n",
    "### --- Readable/maintainable (comments!)\n",
    "\n",
    "### --- Adaptable\n",
    "\n",
    "### --- Time/space efficient\n",
    "\n",
    "\n",
    "<br><br><br><br><br><br><br><br><br><br>"
   ]
  },
  {
   "attachments": {},
   "cell_type": "markdown",
   "metadata": {},
   "source": [
    "# 3. Hello world!\n",
    "\n",
    "### * Time to write our first program.  \n",
    "\n",
    "### * In Python 3, super simple: you just have to type out `print('Hello world')` in the box below.\n",
    "\n",
    "### * Then, click anywhere in the box, and press Shift-Enter.  Jupyter, the program which runs the document you're reading right now, is linked to a Python 3 interpreter, so that pressing Shift-Enter will run the program."
   ]
  },
  {
   "cell_type": "code",
   "execution_count": 1,
   "metadata": {},
   "outputs": [
    {
     "name": "stdout",
     "output_type": "stream",
     "text": [
      "Hello World!\n"
     ]
    }
   ],
   "source": [
    "# EXAMPLE 3a: Hello world!\n",
    "# Make a program that, when run, prints \"Hello World\"\n",
    "\n",
    "print(\"Hello World!\")"
   ]
  },
  {
   "attachments": {},
   "cell_type": "markdown",
   "metadata": {},
   "source": [
    "### * So, when this program is run, a phrase prints out to the screen.  \n",
    "\n",
    "### * We've learned our first command: the print function.  There's more to say about this, but for the moment, notice the parentheses and the quotation marks.\n",
    "\n",
    "### * In class, we will use **Jupyter** most of the time to run our programs within the notes.  Jupyter is a program designed for presentations interspersed with code -- in other words, EXACTLY the type of thing you would want to make, say, Lecture notes in.  There are \"Markdown cells\" which are meant to contain text, and there are \"Code cells\", which start with \"In [number]:\", and which you can run in Python by pressing Shift-Enter.\n",
    "\n",
    "### * If you're not a teacher making notes for class, or you're not making a presentation, you may not want to use Jupyter.  So, when you create your own programs outside of the notes, I suggest that you write and run them within **Spyder**.  Spyder makes it easier to write and run longer bits of code, especially if your program occupies several files.\n",
    "\n",
    "<br><br><br><br><br><br><br><br><br><br>"
   ]
  },
  {
   "attachments": {},
   "cell_type": "markdown",
   "metadata": {},
   "source": [
    "# 4. A Non-Trivial Program, Variables, and Statements\n",
    "\n",
    "### * I want to show you a very simple example of code that is useful (well, a little useful).  \n",
    "\n",
    "### * **DON'T PANIC IF THESE LINES DON'T MAKE PERFECT SENSE!** The purpose of this is to show you what a program looks like, and introduce you to a couple of simple aspects of programs.\n",
    "\n",
    "### * Idea:\n",
    "\n",
    "#### --- Your friend is a Professor who is lazy and not very technologically saavy, and who has lots of students who each took three quizzes (the last of which has a two-point curve).  He wants a program that will let him type in the three scores, and then spit out the correct curved average.   \n",
    "\n",
    "#### --- You, the programmer, write this Python code.  Then, your friend just has to press Shift-Enter and follow the clear instructions for each of his students, and he will have the curved averages he seeks.  \n",
    "\n",
    "### * Now, try the program with scores 6, 5, and 5.  What should come out?  What does?  Can you explain the bug?  Can you fix it?"
   ]
  },
  {
   "cell_type": "code",
   "execution_count": 3,
   "metadata": {},
   "outputs": [
    {
     "name": "stdout",
     "output_type": "stream",
     "text": [
      "The average, after the curve on the third quiz, is: \n",
      "6.0\n"
     ]
    }
   ],
   "source": [
    "# EXAMPLE 4a: Average the scores, with a curve\n",
    "# This program asks the user to enter three quiz scores.\n",
    "# It computes the average of those scores, after putting a 2 point curve on the last quiz.\n",
    "# IT HAS A BUG!\n",
    "\n",
    "first_score = float(input('Enter the first quiz score: '))\n",
    "sec_score = float(input('Enter the second quiz score: '))\n",
    "third_score = float(input('Enter the third quiz score (before curve): '))\n",
    "third_score = third_score + 2\n",
    "x = (first_score + sec_score + third_score)/3\n",
    "\n",
    "\n",
    "\n",
    "print('The average, after the curve on the third quiz, is: ')\n",
    "print(x)"
   ]
  },
  {
   "attachments": {},
   "cell_type": "markdown",
   "metadata": {},
   "source": [
    "<br><br><br><br><br><br><br><br><br><br>\n",
    "\n",
    "\n",
    "# 5. Values, Literals, Data Types \n",
    "\n",
    "\n",
    "### * Let's go back to the beginning.  (This is going to be boring, but it's important.)\n",
    "\n",
    "### * A **_value_** is a piece of data used in a program: numerical values, text values, logical values -- and down the line we will see fancier types of values.  \n",
    "\n",
    "### * A **_literal_** is a value that is written directly into your code.  In the last program, the values for the three quiz scores were not represented directly in your code -- they were supplied at runtime.  However, the `2` that we added to the first score and the `3` we divided the sum by were present in the code itself, and so the `2` and `3` are literal values.\n",
    "\n",
    "### * Each literal value has a **_data type_** (every non-literal value has one too, but we'll discuss that later).  There are two basic numeric data types:\n",
    "\n",
    "#### --- any run of digits that contains no decimal point is called an `int` (short for *integer*)\n",
    "#### --- any run of digits that does contain a decimal point is called a `float` (short for *floating-point number*, but you should probably think of them just as \"decimal numbers\"), as long as it represents a valid number."
   ]
  },
  {
   "cell_type": "code",
   "execution_count": null,
   "metadata": {},
   "outputs": [],
   "source": [
    "# EXAMPLE 5a: Ints and floats\n",
    "\n",
    "# Here are some int literals\n",
    "\n",
    "32\n",
    "0\n",
    "-147\n",
    "\n",
    "# Here are some float literals\n",
    "\n",
    "8.572\n",
    "100.0   # Pay attention: this is a float!\n",
    "2.      # So is this!\n",
    "\n",
    "# Warning: Python treats this not as 50 million, but as three different ints!\n",
    "# So don't use commas in long numerical values.\n",
    "50,000,000\n"
   ]
  },
  {
   "attachments": {},
   "cell_type": "markdown",
   "metadata": {},
   "source": [
    "### * All the lines above are valid Python, but you'll notice that they don't do anything when I press Shift-Enter.  (Except for the last line, which is a weird thing that Jupyter sometimes does with the last line of code in a cell.  Ignore that.)  \n",
    "\n",
    "### * That's because, for example, `32` isn't really an instruction for Python to do anything.\n",
    "\n",
    "<br><br><br><br><br><br><br><br><br><br>\n",
    "\n",
    "### * One more type of literal that I'd like to discuss now:\n",
    "\n",
    "#### --- any run of typed characters, on a single line, which is surrounded by single quotes, is called a `str` (short for *string*, as in \"string of characters\").  There are some exceptions to what I just said, but let's try not to worry too much for now.\n",
    "\n",
    "### * Purpose for numerical values is pretty obvious.  String values are used for producing pretty interface messages when you run programs, as well as for text processing (and much more)."
   ]
  },
  {
   "cell_type": "code",
   "execution_count": null,
   "metadata": {},
   "outputs": [],
   "source": [
    "# EXAMPLE 5b: 10 string literals\n",
    "\n",
    "'Hello everyone'\n",
    "'AT#%)(AFVM#$)#%T)G)#~_M TV'\n",
    "'1.23'          # This is a string!\n",
    "'2 + 3 - 1'     # So is this! If you were to print this, don't expect 4 to come out.\n",
    "\n",
    "\n",
    "\"You can also enclose your strings with double quotes\"\n",
    "\"(you must use the same type of quotation mark at the beginning and end!)\"\n",
    "'but, most people use single quotes'\n",
    "\n",
    "'One more thing:'\n",
    "'a single string literal has to start and end on the same line of code...'\n",
    "\n",
    "\n",
    "\"\"\"...unless\n",
    "you \n",
    "start \n",
    "and\n",
    "end\n",
    "with\n",
    "TRIPLE DOUBLE QUOTES!!!!!!!!!!!!!!!\"\"\"\n"
   ]
  },
  {
   "attachments": {},
   "cell_type": "markdown",
   "metadata": {},
   "source": [
    "<br><br><br><br><br><br><br><br><br><br>\n",
    "\n",
    "\n",
    "### * What if you forget the quotes in a string? Well, press Shift-Enter and see!"
   ]
  },
  {
   "cell_type": "code",
   "execution_count": 4,
   "metadata": {},
   "outputs": [
    {
     "ename": "NameError",
     "evalue": "name 'hello' is not defined",
     "output_type": "error",
     "traceback": [
      "\u001b[1;31m---------------------------------------------------------------------------\u001b[0m",
      "\u001b[1;31mNameError\u001b[0m                                 Traceback (most recent call last)",
      "Cell \u001b[1;32mIn[4], line 3\u001b[0m\n\u001b[0;32m      1\u001b[0m \u001b[39m# EXAMPLE 5c: \"Strings\" without the quotes\u001b[39;00m\n\u001b[1;32m----> 3\u001b[0m hello\n\u001b[0;32m      4\u001b[0m goodbye\n",
      "\u001b[1;31mNameError\u001b[0m: name 'hello' is not defined"
     ]
    }
   ],
   "source": [
    "# EXAMPLE 5c: \"Strings\" without the quotes\n",
    "\n",
    "hello\n",
    "goodbye"
   ]
  },
  {
   "attachments": {},
   "cell_type": "markdown",
   "metadata": {},
   "source": [
    "### * So, uh, don't forget the quotes.\n",
    "\n",
    "### * More detail than you need right now: if you write a word without quotes, Python will probably try to interpret it as a variable."
   ]
  },
  {
   "attachments": {},
   "cell_type": "markdown",
   "metadata": {},
   "source": [
    "<br><br><br><br><br><br><br><br><br><br>\n",
    "\n",
    "# 6. Expressions\n",
    "\n",
    "### * An **_expression_** is one or more values, connected with **operators** (e.g., `+`, `-`, etc.) and functions, which can be **_evaluated_** to produce a value.  For example:"
   ]
  },
  {
   "cell_type": "code",
   "execution_count": null,
   "metadata": {},
   "outputs": [],
   "source": [
    "# EXAMPLE 6a: Some expressions\n",
    "\n",
    "3 + 4.5\n",
    "12 * -10\n",
    "'Hello' + 'Goodbye'"
   ]
  },
  {
   "attachments": {},
   "cell_type": "markdown",
   "metadata": {},
   "source": [
    "### * If the Python interpreter encounters any of these lines, which each contain two values, it will perform the indicated operation(s) on them to produce a single value.  \n",
    "\n",
    "### * In the case above, all the operations make sense: for the last one, when you \"add\" two strings, the operation is called **_concatenation_**, and it produces a new string value: the two strings placed back-to-back with no space between. \n",
    "\n",
    "<br><br><br><br><br><br><br><br><br><br>\n",
    "\n",
    "### * Data types allow Python to use the same symbols for different, related operations.  E.g., the `+` operator, which is used for numerical addition and concatenation.  The Python interpreter can tell which operation is meant by examining the data types of the values surrounding it.  \n",
    "\n",
    "### * Furthermore, with certain types of data, the operator is undefined!\n"
   ]
  },
  {
   "cell_type": "code",
   "execution_count": null,
   "metadata": {},
   "outputs": [],
   "source": [
    "# EXAMPLE 6b: The plus operator, three ways\n",
    "\n",
    "3 + 4.5               # Adding an int and a float gives a float (7.5, predictably)\n",
    "'Hello' + 'Goodbye'   # Adding a str and a str concatenates\n",
    "3 + 'Hello'           # Adding an int and a str causes a type error!\n",
    "                      # (What is the number 3 plus the word hello, anyway?)"
   ]
  },
  {
   "attachments": {},
   "cell_type": "markdown",
   "metadata": {},
   "source": [
    "<br><br><br><br><br><br><br><br><br><br>\n",
    "\n",
    "### * What happens if you have multiple operations?  Like, for example:"
   ]
  },
  {
   "cell_type": "code",
   "execution_count": null,
   "metadata": {},
   "outputs": [],
   "source": [
    "# EXAMPLE 6c: Several operations in an expression\n",
    "\n",
    "# ** is the EXPONENTIATION operator\n",
    "\n",
    "20 - 2 * 3 ** 2 + 1 "
   ]
  },
  {
   "attachments": {},
   "cell_type": "markdown",
   "metadata": {},
   "source": [
    "### * The computer can only do one operation at a time, so it needs to choose an order to do them in.  How?\n",
    "\n",
    "### * The basic rules are:\n",
    "\n",
    "### 1. `**`(which is exponentiation) is evaluated before {`*`, `/`}, which are evaluated before {`+`, `-`}.\n",
    "\n",
    "### 2. Within each class, appearances of any of the symbols are evaluated as they are encountered in the expression, from left to right. (Actually, if you have multiple exponents, they're evaluated from right to left, but if you have multiple exponents you should just use parentheses anyway.)\n",
    "\n",
    "### * So, this evaluates as:\n",
    "\n",
    "`20 - 2 * 3 ** 2 + 1`\n",
    "\n",
    "`20 - 2 * 9 + 1`\n",
    "\n",
    "`20 - 18 + 1`\n",
    "\n",
    "`2 + 1`\n",
    "\n",
    "`3`\n",
    "\n",
    "\n",
    "<br><br><br><br><br><br><br><br><br><br>\n",
    "\n",
    "### * You can use parentheses to override the order of operations.  \n",
    "\n",
    "### * However, be aware that the \"adjacency implies multiplication\" rule that we use in algebra all the time doesn't work in Python.\n"
   ]
  },
  {
   "cell_type": "code",
   "execution_count": null,
   "metadata": {},
   "outputs": [],
   "source": [
    "# EXAMPLE 6d: Parentheses\n",
    "\n",
    "# This is NOT ok\n",
    "1 + 2(3 + 4)\n",
    "\n",
    "# \"Comment out\" the above line, by putting a hashtag in front of it.\n",
    "\n",
    "\n",
    "# THIS is how you could correctly write the above line.\n",
    "1 + 2 * (3 + 4)"
   ]
  },
  {
   "attachments": {},
   "cell_type": "markdown",
   "metadata": {},
   "source": [
    "<br><br><br><br><br><br><br><br><br><br>\n",
    "\n",
    "\n",
    "# 7. Printing\n",
    "\n",
    "### * Above, we were able to see the value of the last expression in each cell.  That actually is a peculiarity of Jupyter -- if you were to run those programs in Spyder, for example, you would see nothing at all. \n",
    "\n",
    "### * If you, a human, want to see the value of an expression, you have to **print** it!"
   ]
  },
  {
   "cell_type": "code",
   "execution_count": 5,
   "metadata": {},
   "outputs": [
    {
     "name": "stdout",
     "output_type": "stream",
     "text": [
      "7.5\n",
      "1 2 buckle my shoe 12\n"
     ]
    }
   ],
   "source": [
    "# EXAMPLE 7a: Print, by example\n",
    "\n",
    "print(3 + 4.5)\n",
    "print(1, 2, 'buckle my shoe', 3 * 4)\n"
   ]
  },
  {
   "attachments": {},
   "cell_type": "markdown",
   "metadata": {},
   "source": [
    "\n",
    "### * `print()` statements usually appear on lines of code by themselves. \n",
    "\n",
    "### * You can put one or more valid expressions into the parentheses of a print statement, separated by commas.  Python will evaluate each expression, and then display the values, separated by single spaces.  \n",
    "\n",
    "### * Finally, by default, Python will put a *newline* at the end of each statement (kind of like pressing Enter at the end of a line when you are typing).\n",
    "\n",
    "<br><br><br><br><br><br><br><br><br><br>\n",
    "\n",
    "\n",
    "### * Going forward, when I introduce language elements, I'll sometimes use notation like this:"
   ]
  },
  {
   "cell_type": "code",
   "execution_count": null,
   "metadata": {},
   "outputs": [],
   "source": [
    "SYNTAX FOR THE PRINT FUNCTION:\n",
    "\n",
    "print(<expression 1>, <expression 2>, <expression 3>, <as many expressions as you like>)"
   ]
  },
  {
   "attachments": {},
   "cell_type": "markdown",
   "metadata": {},
   "source": [
    "### * *Syntax* refers to how you order language elements to create statement that Python can find a valid interpretation for.  \n",
    "\n",
    "### * In this example, the bits between each pair of `<` and `>` is something you can replace with any expression you like.  You don't actually type `<` or `>` or the words `expression 1`: `<expression 1>` represents a blank that you can fill in! \n",
    "\n",
    "### * On the other hand, you *should* literally be typing the word `print`, the parentheses `(` and `)`, and the commas (if you're printing multiple expressions).\n",
    "\n",
    "<br><br><br><br><br><br><br><br><br><br>\n",
    "\n",
    "### * You can also suppress the automatic newline at the end of a print by including `end = ''` at the end of the print statement, as follows."
   ]
  },
  {
   "cell_type": "code",
   "execution_count": 6,
   "metadata": {},
   "outputs": [
    {
     "name": "stdout",
     "output_type": "stream",
     "text": [
      "10\n",
      "11\n",
      "1213\n",
      "14\n"
     ]
    }
   ],
   "source": [
    "# EXAMPLE 7b: Suppressing the automatic newline\n",
    "\n",
    "print(10)\n",
    "print(11)\n",
    "print(12, end = '') # This print statement won't be followed by an automatic newline...\n",
    "print(13)           # ...which means that this is displayed IMMEDIATELY after the 12, not even a space in between.\n",
    "print(14)"
   ]
  },
  {
   "attachments": {},
   "cell_type": "markdown",
   "metadata": {},
   "source": [
    "<br><br><br><br><br><br><br><br><br><br>\n",
    "\n",
    "\n",
    "# 8. Variables\n",
    "\n",
    "### * A **_variable_** is a *name* that is associated with a *value*. (Maybe a bit of a simplification.)\n",
    "\n",
    "### * When Python encounters a word not in quotes, which isn't a built-in Python command, it assumes that the program is referring to a variable with that name.\n",
    "\n",
    "### * **_Purpose of variables: to hold data values for reference later on._**  \n",
    "\n",
    "### * You create variables and update their values using the **_assignment operator_**, which is just the single `=` sign."
   ]
  },
  {
   "cell_type": "code",
   "execution_count": null,
   "metadata": {},
   "outputs": [],
   "source": [
    "VARIABLE ASSIGNMENT SYNTAX (do not run me):\n",
    "\n",
    "<variable name> = <expression>\n",
    "\n",
    "# NOTE: the variable name goes on the LEFT!\n",
    "# Don't put anything other than a single variable name to the left of an = sign."
   ]
  },
  {
   "attachments": {},
   "cell_type": "markdown",
   "metadata": {},
   "source": [
    "### * When you write this line, the following things happen (crucial to understand!!!!!):\n",
    "\n",
    "1. **_FIRST_**, the right side gets evaluated.\n",
    "\n",
    "2. **_THEN_**, Python checks if a variable with the given name exists yet.  \n",
    "\n",
    "3. If `<variable name>` **doesn't** already exist in the program, Python creates a variable with that name, and assigns the value of the right side to it.  If `<variable name>` **does** already exist, Python replaces its value with the value on the right side.\n",
    "\n",
    "4. Until `<variable name>` gets reassigned, all subsequent references to it will evaluate to that value.\n",
    "\n",
    "\n",
    "<br><br><br><br><br><br><br><br><br><br><br>\n"
   ]
  },
  {
   "cell_type": "code",
   "execution_count": null,
   "metadata": {},
   "outputs": [],
   "source": [
    "# EXAMPLE 8a: Variables and assignments\n",
    "\n",
    "x = 4 + 2         # Create a variable named x\n",
    "\n",
    "x + (3 + 4)       # x evaluates to 6, 3+4 evaluates to 7, \n",
    "                  # and so the whole expression evaluates to 13"
   ]
  },
  {
   "cell_type": "code",
   "execution_count": null,
   "metadata": {},
   "outputs": [],
   "source": [
    "# EXAMPLE 8b: More variables, and reassignments\n",
    "# abc and xyz are the names of two variables\n",
    "\n",
    "abc = 3\n",
    "xyz = abc + 5\n",
    "print(abc*10, xyz)\n",
    "\n",
    "abc = 6\n",
    "print(abc*10, xyz)"
   ]
  },
  {
   "attachments": {},
   "cell_type": "markdown",
   "metadata": {},
   "source": [
    "<br><br><br><br><br><br><br><br><br><br>\n",
    "\n",
    "### * Try to figure out what happens in the following program.\n",
    "\n",
    "### * When you've got an idea, add print statements to the bottom to confirm.\n",
    "\n",
    "### * Hints: statements execute in order; on any line, a variable has the value of its most recent assignment; assignments starts on the right!"
   ]
  },
  {
   "cell_type": "code",
   "execution_count": null,
   "metadata": {},
   "outputs": [],
   "source": [
    "# EXAMPLE 8c: Walkthrough\n",
    "\n",
    "x = 4        \n",
    "y = 1        \n",
    "z = 2\n",
    "a = 3\n",
    "y = x + 5\n",
    "z = z + y    \n",
    "z - 2        \n",
    "x = 3 * x # DON'T WRITE \"3x\" -- actually put the \"*\" explicitly.   \n",
    "a = 'x'\n",
    "\n",
    "# When you're ready, print out x,y,z,a."
   ]
  },
  {
   "attachments": {},
   "cell_type": "markdown",
   "metadata": {},
   "source": [
    "<br><br><br><br><br><br><br><br><br><br>\n",
    "\n",
    "# 9. Variable Name (\"Identifier\") Rules\n",
    "\n",
    "### * Name of a variable is sometimes called the variable's **_identifier_**.  \n",
    "\n",
    "### * Rules for Python identifiers:\n",
    "\n",
    "- Only letters, digits, and underscores (`_`), no spaces or other punctuation\n",
    "\n",
    "- May not begin with a digit\n",
    "\n",
    "- May not be a reserved word (`if`, `import`, `def`, etc.)\n",
    "\n",
    "### * Some legal identifiers: `hey123`, `AHHH`, `_x_y_z`\n",
    "\n",
    "### * Some illegal identifiers: `2nd_place`, `what?`, `got spaces`\n",
    "\n",
    "### * Also:\n",
    "\n",
    "- Identifiers are case-sensitive: `hello` is not the same as `hElLo`\n",
    "\n",
    "- Probably should be *meaningful*\n",
    "\n",
    "- We'll start variable names with lowercase letters usually\n",
    "\n",
    "\n",
    "<br><br><br><br><br><br><br><br><br><br>\n",
    "\n",
    "# 10. The Variable Goes on the Left!!!\n",
    "\n",
    "### * Imagine that instead of `x = 4 + 2`, I tried to create a variable by writing\n",
    "\n",
    "`4 + 2 = x`\n",
    "\n",
    "### What would the four steps from before have to say about that?\n",
    "\n",
    "\n",
    "1. First evaluate `x`.  What is its value? It's not yet defined.  That seems like a problem...\n",
    "\n",
    "2. Is 4 + 2 an existing variable name?  That doesn't work at all as the name of a variable!\n",
    "\n",
    "\n",
    "### I'll stop there: there will be an error!\n",
    "\n",
    "<br><br><br><br><br><br><br><br><br><br>"
   ]
  },
  {
   "attachments": {},
   "cell_type": "markdown",
   "metadata": {},
   "source": [
    "# 11. A Silly Exercise\n",
    "\n",
    "### * Let's write a silly program for practice.  It's kind of like the \"average the quiz scores with a curve\" example from before, but more useless.  \n",
    "\n",
    "### * We'll do this in steps.  Put all your code in the box below.\n",
    "\n",
    "\n",
    "\n",
    "\n",
    "### * STEP 1: create three variables; call them `stud_name`, `score1`, and `score2`.  The variable `stud_name` should be assigned the string value \"Frankenstein\", while `score1` should be assigned the int value 90, and `score2` should be assigned the int value 100.  \n",
    "\n",
    "\n",
    "### * STEP 2: continuing in the same code box, create one more variable called `avg`.  This variable should be assigned to be the average of the two scores.  Here's the catch: **in this step, you are NOT ALLOWED to type 90, 100, or 95.**  Instead, use the variables you created in Step 1.\n",
    "\n",
    "\n",
    "### * STEP 3: now, have your program print out the message:\n",
    "\n",
    "`Hi Frankenstein`\n",
    "\n",
    "`Your Average is 95.0`\n",
    "\n",
    "### Once again, there is a catch: **in this step, you are NOT ALLOWED to type the word \"Frankenstein\" or any numbers.** Instead, use the variables you created in Step 1 and Step 2."
   ]
  },
  {
   "cell_type": "code",
   "execution_count": null,
   "metadata": {},
   "outputs": [],
   "source": [
    "# EXAMPLE 11a: Frankenstein's Average\n",
    "# See instructions above.\n",
    "\n",
    "# Put your code for STEP 1 below.\n",
    "\n",
    "\n",
    "\n",
    "# Put your code for STEP 2 below.\n",
    "\n",
    "\n",
    "# Put your code for STEP 3 below.\n",
    "\n",
    "\n"
   ]
  },
  {
   "attachments": {},
   "cell_type": "markdown",
   "metadata": {},
   "source": [
    "<br><br><br><br><br><br><br><br><br><br>\n",
    "\n",
    "# 12.  Basic Numerical Operators\n",
    "\n",
    "### * With `int`s and `float`s, the basic operators are `+`, `-`, `*`, `/`, and `**`.  The first two can be used with a single number, to indicate positive or negative, and all of them can be used with two operands.  \n",
    "\n",
    "### * Caveats:\n",
    "\n",
    "- Can't divide by 0.\n",
    "\n",
    "- `float`s can be \"weird\"; I'll elaborate shortly. \n",
    "\n",
    "- If you add or subtract or multiply two `int`s, the result will be an `int`.  If you divide two `int`s, or perform any operation involving at least one `float`, the result will *always* be a `float` (even if you divide 12 by 6, the is a `float`).\n",
    "\n",
    "- Python supports complex numbers, but it uses the letter `j` for $\\sqrt{-1}$ instead of `i`."
   ]
  },
  {
   "cell_type": "code",
   "execution_count": null,
   "metadata": {},
   "outputs": [],
   "source": [
    "# EXAMPLE 12a: Arithmetic\n",
    "# What do these evaluate to?\n",
    "\n",
    "print(5 + 2)     # Notice the output types for these four lines:\n",
    "print(6.0 * 4)   # if it has a decimal point, Python's producing a float,  \n",
    "print(12 / 6)    # if not, almost certainly Python's produced an int.\n",
    "\n",
    "print(2 ** 10)     #\n",
    "print(2 ** 0.5)    # Exponents\n",
    "print((-2) ** 0.5) #\n",
    "\n",
    "print(3 / 0)        # I think you know this is an error"
   ]
  },
  {
   "attachments": {},
   "cell_type": "markdown",
   "metadata": {},
   "source": [
    "<br><br><br><br><br><br><br><br><br><br>\n",
    "\n",
    "# 13. `%` and `\\\\`\n",
    "\n",
    "### * For positive `int`s, two more operations: mod `%` and floored division `//`.  \n",
    "\n",
    "### * `x % y` gives the remainder when `x` is divided by `y`.  \n",
    "\n",
    "### * `x // y` gives *integer part of division*: `x // y` divides `x` by `y`, but simply removes the decimal part."
   ]
  },
  {
   "cell_type": "code",
   "execution_count": null,
   "metadata": {},
   "outputs": [],
   "source": [
    "# EXAMPLE 13a: % and //\n",
    "# What are the answers?\n",
    "\n",
    "print(29//7)\n",
    "print(29 % 7)\n",
    "print(123 % 10)\n",
    "\n",
    "# Check this one out: what am I doing?\n",
    "x = 1896\n",
    "print( (x//100) % 10 )"
   ]
  }
 ],
 "metadata": {
  "kernelspec": {
   "display_name": "Python 3",
   "language": "python",
   "name": "python3"
  },
  "language_info": {
   "codemirror_mode": {
    "name": "ipython",
    "version": 3
   },
   "file_extension": ".py",
   "mimetype": "text/x-python",
   "name": "python",
   "nbconvert_exporter": "python",
   "pygments_lexer": "ipython3",
   "version": "3.10.10"
  },
  "name": "_merged_merged"
 },
 "nbformat": 4,
 "nbformat_minor": 4
}
