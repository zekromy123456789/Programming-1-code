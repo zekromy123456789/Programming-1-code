{
 "cells": [
  {
   "cell_type": "markdown",
   "metadata": {},
   "source": [
    "# Lecture 2\n",
    "\n",
    "### Expressions and Precedence; Printing; Variables; A Walkthrough; Variable Name Rules; The Variable Goes on the Left; A Silly Exercise; Basic Numerical Operations; `%` and `//`; Basic Numerical Operations; `%` and `//`; Functions and Modules"
   ]
  },
  {
   "cell_type": "markdown",
   "metadata": {},
   "source": [
    "# 1. Expressions and Precedence\n",
    "\n",
    "### * What happens if you have multiple operations?  Like, for example:"
   ]
  },
  {
   "cell_type": "code",
   "execution_count": null,
   "metadata": {},
   "outputs": [],
   "source": [
    "# EXAMPLE 1a: Several operations in an expression\n",
    "\n",
    "# ** is the EXPONENTIATION operator\n",
    "\n",
    "20 - 2 * 3 ** 2 + 1 "
   ]
  },
  {
   "cell_type": "markdown",
   "metadata": {},
   "source": [
    "### * The computer can only do one operation at a time, so it needs to choose an order to do them in.  How?\n",
    "\n",
    "### * The basic rules are:\n",
    "\n",
    "### 1. `**`(which is exponentiation) is evaluated before {`*`, `/`}, which are evaluated before {`+`, `-`}.\n",
    "\n",
    "### 2. Within each class, appearances of any of the symbols are evaluated as they are encountered in the expression, from left to right. (Actually, if you have multiple exponents, they're evaluated from right to left, but if you have multiple exponents you should just use parentheses anyway.)\n",
    "\n",
    "### * So, this evaluates as:\n",
    "\n",
    "`20 - 2 * 3 ** 2 + 1`\n",
    "\n",
    "`20 - 2 * 9 + 1`\n",
    "\n",
    "`20 - 18 + 1`\n",
    "\n",
    "`2 + 1`\n",
    "\n",
    "`3`\n",
    "\n",
    "\n",
    "<br><br><br><br><br><br><br><br><br><br>\n",
    "\n",
    "### * You can use parentheses to override the order of operations.  \n",
    "\n",
    "### * However, be aware that the \"adjacency implies multiplication\" rule that we use in algebra all the time doesn't work in Python.\n"
   ]
  },
  {
   "cell_type": "code",
   "execution_count": null,
   "metadata": {},
   "outputs": [],
   "source": [
    "# EXAMPLE 1b: Parentheses\n",
    "\n",
    "# This is NOT ok\n",
    "1 + 2(3 + 4)\n",
    "\n",
    "# \"Comment out\" the above line, by putting a hashtag in front of it.\n",
    "\n",
    "\n",
    "# THIS is how you could correctly write the above line.\n",
    "1 + 2 * (3 + 4)"
   ]
  },
  {
   "cell_type": "markdown",
   "metadata": {},
   "source": [
    "<br><br><br><br><br><br><br><br><br><br>\n",
    "\n",
    "\n",
    "# 2. Printing\n",
    "\n",
    "### * Above, we were able to see the value of the last expression in each cell.  That actually is a peculiarity of Jupyter -- if you were to run those programs in Spyder, for example, you would see nothing at all. \n",
    "\n",
    "### * If you, a human, want to see the value of an expression, you have to **print** it!"
   ]
  },
  {
   "cell_type": "code",
   "execution_count": null,
   "metadata": {},
   "outputs": [],
   "source": [
    "# EXAMPLE 2a: Print, by example\n",
    "\n",
    "print(3 + 4.5)\n",
    "print(1, 2, 'buckle my shoe', 3 * 4)\n"
   ]
  },
  {
   "cell_type": "markdown",
   "metadata": {},
   "source": [
    "\n",
    "### * `print()` statements usually appear on lines of code by themselves. \n",
    "\n",
    "### * You can put one or more valid expressions into the parentheses of a print statement, separated by commas.  Python will evaluate each expression, and then display the values, separated by single spaces.  \n",
    "\n",
    "### * Finally, by default, Python will put a *newline* at the end of each statement (kind of like pressing Enter at the end of a line when you are typing).\n",
    "\n",
    "<br><br><br><br><br><br><br><br><br><br>\n",
    "\n",
    "\n",
    "### * Going forward, when I introduce language elements, I'll sometimes use notation like this:"
   ]
  },
  {
   "cell_type": "code",
   "execution_count": null,
   "metadata": {
    "tags": []
   },
   "outputs": [],
   "source": [
    "SYNTAX FOR THE PRINT FUNCTION (Do not rune me):\n",
    "\n",
    "print(<expression 1>, <expression 2>, <expression 3>, <as many expressions as you like>)"
   ]
  },
  {
   "cell_type": "markdown",
   "metadata": {},
   "source": [
    "### * *Syntax* refers to how you order language elements to create statement that Python can find a valid interpretation for.  \n",
    "\n",
    "### * In this example, the bits between each pair of `<` and `>` is something you can replace with any expression you like.  You don't actually type `<` or `>` or the words `expression 1`: `<expression 1>` represents a blank that you can fill in! \n",
    "\n",
    "### * On the other hand, you *should* literally be typing the word `print`, the parentheses `(` and `)`, and the commas (if you're printing multiple expressions).\n",
    "\n",
    "<br><br><br><br><br><br><br><br><br><br>\n",
    "\n",
    "### * You can also suppress the automatic newline at the end of a print by including `end = ''` at the end of the print statement, as follows."
   ]
  },
  {
   "cell_type": "code",
   "execution_count": null,
   "metadata": {
    "tags": []
   },
   "outputs": [],
   "source": [
    "# EXAMPLE 2b: Suppressing the automatic newline\n",
    "\n",
    "print(10)\n",
    "print(11)\n",
    "print(12, end = '') # This print statement won't be followed by an automatic newline...\n",
    "print(13)           # ...which means that this is displayed IMMEDIATELY after the 12, not even a space in between.\n",
    "print(14)"
   ]
  },
  {
   "cell_type": "markdown",
   "metadata": {},
   "source": [
    "<br><br><br><br><br><br><br><br><br><br>\n",
    "\n",
    "\n",
    "# 3. Variables\n",
    "\n",
    "### * A **_variable_** is a *name* that is associated with a *value*. (Maybe a bit of a simplification.)\n",
    "\n",
    "### * When Python encounters a word not in quotes, which isn't a built-in Python command, it assumes that the program is referring to a variable with that name.\n",
    "\n",
    "### * **_Purpose of variables: to hold data values for reference later on._**  \n",
    "\n",
    "### * You create variables and update their values using the **_assignment operator_**, which is just the single `=` sign."
   ]
  },
  {
   "cell_type": "code",
   "execution_count": null,
   "metadata": {},
   "outputs": [],
   "source": [
    "VARIABLE ASSIGNMENT SYNTAX (do not run me):\n",
    "\n",
    "<variable name> = <expression>\n",
    "\n",
    "# NOTE: the variable name goes on the LEFT!\n",
    "# Don't put anything other than a single variable name to the left of an = sign."
   ]
  },
  {
   "cell_type": "markdown",
   "metadata": {},
   "source": [
    "### * When you write this line, the following things happen (crucial to understand!!!!!):\n",
    "\n",
    "1. **_FIRST_**, the right side gets evaluated.\n",
    "\n",
    "2. **_THEN_**, Python checks if a variable with the given name exists yet.  \n",
    "\n",
    "3. If `<variable name>` **doesn't** already exist in the program, Python creates a variable with that name, and assigns the value of the right side to it.  If `<variable name>` **does** already exist, Python replaces its value with the value on the right side.\n",
    "\n",
    "4. Until `<variable name>` gets reassigned, all subsequent references to it will evaluate to that value.\n",
    "\n",
    "\n",
    "<br><br><br><br><br><br><br><br><br><br><br>\n"
   ]
  },
  {
   "cell_type": "code",
   "execution_count": null,
   "metadata": {
    "tags": []
   },
   "outputs": [],
   "source": [
    "# EXAMPLE 3a: Variables and assignments\n",
    "\n",
    "x = 4 + 2         # Create a variable named x\n",
    "\n",
    "x + (3 + 4)       # x evaluates to 6, 3+4 evaluates to 7, \n",
    "                  # and so the whole expression evaluates to 13"
   ]
  },
  {
   "cell_type": "code",
   "execution_count": null,
   "metadata": {
    "tags": []
   },
   "outputs": [],
   "source": [
    "# EXAMPLE 3b: More variables, and reassignments\n",
    "# abc and xyz are the names of two variables\n",
    "\n",
    "abc = 3\n",
    "xyz = abc + 5\n",
    "print(abc*10, xyz)\n",
    "\n",
    "abc = 6\n",
    "print(abc*10, xyz)"
   ]
  },
  {
   "cell_type": "markdown",
   "metadata": {},
   "source": [
    "<br><br><br><br><br><br><br><br><br><br>\n",
    "\n",
    "# 4. A Walkthrough\n",
    "\n",
    "### * Try to figure out what happens in the following program.\n",
    "\n",
    "### * When you've got an idea, add print statements to the bottom to confirm.\n",
    "\n",
    "### * Hints: statements execute in order; on any line, a variable has the value of its most recent assignment; assignments starts on the right!"
   ]
  },
  {
   "cell_type": "code",
   "execution_count": 1,
   "metadata": {},
   "outputs": [
    {
     "name": "stdout",
     "output_type": "stream",
     "text": [
      "12\n",
      "9\n",
      "11\n",
      "x\n"
     ]
    }
   ],
   "source": [
    "# EXAMPLE 4a: Walkthrough\n",
    "\n",
    "x = 4        \n",
    "y = 1        \n",
    "z = 2\n",
    "a = 3\n",
    "y = x + 5\n",
    "z = z + y    \n",
    "z - 2        \n",
    "x = 3 * x # DON'T WRITE \"3x\" -- actually put the \"*\" explicitly.   \n",
    "a = 'x'\n",
    "print(x)\n",
    "print(y)\n",
    "print(z)\n",
    "print(a)\n",
    "# When you're ready, print out x,y,z,a.\n",
    "# x will = 12 y will = 9 z will = 11 a = 'x'"
   ]
  },
  {
   "cell_type": "markdown",
   "metadata": {},
   "source": [
    "<br><br><br><br><br><br><br><br><br><br>\n",
    "\n",
    "# 5. Variable Name (\"Identifier\") Rules\n",
    "\n",
    "### * Name of a variable is sometimes called the variable's **_identifier_**.  \n",
    "\n",
    "### * Rules for Python identifiers:\n",
    "\n",
    "- Only letters, digits, and underscores (`_`), no spaces or other punctuation\n",
    "\n",
    "- May not begin with a digit\n",
    "\n",
    "- May not be a reserved word (`if`, `import`, `def`, etc.)\n",
    "\n",
    "### * Some legal identifiers: `hey123`, `AHHH`, `_x_y_z`\n",
    "\n",
    "### * Some illegal identifiers: `2nd_place`, `what?`, `got spaces`\n",
    "\n",
    "### * Also:\n",
    "\n",
    "- Identifiers are case-sensitive: `hello` is not the same as `hElLo`\n",
    "\n",
    "- Probably should be *meaningful*\n",
    "\n",
    "- We'll start variable names with lowercase letters usually\n",
    "\n",
    "\n",
    "<br><br><br><br><br><br><br><br><br><br>\n",
    "\n",
    "# 6. The Variable Goes on the Left!!!\n",
    "\n",
    "### * Imagine that instead of `x = 4 + 2`, I tried to create a variable by writing\n",
    "\n",
    "`4 + 2 = x`\n",
    "\n",
    "### What would the four steps from before have to say about that?\n",
    "\n",
    "\n",
    "1. First evaluate `x`.  What is its value? It's not yet defined.  That seems like a problem...\n",
    "\n",
    "2. Is 4 + 2 an existing variable name?  That doesn't work at all as the name of a variable!\n",
    "\n",
    "\n",
    "### I'll stop there: there will be an error!\n",
    "\n",
    "<br><br><br><br><br><br><br><br><br><br>"
   ]
  },
  {
   "cell_type": "markdown",
   "metadata": {},
   "source": [
    "# 7. A Silly Exercise\n",
    "\n",
    "### * Let's write a silly program for practice.  It's kind of like the \"average the quiz scores with a curve\" example from before, but more useless.  \n",
    "\n",
    "### * We'll do this in steps.  Put all your code in the box below.\n",
    "\n",
    "\n",
    "\n",
    "\n",
    "### * STEP 1: create three variables; call them `stud_name`, `score1`, and `score2`.  The variable `stud_name` should be assigned the string value \"Frankenstein\", while `score1` should be assigned the int value 90, and `score2` should be assigned the int value 100.  \n",
    "\n",
    "\n",
    "### * STEP 2: continuing in the same code box, create one more variable called `avg`.  This variable should be assigned to be the average of the two scores.  Here's the catch: **in this step, you are NOT ALLOWED to type 90, 100, or 95.**  Instead, use the variables you created in Step 1.\n",
    "\n",
    "\n",
    "### * STEP 3: now, have your program print out the message:\n",
    "\n",
    "`Hi Frankenstein`\n",
    "\n",
    "`Your Average is 95.0`\n",
    "\n",
    "### Once again, there is a catch: **in this step, you are NOT ALLOWED to type the word \"Frankenstein\" or any numbers.** Instead, use the variables you created in Step 1 and Step 2."
   ]
  },
  {
   "cell_type": "code",
   "execution_count": null,
   "metadata": {},
   "outputs": [],
   "source": [
    "# EXAMPLE 7a: Frankenstein's Average\n",
    "# See instructions above.\n",
    "\n",
    "# Put your code for STEP 1 below.\n",
    "\n",
    "\n",
    "\n",
    "# Put your code for STEP 2 below.\n",
    "\n",
    "\n",
    "# Put your code for STEP 3 below.\n",
    "\n",
    "\n"
   ]
  },
  {
   "cell_type": "markdown",
   "metadata": {},
   "source": [
    "<br><br><br><br><br><br><br><br><br><br>\n",
    "\n",
    "# 8.  Basic Numerical Operators\n",
    "\n",
    "### * With `int`s and `float`s, the basic operators are `+`, `-`, `*`, `/`, and `**`.  The first two can be used with a single number, to indicate positive or negative, and all of them can be used with two operands.  \n",
    "\n",
    "### * Caveats:\n",
    "\n",
    "- Can't divide by 0.\n",
    "\n",
    "- `float`s can be \"weird\"; I'll elaborate shortly. \n",
    "\n",
    "- If you add or subtract or multiply two `int`s, the result will be an `int`.  If you divide two `int`s, or perform any operation involving at least one `float`, the result will *always* be a `float` (even if you divide 12 by 6, the is a `float`).\n",
    "\n",
    "- Python supports complex numbers, but it uses the letter `j` for $\\sqrt{-1}$ instead of `i`."
   ]
  },
  {
   "cell_type": "code",
   "execution_count": null,
   "metadata": {},
   "outputs": [],
   "source": [
    "# EXAMPLE 8a: Arithmetic\n",
    "# What do these evaluate to?\n",
    "\n",
    "print(5 + 2)     # Notice the output types for these four lines:\n",
    "print(6.0 * 4)   # if it has a decimal point, Python's producing a float,  \n",
    "print(12 / 6)    # if not, almost certainly Python's produced an int.\n",
    "\n",
    "print(2 ** 10)     #\n",
    "print(2 ** 0.5)    # Exponents\n",
    "print((-2) ** 0.5) #\n",
    "\n",
    "print(3 / 0)        # I think you know this is an error"
   ]
  },
  {
   "cell_type": "markdown",
   "metadata": {},
   "source": [
    "<br><br><br><br><br><br><br><br><br><br>\n",
    "\n",
    "# 9. `%` and `//`\n",
    "\n",
    "### * For positive `int`s, two more operations: mod `%` and floored division `//`.  \n",
    "\n",
    "### * `x % y` gives the remainder when `x` is divided by `y`.  \n",
    "\n",
    "### * `x // y` gives *integer part of division*: `x // y` divides `x` by `y`, but simply removes the decimal part."
   ]
  },
  {
   "cell_type": "code",
   "execution_count": null,
   "metadata": {},
   "outputs": [],
   "source": [
    "# EXAMPLE 9a: % and //\n",
    "# What are the answers?\n",
    "\n",
    "print(29//7)\n",
    "print(29 % 7)\n",
    "print(123 % 10)\n",
    "\n",
    "# Check this one out: what am I doing?\n",
    "x = 1896\n",
    "print( (x//100) % 10 )"
   ]
  },
  {
   "cell_type": "markdown",
   "metadata": {},
   "source": [
    "<br><br><br><br><br><br><br><br><br><br>\n",
    "\n",
    "\n",
    "# 10. Functions and Modules"
   ]
  },
  {
   "cell_type": "markdown",
   "metadata": {},
   "source": [
    "### * A **_function_** in Python is any expression that has the general form"
   ]
  },
  {
   "cell_type": "code",
   "execution_count": null,
   "metadata": {},
   "outputs": [],
   "source": [
    "BASIC FUNCTION SYNTAX:\n",
    "\n",
    "<fn name>(  <inputs>  )\n"
   ]
  },
  {
   "cell_type": "markdown",
   "metadata": {},
   "source": [
    "### * So a function is something that you write with parentheses, that often (not always) has inputs, and which can be evaluated to obtain a value. \n",
    "\n",
    "### * Example of a typical function: `len()`.  If you put a `str` inside the `len()` function, it produces a value: the number of characters in that `str`.  "
   ]
  },
  {
   "cell_type": "code",
   "execution_count": null,
   "metadata": {},
   "outputs": [],
   "source": [
    "# EXAMPLE 10a: len()\n",
    "\n",
    "x = 'hello'\n",
    "\n",
    "len('goodbye')  # This line is valid Python, but doesn't do much.\n",
    "\n",
    "s = len(x)   # But these two lines are\n",
    "print(s)     # more interesting!\n"
   ]
  },
  {
   "cell_type": "markdown",
   "metadata": {},
   "source": [
    "<br><br><br><br><br><br><br><br><br><br>\n",
    "\n",
    "\n",
    "### * For math functions, first **import the `math` module**.  (And then use Google to get the names of common functions, which all start with `math.` .)"
   ]
  },
  {
   "cell_type": "code",
   "execution_count": null,
   "metadata": {},
   "outputs": [],
   "source": [
    "# EXAMPLE 10b: The math module\n",
    "\n",
    "# The line below IMPORTS A MODULE: the math module, which contains\n",
    "# functions beyond basic arithmetic\n",
    "\n",
    "#      |\n",
    "#      |\n",
    "#      V\n",
    "\n",
    "\n",
    "import math \n",
    "\n",
    "\n",
    "#      ^\n",
    "#      |\n",
    "#      |\n",
    "\n",
    "\n",
    "# Now you can use functions and variables in the math module; just write math. \n",
    "# in front of whatever you need.\n",
    "\n",
    "y = 25.0\n",
    "z = (3.14159)/6 # This is a crappy way of writing PI/6 -- see below.\n",
    "\n",
    "# math.exp() is the function e^x\n",
    "print(math.exp(1))\n",
    "# math.sqrt() is the square root function\n",
    "print(math.sqrt(y))\n",
    "# I think you can guess this one\n",
    "print(math.sin(z))\n",
    "\n",
    "# math.pi isn't a function -- it's an imported variable. \n",
    "# Indeed, notice the lack of parentheses.\n",
    "print(math.pi)"
   ]
  }
 ],
 "metadata": {
  "kernelspec": {
   "display_name": "Python 3 (ipykernel)",
   "language": "python",
   "name": "python3"
  },
  "language_info": {
   "codemirror_mode": {
    "name": "ipython",
    "version": 3
   },
   "file_extension": ".py",
   "mimetype": "text/x-python",
   "name": "python",
   "nbconvert_exporter": "python",
   "pygments_lexer": "ipython3",
   "version": "3.10.10"
  },
  "name": "_merged_merged"
 },
 "nbformat": 4,
 "nbformat_minor": 4
}
