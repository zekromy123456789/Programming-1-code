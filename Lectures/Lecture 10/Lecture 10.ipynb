{
 "cells": [
  {
   "cell_type": "markdown",
   "metadata": {},
   "source": [
    "# Lecture 10\n",
    "\n",
    "### A Couple More Remarks About `range()`s; Sigma Notation; A Harder Summation; Monte Carlo Simulation; The Unit Square Game; Numerical Integration; File Objects; Writing to File Objects; Saving `n` Entries"
   ]
  },
  {
   "cell_type": "markdown",
   "metadata": {},
   "source": [
    "# 1. A Couple More Remarks About `range()`s\n",
    "\n",
    "#### * Recall: `range(n)` creates the \"list\" `[0, 1, 2, ..., n-1]`, with `n` elements\n",
    "\n",
    "#### * And `range(start, stop)` gives `[start, start + 1, start + 2, ..., stop - 1]`\n",
    "\n",
    "#### * And `range(start, stop, step)` does the same, except it counts by the step size.\n"
   ]
  },
  {
   "cell_type": "code",
   "execution_count": null,
   "metadata": {},
   "outputs": [],
   "source": [
    "# EXAMPLE 1a: Step\n",
    "\n",
    "for i in range(10, 15):\n",
    "    print(i)\n",
    "\n",
    "print('AND')\n",
    "\n",
    "for j in range(8, 20, 3):\n",
    "    print(j)"
   ]
  },
  {
   "cell_type": "markdown",
   "metadata": {},
   "source": [
    "<br><br><br><br><br><br><br><br><br><br>\n",
    "\n",
    "#### * Note 1: can use negative step sizes to count backwards!  \n",
    "\n",
    "#### `range(<x>, <y>, <negative step>)` will count starting with `<x>`...\n",
    "\n",
    "#### and ending when it reaches a number LESS than or equal to `<y>`  (so `<x>` should be larger number)"
   ]
  },
  {
   "cell_type": "code",
   "execution_count": null,
   "metadata": {},
   "outputs": [],
   "source": [
    "#EXAMPLE 1b: Here's how negative steps work.\n",
    "print('range(10, 0, -1):')\n",
    "for i in range(10, 0, -1):\n",
    "    print(i)\n",
    "print('Happy new year')"
   ]
  },
  {
   "cell_type": "markdown",
   "metadata": {},
   "source": [
    "#### * Note 2: a `range()` isn't reallllllly a `list`.  If you reallllllly need a list outside of a loop, try, e.g., `x = list(range(37))` (But you rarely need this!)"
   ]
  },
  {
   "cell_type": "code",
   "execution_count": null,
   "metadata": {},
   "outputs": [],
   "source": [
    "# NOTE 2: A range() isn't really a list.\n",
    "\n",
    "# Look what happens if you want to print range(37)\n",
    "x = range(37)\n",
    "print(x)\n",
    "\n",
    "# If you realllly need the list [0, 1, 2, ..., 36] outside of a loop:\n",
    "# y = list(range(37))\n",
    "# print(y)"
   ]
  },
  {
   "cell_type": "markdown",
   "metadata": {},
   "source": [
    "<br><br><br><br><br>\n",
    "<br><br><br><br><br>\n",
    "\n",
    "# 2. Sigma Notation\n",
    "\n",
    "\n",
    "#### * $ \\displaystyle \\sum_{n = 1}^{100} \\sin(n^2) = ?$  `for`-loop is perfect! \n",
    "\n",
    "#### * $ \\displaystyle \\sum_{n = 1}^{100} \\sin(n^2)$ means:\n",
    "\n",
    "$$  \\sum_{n = 1}^{100} \\sin(n^2) = \\sin(1^2) + \\sin(2^2) + \\sin(3^2) + \\ldots + \\sin(100^2) $$\n",
    "\n",
    "#### * Suggestion: choose $n$ in `range(1, 101)`, to match the notation"
   ]
  },
  {
   "cell_type": "code",
   "execution_count": 1,
   "metadata": {},
   "outputs": [
    {
     "name": "stdout",
     "output_type": "stream",
     "text": [
      "1.5839364467201182\n",
      "1.5839364467201182\n"
     ]
    }
   ],
   "source": [
    " # Example 2a: Sigma notation\n",
    "import math\n",
    "\n",
    "big_sigma = 0\n",
    "for n in range(1,101):\n",
    "    big_sigma += math.sin(n**2)\n",
    "print(big_sigma)\n",
    "\n",
    "###\n",
    "# This works too, since it has the right number of terms. \n",
    "# The formula might be a bit puzzling -- \n",
    "# but if you look at the first and second and last terms, it appears to work.\n",
    "big_sigma = 0\n",
    "for n in range(100):\n",
    "    big_sigma += math.sin( (n+1)**2 )\n",
    "print(big_sigma)"
   ]
  },
  {
   "cell_type": "markdown",
   "metadata": {},
   "source": [
    "<br><br><br><br><br>\n",
    "<br><br><br><br><br>\n",
    "\n",
    "# 3. A Harder Sum\n",
    "\n",
    "#### * $(1.8)^2 + (2.4)^2 + (3.0)^2 + (3.6)^2 + \\ldots + (94.2)^2 = ??? $\n",
    "\n",
    "#### * `range()` doesn't work with non-integer step!\n",
    "\n",
    "#### * Let's find $\\Sigma$ notation: count number of terms, are find $n$th term in terms of $n$\n",
    "\n",
    "#### * First question: do you see pattern?  What is next term after $(3.6)^2$?"
   ]
  },
  {
   "cell_type": "code",
   "execution_count": 10,
   "metadata": {},
   "outputs": [
    {
     "name": "stdout",
     "output_type": "stream",
     "text": [
      "156\n",
      "468832.80000000005\n"
     ]
    }
   ],
   "source": [
    "# EXAMPLE 3a: (1.8)^2 + (2.4)^2 + (3.0)^2 + (3.6)^2 + ... + (94.2)^2\n",
    "\n",
    "big_sig = 1.2\n",
    "x = int((94.2-1.8) // .6)\n",
    "x += 2\n",
    "print(x)\n",
    "for n in range(1,x):\n",
    "    big_sig += ((1.2 + n*.6)**2)\n",
    "print(big_sig)\n"
   ]
  },
  {
   "cell_type": "markdown",
   "metadata": {},
   "source": [
    "<br><br><br><br><br><br><br><br><br><br>\n",
    "\n",
    "# 4. Monte Carlo Simulations\n",
    "\n",
    "#### * Question: I roll 2 fair dice.  What is the probability that the sum of the values is odd and less than 10?\n",
    "\n",
    "\n",
    "#### * Frequentist perspective: if I roll 2 dice over and over again, probability $\\approx$ percent of the time that I get an odd sum $<10$ \n",
    "\n",
    "#### * (Law of Large Numbers and Central Limit Theorem can make this more precise)\n",
    "\n",
    "\n",
    "<br><br><br><br><br>\n",
    "<br><br><br><br><br>\n",
    "\n",
    "\n",
    "#### * Strategy:\n",
    "\n",
    "#### --- Pick 1,000,000 pairs of random numbers\n",
    "#### --- For each pair, add them\n",
    "#### --- If sum is odd and $<10$, add 1 to a \"count of successes\" variable\n",
    "#### --- At end, report (number of successes)/(total number of rolls) \n",
    "\n",
    "#### * This strategy is called *Monte Carlo simulation*."
   ]
  },
  {
   "cell_type": "code",
   "execution_count": null,
   "metadata": {},
   "outputs": [],
   "source": [
    "# EXAMPLE 4a: What's the probability that the sum of 2 dice is odd?\n",
    "import random\n",
    "\n",
    "# Here, \"success\" means the sum is odd and under than 10\n",
    "count_of_successes = 0\n",
    "\n",
    "num_of_rolls = 10 ** 6\n",
    "\n",
    "\n",
    "for i in range(num_of_rolls):\n",
    "    # Each time, generate two rolls...\n",
    "    first_roll = random.randrange(1,7)\n",
    "    second_roll = random.randrange(1,7)\n",
    "    \n",
    "    # ... then add them ...\n",
    "    sum_of_rolls = first_roll + second_roll\n",
    "    \n",
    "    # ... and if the sum is odd and under 10, add 1 to the count of successes!\n",
    "    if sum_of_rolls % 2 == 1 and sum_of_rolls < 10:\n",
    "        count_of_successes += 1\n",
    "\n",
    "# The relative frequency of success ~= probability        \n",
    "prob = count_of_successes/num_of_rolls\n",
    "print(f'Probability that two fair dice sum to an odd number less than 10 is approximately: {prob:.6f}')"
   ]
  },
  {
   "cell_type": "markdown",
   "metadata": {},
   "source": [
    "<br><br><br><br><br>\n",
    "<br><br><br><br><br>\n",
    "\n",
    "\n",
    "# 5.  The Unit Square Game\n",
    "\n",
    "#### * \"Unit square\" = square of points with $0 \\leq x \\leq 1$ and $0 \\leq y \\leq 1$\n",
    "\n",
    "#### * Question: if you pick a random point in unit square, what is probability that $x^2 + y^2 \\leq 1$?\n",
    "\n",
    "#### * Use `random.random()` to produce random `float`s between 0 and 1"
   ]
  },
  {
   "cell_type": "code",
   "execution_count": null,
   "metadata": {},
   "outputs": [],
   "source": [
    "# EXAMPLE 5a: What is the probability that a random point in the unit square satisfies x^2 + y^2 <= 1?\n",
    "\n",
    "import random\n",
    "\n",
    "count_of_successes = 0\n",
    "\n",
    "num_of_points = 10 ** 6\n",
    "\n",
    "\n",
    "#\n",
    "# WRITE THE SIMULATION LOOP\n",
    "#\n",
    "\n",
    "\n",
    "prob = count_of_successes/num_of_points\n",
    "\n",
    "\n",
    "print(f'Probability = {prob:.6f}')\n",
    "print(f'Probability times four = {4*prob:.6f}')\n",
    "# Why am I bothering to print the probability times 4?  You may notice something."
   ]
  },
  {
   "cell_type": "markdown",
   "metadata": {},
   "source": [
    "<br><br><br><br><br>\n",
    "<br><br><br><br><br>\n",
    "\n",
    "\n",
    "# 6. Numerical Integration\n",
    "\n",
    "\n",
    "#### * Problem: compute the area under the curve $y = f(x)$ from $x=a$ to $x=b$.  In other words, compute $\\int_a^b f(x) dx$.\n",
    "\n",
    "#### * Sometimes can't use Fundamental Theorem of Calculus, because either:\n",
    "\n",
    "#### --- $f(x)$ doesn't have an elementary antiderivative, or\n",
    "\n",
    "#### --- $f(x)$ doesn't even have a formula!\n",
    "\n",
    "#### * Use numerical methods for these problems.\n",
    "\n",
    "\n",
    "<br><br><br><br><br>\n",
    "<br><br><br><br><br>\n",
    "\n",
    "#### * Suppose you had to estimate $\\int_2^8 \\sqrt{1 + \\sin^2(x)} dx$.  Strategy:\n",
    "\n",
    "####  1. Pick a large value of $N$, like $N = 20$.\n",
    "\n",
    "#### 2. Divide the interval $[2,8]$ of $x$-values into $20$ equal intervals. \n",
    "\n",
    "\n",
    "![IMAGE NOT FOUND!!!!!!!!!!!!!!!!!](axis.png)\n",
    "\n",
    "#### 3. Next, plot 21 points of the graph of $\\sqrt{1 + \\sin^2(x)}$. \n",
    "\n",
    "\n",
    "\n",
    "![IMAGE NOT FOUND!!!!!!!!!!!!!!!!!](dots.png)\n",
    "\n",
    "\n",
    "\n",
    "<br><br><br><br><br>\n",
    "<br><br><br><br><br>\n",
    "\n",
    "\n",
    "#### 4. Now, connect the dots by **straight line segments** (sometimes this is called *linear interpolation*).\n",
    "\n",
    "\n",
    "![IMAGE NOT FOUND!!!!!!!!!!!!!!!!!](actual.png)\n",
    "\n",
    "\n",
    "\n",
    "\n",
    "\n",
    "#### 5. Finally, find the area under **this** graph, by thinking of it as 20 trapezoidal slices. \n",
    "\n",
    "#### -- Area of each slice will be $(\\mbox{left y value} + \\mbox{right y value})\\cdot \\frac{width}{2}$.  \n",
    "\n",
    "\n",
    "\n",
    "![IMAGE NOT FOUND!!!!!!!!!!!!!!!!!](trapezoids.png)\n",
    "\n",
    "\n",
    "<br><br><br><br><br>\n",
    "<br><br><br><br><br>\n",
    "\n",
    "\n",
    "#### * Good news: formula!\n",
    "\n",
    "#### $\\int_a^b f(x) dx \\approx \\frac{\\Delta x}{2}(1f(x_0) + 2f(x_1) + 2f(x_2) + \\ldots + 2f(x_{N-1}) + 1f(x_N))$, where $\\Delta x = \\frac{b-a}{n}$, and $x_i = a + i\\Delta x$.  \n",
    "\n",
    "#### * Your homework uses a slightly different formula.\n",
    "\n",
    "\n",
    "#### * Suggestions: do it by hand once; match my notation (for example, $x_i$ ->  `x_i`)\n"
   ]
  },
  {
   "cell_type": "markdown",
   "metadata": {},
   "source": [
    "<br><br><br><br><br><br><br><br><br><br>\n",
    "\n",
    "# 7. File Objects\n",
    "\n",
    "### * Python provides a way to directly read from and write to files (e.g. Word files, Excel spreadsheets, PDFs, MP3s, JPEGs, web documents, etc.)\n",
    "\n",
    "### * Today we'll focus on writing to `.txt` files\n"
   ]
  },
  {
   "cell_type": "code",
   "execution_count": null,
   "metadata": {},
   "outputs": [],
   "source": [
    "CREATING AND CLOSING FILE OBJECTS SYNTAX\n",
    "\n",
    "  OPEN A FILE FOR WRITING:\n",
    "\n",
    "<fileobj var> = open('<actual file name>', 'w')\n",
    "\n",
    "  CLOSE A FILE:\n",
    "\n",
    "<fileobj var>.close()"
   ]
  },
  {
   "cell_type": "markdown",
   "metadata": {},
   "source": [
    "### * A file object is a variable which is associated to a file.  \n",
    "\n",
    "### * When you `open()` a file in writing mode (`'w'`), you will be writing over its contents, so be careful! (If no file exists with the given name, one will be created.) \n",
    "\n",
    "### * The file name you supply needs to including the extension. By default, the file will be written into the same folder as your Python script. \n",
    "\n",
    "### * Be sure to close any files you open when you are done!"
   ]
  },
  {
   "cell_type": "code",
   "execution_count": null,
   "metadata": {},
   "outputs": [],
   "source": [
    "# EXAMPLE 7a: Creating file objects\n",
    "\n",
    "# Create a blank file\n",
    "blanky_blank = open('blanky.txt', 'w')\n",
    "\n",
    "blanky_blank.close() # Always close file objects!"
   ]
  },
  {
   "cell_type": "markdown",
   "metadata": {},
   "source": [
    "<br><br><br><br><br><br><br><br><br><br>\n",
    "\n",
    "\n",
    "# 8. Writing to File Objects"
   ]
  },
  {
   "cell_type": "code",
   "execution_count": null,
   "metadata": {},
   "outputs": [],
   "source": [
    "WRITE A STRING INTO A (WRITING-MODE) FILE:\n",
    " \n",
    "\n",
    "<fileobj var>.write(<string>)\n",
    "                       ^\n",
    "                       |\n",
    "                       |\n",
    "                    SINGLE STRING VALUE   (no ints! no floats! no commas!)"
   ]
  },
  {
   "cell_type": "markdown",
   "metadata": {},
   "source": [
    "### * When you `.write()` a string to a file object, that string will be inserted into the file.  You can write several strings to a file; they will be placed in the file one after another, without spaces in between. \n",
    "\n",
    "### * Note: you don't have to write an `=` sign with `.write()`.  The `.write()` at the end of a file object variable is an instruction in and of itself!\n",
    "\n"
   ]
  },
  {
   "cell_type": "code",
   "execution_count": 2,
   "metadata": {},
   "outputs": [],
   "source": [
    "# EXAMPLE 8a: Writing and file objects\n",
    "\n",
    "stf = open('stuff.txt', 'w')\n",
    "\n",
    "first = 'Start'\n",
    "stf.write(first)\n",
    "\n",
    "stf.write('Notice where this goes.')\n",
    "\n",
    "also = 'If\\nyou\\nwant\\nnewlines\\nthis is how you get them.'\n",
    "stf.write(also)\n",
    "\n",
    "stf.close() # Don't forget to close!"
   ]
  },
  {
   "cell_type": "markdown",
   "metadata": {},
   "source": [
    "<br><br><br><br><br><br><br><br><br><br>\n",
    "\n",
    "### * Be aware that you can only place **single string values** into a `.write()` command.  It's not like print: you can't put commas, or numerical values.  \n",
    "\n",
    "### * But f-strings help!"
   ]
  },
  {
   "cell_type": "code",
   "execution_count": 5,
   "metadata": {},
   "outputs": [],
   "source": [
    "# EXAMPLE 8b: Do's and don'ts\n",
    "\n",
    "another = open('more.txt', 'w')\n",
    "\n",
    "another.write('This' , 'does', 'not', 'work')\n",
    "another.write('But' + 'this' + 'does')\n",
    "\n",
    "x = 17\n",
    "another.write(x)        # Doesn't work!\n",
    "another.write(f'{x}')   # This does!\n",
    "\n",
    "another.close()"
   ]
  },
  {
   "cell_type": "markdown",
   "metadata": {},
   "source": [
    "<br><br><br><br><br><br><br><br><br><br>\n",
    "\n",
    "### * Let's write a nametag factory.  The user inputs their name, and the program will then write `Hello my name is <blank>.` into a file named `nametag.txt`."
   ]
  },
  {
   "cell_type": "code",
   "execution_count": null,
   "metadata": {},
   "outputs": [],
   "source": [
    "# EXAMPLE 8c: Nametag factory\n",
    "\n",
    "n = input('Enter name: ')\n",
    "\n",
    "#\n",
    "# CODE HERE\n",
    "#\n",
    "\n"
   ]
  },
  {
   "cell_type": "markdown",
   "metadata": {},
   "source": [
    "<br><br><br><br><br>\n",
    "<br><br><br><br><br>\n",
    "\n",
    "# 9. Saving `n` Entries\n",
    "\n",
    "#### * What if you want to accept a list of `n` names from the user?\n",
    "\n",
    "\n",
    "#### * You need:\n",
    "\n",
    "#### --- a loop that runs `n` times, and\n",
    "\n",
    "#### --- and a list that starts out empty;\n",
    "\n",
    "#### --- each time through the loop, ask user for next name, append to list"
   ]
  },
  {
   "cell_type": "code",
   "execution_count": null,
   "metadata": {},
   "outputs": [],
   "source": [
    "# EXAMPLE 9a: Grab n names\n",
    "\n",
    "num_names = int(input('How many names do you want to store? '))\n",
    "\n",
    "name_list = []\n",
    "\n",
    "for i in range(num_names):\n",
    "    #\n",
    "    # What happens each time? \n",
    "    #\n",
    "\n",
    "print(name_list)"
   ]
  }
 ],
 "metadata": {
  "kernelspec": {
   "display_name": "Python 3 (ipykernel)",
   "language": "python",
   "name": "python3"
  },
  "language_info": {
   "codemirror_mode": {
    "name": "ipython",
    "version": 3
   },
   "file_extension": ".py",
   "mimetype": "text/x-python",
   "name": "python",
   "nbconvert_exporter": "python",
   "pygments_lexer": "ipython3",
   "version": "3.10.10"
  },
  "name": "_merged_merged"
 },
 "nbformat": 4,
 "nbformat_minor": 4
}
