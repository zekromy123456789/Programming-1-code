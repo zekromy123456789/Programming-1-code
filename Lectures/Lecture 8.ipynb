{
 "cells": [
  {
   "cell_type": "markdown",
   "metadata": {},
   "source": [
    "# Lecture 8\n",
    "\n",
    "### Local Variables and Evan's Laws; Lists; Slicing; Mutability Operations; `str`s are Immutable; `.split()`; Calculator; `for` Loops"
   ]
  },
  {
   "cell_type": "markdown",
   "metadata": {},
   "source": [
    "# 1. Local Variables and Laws of Good Practice for Functions\n",
    "\n",
    "### * A *local variable* is a variable that is either a formal parameter of the function, or one which is **created** in the body of a function.  \n",
    "\n",
    "### * Beginners sometimes misuse functions in ways that either *cause* confusion, or straight-up do not work.  \n",
    "\n",
    "### * Explaining exactly why certain things are bad ideas or illegal tends to eat up more time than I want to spend right now.  \n",
    "\n",
    "\n",
    "<br><br><br><br><br><br><br><br><br><br>\n",
    "\n",
    "\n",
    "### * To guide you in the right direction without having to explain myself, I hereby hand down to you: \n",
    "\n",
    "### 1. The only variables you can use within the body of a function definition are local variables.\n",
    "### 2. Local variables may not appear outside of the function definition.\n",
    "### 3. `print()` never goes in a function body.\n",
    "\n",
    "### * (Actually, none of these are really laws at all -- but for now, I suggest you follow them.)\n",
    "\n",
    "\n",
    "<br><br><br><br><br><br><br><br><br><br>\n"
   ]
  },
  {
   "cell_type": "code",
   "execution_count": null,
   "metadata": {},
   "outputs": [],
   "source": [
    "# EXAMPLE 1a: Law 1 violation\n",
    "\n",
    "x = 20 # x is created here...\n",
    "\n",
    "def x_times_y(y):\n",
    "    x = x*y     # ...and so x is not local: violating Law 1\n",
    "    return x    \n",
    "\n",
    "print(x_times_y(10))\n",
    "# And whoops -- error!"
   ]
  },
  {
   "cell_type": "code",
   "execution_count": null,
   "metadata": {},
   "outputs": [],
   "source": [
    "# EXAMPLE 1b: Law 2 violation\n",
    "\n",
    "def fn(z):\n",
    "    new_guy = z + 1 # new_guy is local...\n",
    "    return new_guy\n",
    "\n",
    "x = fn(40)\n",
    "\n",
    "print(new_guy) # ...and so this is a Law 2 violation\n",
    "# And whoops -- error!"
   ]
  },
  {
   "cell_type": "code",
   "execution_count": null,
   "metadata": {},
   "outputs": [],
   "source": [
    "# EXAMPLE 1c: Law 3 violation\n",
    "\n",
    "def bad_max(x, y):\n",
    "    if x > y:\n",
    "        output = x\n",
    "    else:\n",
    "        output = y\n",
    "    print(output)  # Law 3 violation!!!\n",
    "    \n",
    "\n",
    "# At first this seems fine...mostly. \n",
    "print(bad_max(3,7))\n",
    "print(bad_max(5,-1))\n",
    "\n",
    "# Uh-oh, this doesn't work!\n",
    "x = bad_max(1,2) + bad_max(5,3)\n",
    "print(x)"
   ]
  },
  {
   "cell_type": "markdown",
   "metadata": {},
   "source": [
    "<br><br><br><br><br><br><br><br><br><br>\n",
    "\n",
    "# 2. Lists\n",
    "\n",
    "### * A **_list_** is a collection of values, arranged in an order.  The basic way to create a list is with the following syntax:\n"
   ]
  },
  {
   "cell_type": "code",
   "execution_count": null,
   "metadata": {
    "collapsed": true,
    "jupyter": {
     "outputs_hidden": true
    }
   },
   "outputs": [],
   "source": [
    "LIST SYNTAX:\n",
    "    \n",
    "<list name> = [<first value>, <second value>, <...and so on...>, <last value>]\n"
   ]
  },
  {
   "cell_type": "markdown",
   "metadata": {},
   "source": [
    "### * Note that a list is enclosed in square brackets `[` and `]`.  If you use regular parentheses, you're creating something else that may end up working for your purposes, but it is definitely not the same type of list that I'm talking about.\n",
    "\n",
    "### * The values can be of any types, and don't all have to be the same type.\n",
    "\n",
    "<br><br><br><br><br><br><br><br><br><br>"
   ]
  },
  {
   "cell_type": "code",
   "execution_count": null,
   "metadata": {},
   "outputs": [],
   "source": [
    "#EXAMPLE 2a: Lists\n",
    "\n",
    "x = [12, 'Hello', 13, 'Goodbye', True, 14]\n",
    "y = [5, 6, 7]\n",
    "\n",
    "print('type(x) =', type(x)) # This will print the name of the data type\n",
    "\n",
    "print('x[2] =', x[2])\n",
    "print('x[-1] =', x[-1])\n",
    "print('x[-2] =', x[-2])\n",
    "print('len(x) =', len(x))\n",
    "print('x + y =', x + y)\n",
    "print('y*3 =', y*3)\n",
    "print('x[626] =', x[626])"
   ]
  },
  {
   "cell_type": "markdown",
   "metadata": {},
   "source": [
    "### * As you can tell, we just illustrated several features of lists.\n",
    "\n",
    "### --- First, `list` is a new data type.  \n",
    "### --- Remember how you can index the characters of a `str` using `[ ]`?  You can do the same thing with `list`s.  And just like with `str`s, **zero-based indexing** is employed.\n",
    "### --- You can also do indexing based from the end: e.g., `x[-1]` is the last element of `x`, `x[-2]` is the second-to-last, etc.\n",
    "### --- If you try to read an index that is longer than the length of the list, however, you will get a run-time error.\n",
    "### --- `len()` also works for lists.  \n",
    "### --- You can concatenate `list`s using `+`: this will produce a new `list`, which combines the two operands.\n",
    "### --- And you can multiply a `list` by an integer."
   ]
  },
  {
   "cell_type": "markdown",
   "metadata": {},
   "source": [
    "<br><br><br><br><br><br><br><br><br><br>\n",
    "\n",
    "# 3. Slicing\n",
    "\n",
    "### * **_Slicing_** refers to taking a portion of a list (not necessarily just a single element).  \n",
    "\n",
    "### * You would write an expression that looks like, e.g., `x[2:6]`, which would create a new list, containing elements `x[2]`,`x[3]`, `x[4]`, `x[5]` -- but not `x[6]`.  (That took me a while to get used to -- the last index is *not* included, just the ones before.)  "
   ]
  },
  {
   "cell_type": "code",
   "execution_count": 2,
   "metadata": {},
   "outputs": [
    {
     "name": "stdout",
     "output_type": "stream",
     "text": [
      "slice_1 = ['DD', 'EE', 'FF', 'GG']\n",
      "my_list[:2] = ['AA', 'BB']\n",
      "my_list[6:] = ['GG']\n",
      "my_list[100:102] =  []\n",
      "cde\n"
     ]
    }
   ],
   "source": [
    "#EXAMPLE 3a: Slicing\n",
    "\n",
    "my_list = ['AA', 'BB', 'CC', 'DD', 'EE', 'FF', 'GG']\n",
    "\n",
    "slice_1 = my_list[3:7]\n",
    "print('slice_1 =', slice_1)\n",
    "\n",
    "# If you leave out the part before the :, it assumes you're starting at the beginning; \n",
    "# if you leave out the part after the :, it assumes you're going until the end.\n",
    "print('my_list[:2] =', my_list[:2])\n",
    "print('my_list[6:] =', my_list[6:])\n",
    "\n",
    "print('my_list[100:102] = ', my_list[100:102]) # Interestingly, NOT an error.\n",
    "\n",
    "# You can also slice strings, by the way.\n",
    "big_string = 'abcdefghi'\n",
    "print(big_string[2:5])"
   ]
  },
  {
   "cell_type": "markdown",
   "metadata": {},
   "source": [
    "<br><br><br><br><br><br><br><br><br><br>\n",
    "\n",
    "# 4. Lists, Mutability and The Basic Mutation Operations\n",
    "\n",
    "### * A *reassignment* refers to when you take a previously defined variable, and use the assignment operator (`=`) to give it a new value.  Up until now, that was the only way we've had to change the value of a variable.\n",
    "\n",
    "### * Lists, however, can be changed in other ways than reassignment.  These are referred to as *mutations*: they typically leave the value partially intact, but partially changed. (A better definition will come later.)\n"
   ]
  },
  {
   "cell_type": "code",
   "execution_count": null,
   "metadata": {},
   "outputs": [],
   "source": [
    "# EXAMPLE 4a: Mutations\n",
    "\n",
    "my_list = ['I', 'can', 'change']\n",
    "\n",
    "# Plain-old-reassignment\n",
    "my_list = ['Entirely', 'new', 'list']\n",
    "\n",
    "# But here are three types of mutations:\n",
    "my_list[0] = 'Partially'   # Change one entry\n",
    "print(my_list)\n",
    "\n",
    "my_list.append('with a new entry at the end!')  # Add a new entry at the end\n",
    "print(my_list)\n",
    "\n",
    "my_list.insert(2, 'cool')\n",
    "print(my_list)"
   ]
  },
  {
   "cell_type": "markdown",
   "metadata": {},
   "source": [
    "# ### * Three examples of mutations: \n",
    "\n",
    "### --- reassigning a single entry (by index)\n",
    "### --- `.append(<elt>)` puts `<elt>` at the end of a list.\n",
    "### --- `.insert(<pos>, <elt>)` puts `<elt>` into the list at position `<pos>` (with the element currently at that position moving back).\n",
    "\n",
    "### * Other examples include `.extend()`, `.remove()`, and `.pop()`.  Again, note that you don't write `=` signs with these \"dot\" functions. These \"dot\" functions are also called methods and are designed to work on specific data types. \n",
    "\n",
    "<br><br><br><br><br><br><br><br><br><br>\n",
    "\n",
    "### * One with different syntax: \n",
    "\n",
    "* `del <list name>[<pos>]` removes element `<pos>` from the list `<list name>`.\n",
    "\n",
    "\n",
    "* `<list name>.remove[<element>]` removes every occurance of `<element>` from the list `<list name>`\n",
    "\n"
   ]
  },
  {
   "cell_type": "code",
   "execution_count": 4,
   "metadata": {},
   "outputs": [],
   "source": [
    "# EXAMPLE 4b: Delete\n",
    "\n",
    "x = ['a', 'b', 'x', 'c', 'd', 'x']\n",
    "\n",
    "# Let's remove the 'x's two ways:\n"
   ]
  },
  {
   "cell_type": "markdown",
   "metadata": {},
   "source": [
    "<br><br><br><br><br><br><br><br><br><br>\n",
    "\n",
    "# 5. Warning: `str`s are Immutable!\n",
    "\n",
    "### * Strings and lists are much alike, but one big difference between them is that you cannot mutate a string.  \n",
    "\n",
    "### * You CAN *reassign* a string variable, but you CAN'T *mutate* one.  This means that you can't change PART of a string."
   ]
  },
  {
   "cell_type": "code",
   "execution_count": null,
   "metadata": {},
   "outputs": [],
   "source": [
    "# EXAMPLE 5a: You can't mutate a str\n",
    "\n",
    "x = 'String'\n",
    "\n",
    "# All of these attempt to keep the value of x mostly in tact,\n",
    "# while just changing part.  They're all illegal.\n",
    "x[1] = 'p'           \n",
    "x.append('y ding')   \n",
    "x.insert(2, 'a')     \n",
    "\n",
    "\n",
    "# However, these are ok:\n",
    "x = 'New string value' \n",
    "x = x + '!!!'\n",
    "# The last one is ok because it takes the value of x and the second string '!!!'\n",
    "# and then combines them to create an entirely new, third string."
   ]
  },
  {
   "cell_type": "markdown",
   "metadata": {},
   "source": [
    "<br><br><br><br><br><br><br><br><br><br>\n",
    "\n",
    "# 6. `.split()`\n",
    "\n",
    "### * A dot function which is *not* a mutation: if `str_var` is a `str` variable, then \n",
    "\n",
    "`str_var.split()` \n",
    "\n",
    "### is an expression which, when evaluated, returns a new list, whose entries are the consecutive runs of non-whitespace characters in `str_var`.  (\"Whitespace\" refers to spaces, tabs, and newlines.) \n",
    "\n",
    "### * More informally, `.split()` takes a string, and makes a list where each entry is an \"island\" of characters. \n"
   ]
  },
  {
   "cell_type": "code",
   "execution_count": 3,
   "metadata": {},
   "outputs": [
    {
     "name": "stdout",
     "output_type": "stream",
     "text": [
      "['An', 'archipelago', 'is...a', 'group', 'of', 'islands!']\n",
      "['Got', 'some', 'newlines']\n",
      "['Big', 'Multi', 'Line']\n"
     ]
    }
   ],
   "source": [
    "# EXAMPLE 6a: .split()\n",
    "\n",
    "a = '  An   archipelago   is...a   group of  islands!'\n",
    "print(a.split())\n",
    "\n",
    "b = 'Got\\nsome\\nnewlines'\n",
    "print(b.split())\n",
    "\n",
    "c = \"\"\"\n",
    "Big\n",
    "Multi\n",
    "Line\n",
    "\"\"\"\n",
    "print(c.split())"
   ]
  },
  {
   "cell_type": "markdown",
   "metadata": {},
   "source": [
    "<br><br><br><br><br><br><br><br><br><br>\n",
    "\n",
    "### * Keep the following two points in mind:\n",
    "\n",
    "### 1. You attach `.split()` to a STRING and it makes a LIST.\n",
    "### 2. Suppose that `x` is a string.  After evaluating `x.split()`, the variable `x` is STILL the same string -- you have to assign the value of `x.split()` to a variable to store the list."
   ]
  },
  {
   "cell_type": "code",
   "execution_count": null,
   "metadata": {},
   "outputs": [],
   "source": [
    "# EXAMPLE 6b: .split()\n",
    "\n",
    "x = 'One Two Three'\n",
    "x.split()    # Does nothing much\n",
    "print(x)\n",
    "\n",
    "y = x.split() # THIS does something\n",
    "print(y)\n"
   ]
  },
  {
   "cell_type": "markdown",
   "metadata": {},
   "source": [
    "<br><br><br><br><br><br><br><br><br><br>\n",
    "\n",
    "# 7. Calculator\n",
    "\n",
    "### * Let's write a program that reads a line like\n",
    "\n",
    "`12.3 - 3.4`\n",
    "\n",
    "### from user input, interprets it as an arithmetic expression, and the evaluates that expression.  \n",
    "\n",
    "\n",
    "### * **Not** as simple as it sounds, for one basic reason:\n",
    "\n",
    "*user input is always interpreted as a `str`, not as code!*\n",
    "\n",
    "### * When you enter `2 + 3`, it just sees a 5-character `str`: a `2` symbol, a space, a `+` symbol, a space, and a `3` symbol.   `int` and `float` only work for individual numbers.\n",
    "\n",
    "\n",
    "<br><br><br><br><br><br><br><br><br><br>\n",
    "\n",
    "\n",
    "### * Strategy:\n",
    "\n",
    "### --- Get input, as a `str`.\n",
    "### --- Second, break apart that `str` into a number, an operation symbol, and another number.\n",
    "### --- Check if the operation symbol is `'+'`, `'-'`, etc.\n",
    "### --- Once we have determined the operation symbol, evaluate a Python expression with the corresponding operation, and print the answer.\n"
   ]
  },
  {
   "cell_type": "code",
   "execution_count": null,
   "metadata": {},
   "outputs": [],
   "source": [
    "# EXAMPLE 7a: Calculator\n",
    "\n",
    "expression = input('Enter an expression: ')\n",
    "\n",
    "#\n",
    "# LET'S WRITE A CALCULATOR!\n",
    "#\n"
   ]
  },
  {
   "cell_type": "markdown",
   "metadata": {},
   "source": [
    "<br><br><br><br><br><br><br><br><br><br>\n",
    "\n",
    "\n",
    "# 8. `for` Loops\n",
    "\n",
    "### * It's time."
   ]
  },
  {
   "cell_type": "code",
   "execution_count": null,
   "metadata": {},
   "outputs": [],
   "source": [
    "# EXAMPLE 8a: 1 + 2 + 3 + 4 + ... + 1000000\n",
    "\n",
    "running_sum = 0\n",
    "for my_number in range(1, 10**6 + 1):\n",
    "    running_sum = running_sum + my_number\n",
    "print(running_sum)"
   ]
  },
  {
   "cell_type": "markdown",
   "metadata": {},
   "source": [
    "### * How do you get the computer to execute a million instructions with 4 lines of code?  With a **loop**.\n",
    "\n",
    "### * `range(1, 10**6 + 1)` is, more or less, the list `[1, 2, 3, 4, ..., 1000000]`.\n",
    "\n",
    "### * `my_number` is just a plain-old variable name.  \n",
    "\n",
    "### * `for ... in ...` means: assign `my_number` to be the first list element, and run the body; assign `my_number` to be the second list element, and run the body AGAIN; then repeat over and over again, until you reach the end of the list.\n",
    "\n",
    "<br><br><br><br><br><br><br><br><br><br>\n",
    "\n",
    "# 9. The Rules of `for` Loops"
   ]
  },
  {
   "cell_type": "code",
   "execution_count": null,
   "metadata": {
    "collapsed": true,
    "jupyter": {
     "outputs_hidden": true
    }
   },
   "outputs": [],
   "source": [
    "BASIC FOR LOOP SYNTAX:\n",
    "\n",
    "\"... previous statements ...\"\n",
    "for <target var> in <list>:\n",
    "    <body, indented>\n",
    "    <some statements will likely involve <target var> >\n",
    "\"... further statements, unindented...\""
   ]
  },
  {
   "cell_type": "markdown",
   "metadata": {},
   "source": [
    "### * This does the following.\n",
    "\n",
    "### --- First, `<target var>` will be assigned the first value from the `<list>`.\n",
    "### --- Then, `<body>` will execute.\n",
    "### --- Once that is finished, `<target var>` will be assigned the second value from the `<list>`...\n",
    "### --- ...and `<body>` executes again, with `<target var>` assigned to the new value.\n",
    "### --- And so on until you've reached the end of the list.  At this point, statements after the `<body>` are executed.\n",
    "\n",
    "### * Once again, indenting is important!  The part of the code that gets repeated is everything after the `for` line, until you get to a non-indented line.\n",
    "\n",
    "<br><br><br><br><br>\n",
    "<br><br><br><br><br>\n",
    "\n",
    "\n",
    "\n",
    "\n",
    "![IMAGE NOT FOUND!!!!!!!!!!](forloop.png)"
   ]
  },
  {
   "cell_type": "code",
   "execution_count": null,
   "metadata": {},
   "outputs": [],
   "source": [
    "# EXAMPLE 9a: Let's look at a loop carefully.\n",
    "\n",
    "words = ['Apple', 'Banana', 'Cauliflower']\n",
    "\n",
    "for w in words:\n",
    "    num_letters = len(w)\n",
    "    print(f'{w} has {num_letters} letters.')\n",
    "    \n",
    "print(words)"
   ]
  },
  {
   "cell_type": "markdown",
   "metadata": {},
   "source": [
    "### * At the very beginning, `words` is created.  \n",
    "\n",
    "### * Then, we arrive at the loop.  Here's what happens:\n",
    "\n",
    "### --- `w` is assigned the first element of the list, which is `Apple`.\n",
    "### --- The body of the loop, two lines, is executed.\n",
    "### --- Since this is a loop, you don't go on -- you go back to the beginning of the loop, and make `w` the **next** entry in the list, which is `Banana`.\n",
    "### --- Then, you execute the two lines of the body again.\n",
    "### --- Since this is a loop, you don't go on -- you go back to the beginning of the loop, and make `w` the **next** entry in the list, which is `Cauliflower`.\n",
    "### --- Then, you execute the two lines of the body again.\n",
    "### --- Since this is a loop, you don't go on -- you go back to the beginning of the loop, and make `w` the **next** entry in the list -- but wait, there *is* no next element!  So you proceed past the loop body.\n",
    "\n"
   ]
  },
  {
   "cell_type": "code",
   "execution_count": null,
   "metadata": {},
   "outputs": [],
   "source": []
  }
 ],
 "metadata": {
  "kernelspec": {
   "display_name": "Python 3 (ipykernel)",
   "language": "python",
   "name": "python3"
  },
  "language_info": {
   "codemirror_mode": {
    "name": "ipython",
    "version": 3
   },
   "file_extension": ".py",
   "mimetype": "text/x-python",
   "name": "python",
   "nbconvert_exporter": "python",
   "pygments_lexer": "ipython3",
   "version": "3.11.5"
  },
  "name": "_merged_merged"
 },
 "nbformat": 4,
 "nbformat_minor": 4
}
