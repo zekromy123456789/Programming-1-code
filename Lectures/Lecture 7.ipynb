{
 "cells": [
  {
   "cell_type": "markdown",
   "metadata": {},
   "source": [
    "# Lecture 7\n",
    "\n",
    "### Using `bool` Variables; The Same Name Game; Print Debugging; A Quick Intro to Defining Functions; Let's Write a Couple; Local Variables and Evan's Laws; Lists"
   ]
  },
  {
   "cell_type": "markdown",
   "metadata": {},
   "source": [
    "\n",
    "# 1. Using `bool` Variables\n",
    "\n",
    "### * Suppose you want to check that three sides of a triangle, `a`, `b` and `c`, are entered in descending order, are all greater than 0, and satisfy the triangle inequality (that the sum of any two sides is always greater than the third)?\n",
    "\n",
    "### * One way to code this:"
   ]
  },
  {
   "cell_type": "code",
   "execution_count": null,
   "metadata": {},
   "outputs": [],
   "source": [
    "if (a >= b) and (b >= c) and (a > 0) and (b > 0) and (c > 0) and (a + b > c) and (a + c > b) and (b + c > a):\n",
    "    # Solve triangle\n",
    "else:\n",
    "    # Print error message\n",
    "# (Let's ignore the fact that for mathematical reasons, there's some redundancy in the above.)"
   ]
  },
  {
   "cell_type": "markdown",
   "metadata": {},
   "source": [
    "\n",
    "<br><br><br><br><br><br><br><br><br><br>\n",
    "\n",
    "### * Here's an alternative, more digestible way to deal with this statement, using `bool` variables (or *flags*). "
   ]
  },
  {
   "cell_type": "code",
   "execution_count": 1,
   "metadata": {},
   "outputs": [
    {
     "name": "stdout",
     "output_type": "stream",
     "text": [
      "Out of order\n",
      "Your sides don't satisfy the triangle inequality\n"
     ]
    }
   ],
   "source": [
    "# EXAMPLE 1a: Using bools\n",
    "\n",
    "a = 7\n",
    "b = 8\n",
    "c = 1000\n",
    "\n",
    "in_order = (a >= b) and (b >= c)\n",
    "all_positive = (a > 0) and (b > 0) and (c > 0)\n",
    "satisfies_triangle_ineq = (a + b > c) and (a + c > b) and (b + c > a)\n",
    "\n",
    "if in_order and all_positive and satisfies_triangle_ineq:\n",
    "    print('Solving triangle...(not really, laziness)')\n",
    "else:\n",
    "    if not in_order:\n",
    "        print('Out of order')\n",
    "    if not all_positive:\n",
    "        print('Non-positive side entered')\n",
    "    if not satisfies_triangle_ineq:\n",
    "        print('Your sides don\\'t satisfy the triangle inequality')\n",
    "        \n",
    "# PS Why did I NOT use elif here?"
   ]
  },
  {
   "cell_type": "markdown",
   "metadata": {},
   "source": [
    "\n",
    "### * When you see an `if` statement without `==`'s or `>`'s or the like, *don't freak out -- evaluate*!  Evaluate the whole logical expression, like before.  If the expression evaluates to `True`, then the statement prints; if it evaluates to `False`, then the statement doesn't print.\n",
    "\n"
   ]
  },
  {
   "cell_type": "markdown",
   "metadata": {},
   "source": [
    "\n",
    "<br><br><br><br><br><br><br><br><br><br>\n",
    "# 2. The Same Name Game \n",
    "\n",
    "### * The next program is meant to allow the user to enter 4 names.  At the end, the program should answer the question: \n",
    "\n",
    "*Did the user ever enter the same name twice in a row?* \n",
    "\n",
    "### (If a name was entered three times in a row, or two different names were each entered twice in a row, we'll still answer \"yes\".)  \n",
    "\n",
    "### * Since we'll need the answer to a yes or no question at the end, we'll use a `bool` variable to store the answer.  (We may need to debug a little at the end.)"
   ]
  },
  {
   "cell_type": "code",
   "execution_count": null,
   "metadata": {},
   "outputs": [],
   "source": [
    "# EXAMPLE 2a: Same Name Twice In A Row \n",
    "# We may need to fix a couple of things.\n",
    "\n",
    "# repeat_yet will contain the answer to the question: 'have two identical names been entered consecutively yet?'\n",
    "# What should repeat_yet be initialized to?\n",
    "repeat_yet =\n",
    "\n",
    "name1 = input('First name: ')\n",
    "name2 = input('Second name: ')\n",
    "\n",
    "if name1 == name2:\n",
    "    repeat_yet = True\n",
    "else:\n",
    "    repeat_yet = False\n",
    "    \n",
    "name3 = input('Third name: ')\n",
    "\n",
    "if name2 == name3:\n",
    "    repeat_yet = True\n",
    "else:\n",
    "    repeat_yet = False\n",
    "\n",
    "name4 = input('Fourth name: ')\n",
    "\n",
    "if name3 == name4:\n",
    "    repeat_yet = True\n",
    "else:\n",
    "    repeat_yet = False\n",
    "\n",
    "    \n",
    "if repeat_yet:\n",
    "    print('There were two consecutive entries that were the same.')\n",
    "else:\n",
    "    print('No consecutive repeats.')"
   ]
  },
  {
   "cell_type": "markdown",
   "metadata": {},
   "source": [
    "\n",
    "<br><br><br><br><br><br><br><br><br><br>\n",
    "\n",
    "# 3. Print Debugging\n",
    "\n",
    "### * The code below is **meant** to do the following. It asks for two numbers from each of two players.  It then adds up each player's numbers, and outputs which player is the winner, using the following rules:\n",
    "\n",
    "*Any player with a sum > 21 is disqualified.  The winner is the player with the highest sum who is not disqualified.  If both players are disqualified, then no one wins. If both players have the same sum which is <= 21, then the players both win.*\n",
    "\n",
    "### * (So, this is a lot like the game of Blackjack, if you know what that is.) \n",
    "\n",
    "### * THERE'S A BUG! We'll use print statements to find it."
   ]
  },
  {
   "cell_type": "code",
   "execution_count": null,
   "metadata": {},
   "outputs": [],
   "source": [
    "# Example 3a: 'Blackjack' (kind of)\n",
    "\n",
    "p1_num1 = int(input('Enter Player 1\\'s first number: '))\n",
    "p1_num2 = int(input('Enter Player 1\\'s second number: '))\n",
    "p2_num1 = int(input('Enter Player 2\\'s first number: '))\n",
    "p2_num2 = int(input('Enter Player 2\\'s second number: '))\n",
    "\n",
    "# First, determine who has the higher sum\n",
    "if p1_num1 + p1_num2 > p2_num1 + p2_num2:\n",
    "    # Player 1 has the higher sum.\n",
    "    # If that sum is 21 or under, player 1 wins.\n",
    "    # If not, player 2 wins, unless player 2's sum is also over 21,\n",
    "    # in which case no one wins.\n",
    "    if p1_num1 + p1_num2 <= 21:\n",
    "        print('Player 1 wins.')\n",
    "    elif p2_num1 + p2_num2 <= 21:\n",
    "        print('Player 2 wins.')\n",
    "    else:\n",
    "        print('Both players disqualified.')\n",
    "        \n",
    "elif p2_num1 + p2_num2 > p1_num1 + p1_num2:\n",
    "    # Player 2 has the higher sum.\n",
    "    # If that sum is 21 or under, player 2 wins.\n",
    "    # If not, player 1 wins, unless player 1's sum is also over 21,\n",
    "    # in which case no one wins.\n",
    "    if p2_num1 + p2_num2 <= 21:\n",
    "        print('Player 2 wins.')\n",
    "    elif p1_num1 + p2_num1 <= 21:\n",
    "        print('Player 1 wins.')\n",
    "    else:\n",
    "        print('Both players disqualified.')\n",
    "        \n",
    "else:\n",
    "    # Both players have the same sum.  Both win if that sum is 21 or under\n",
    "    # and both are disqualified otherwise.\n",
    "    if p1_num1 + p1_num2 <= 21:\n",
    "        print('Both players win.')\n",
    "    else:\n",
    "        print('Both players disqualified.')"
   ]
  },
  {
   "cell_type": "markdown",
   "metadata": {},
   "source": [
    "### * Try putting in 10 and 2 for the first player, and 20 and 4 for the second player.  Player 1 should win!  That's not what happens, though: why?\n"
   ]
  },
  {
   "cell_type": "markdown",
   "metadata": {},
   "source": [
    "<br><br><br><br><br><br><br><br><br><br>\n",
    "\n",
    "# 4. A Quick Introduction to Programmer-Defined Functions\n",
    "\n",
    "### * We have used a lot of functions in Python: `len()`, `math.exp()`, `random.randrange()`, etc. \n",
    "\n",
    "### * As a programmer, you can write your own functions, too!\n",
    "\n",
    "### * **Functions can help you break down your problems into smaller, more manageable parts** and **minimize repetition of code**.  This is called *modular programming*.  \n"
   ]
  },
  {
   "cell_type": "code",
   "execution_count": null,
   "metadata": {},
   "outputs": [],
   "source": [
    "# EXAMPLE 4a: A programmer-defined function\n",
    "# This function computes sums of squares of numbers.\n",
    "# Presumably, this is something that we may find ourselves doing a lot.\n",
    "\n",
    "def sum_of_squares(x, y, z):\n",
    "    sos = x**2 + y**2 + z**2\n",
    "    return sos"
   ]
  },
  {
   "cell_type": "markdown",
   "metadata": {},
   "source": [
    "### * Run that code.  It doesn't appear to really do much!  \n",
    "\n",
    "### * It defines a new function.  The keyword `def` denotes that we're defining a function; `sum_of_squares` is the *name* of the function; `x`, `y` and `z` represent the *inputs* to the function; and the word `return` denotes that the *output* of the function is the value called `sos`.\n",
    "\n",
    "\n",
    "<br><br><br><br><br><br><br><br><br><br>\n",
    "\n",
    "\n",
    "\n",
    "### * Now, let's **use** the function."
   ]
  },
  {
   "cell_type": "code",
   "execution_count": null,
   "metadata": {},
   "outputs": [],
   "source": [
    "# EXAMPLE 4b: Using that function\n",
    "\n",
    "# MAKE SURE YOU'VE RUN EXAMPLE 1a !!!!!!!!!!!\n",
    "\n",
    "a = sum_of_squares(1,2,2)\n",
    "b = sum_of_squares(4,0,3)     # Write the function once, \n",
    "c = sum_of_squares(1,2,5)     # use it repeatedly!\n",
    "print(a, b, c)\n",
    "\n",
    "# These three lines do nothing, all for the same reason...\n",
    "3 + 5                  \n",
    "len('Hello')           \n",
    "sum_of_squares(1,1,1)  \n",
    "# the interpreter evaluates them, but does nothing with the values.\n",
    "\n",
    "d = sum_of_squares(c / 10, b - 4, 0) # Any expression can be used\n",
    "print(d)                             # as an argument!"
   ]
  },
  {
   "cell_type": "code",
   "execution_count": null,
   "metadata": {},
   "outputs": [],
   "source": [
    "BASIC FUNCTION DEFINITION SYNTAX:\n",
    "    \n",
    "def <function name>(<formal parameters>):\n",
    "    <body>\n",
    "    return <output value>"
   ]
  },
  {
   "cell_type": "markdown",
   "metadata": {},
   "source": [
    "### * *formal parameters* refers to names used for the inputs when you define the function.  So in the program from above, the parameters were `x`, `y` and `z`, and the output value was called `sos`.\n",
    "\n",
    "<br><br><br><br><br><br><br><br><br><br>\n",
    "\n",
    "\n",
    "### * That's the definition.  Further down, you may *call* (i.e., use) this function, which would look something like\n",
    "\n",
    "`<function name>(<actual parameters>)`\n",
    "\n",
    "### * In our program, the calls looked like `sum_of_squares(var1, var2, var3)`.  When Python encounters `sum_of_squares(var1, var2, var3)`, here is what happens:\n",
    "\n",
    "### --- The parameters of the function will be matched with the actual parameters (or *arguments*).  This means that `x` will be assigned the value of `var1`, `y` will be assigned the value of `var2`, and `z` will be assigned the value of `var3`. (First gets matched with first, second gets matched with second -- order matters here.)\n",
    "\n",
    "\n",
    "### --- The body of the function will execute, using these values.\n",
    "\n",
    "### --- The line `return sos` ends the function's execution, and the value of `sum_of_squares(var1, var2, var3)` will be whatever `sos` is.\n",
    "\n",
    "### --- That value then gets stored to a variable, or printed, or ignored, depending on what you code does with `sum_of_squares(var1, var2, var3)`, and the program continues."
   ]
  },
  {
   "cell_type": "markdown",
   "metadata": {},
   "source": [
    "\n",
    "<br><br><br><br><br><br><br><br><br><br>\n",
    "\n",
    "\n",
    "# 5. Let's Write a Couple of Functions\n",
    "\n",
    "### * Let's create `my_max()`, which receives two arguments, and which returns the value of the larger one. "
   ]
  },
  {
   "cell_type": "code",
   "execution_count": null,
   "metadata": {},
   "outputs": [],
   "source": [
    "# EXAMPLE 5a: my_max\n",
    "\n",
    "#\n",
    "# Let's write my_max()\n",
    "#\n",
    "\n",
    "\n",
    "##################################\n",
    "x = int(input('First number: '))\n",
    "y = int(input('Second number: '))\n",
    "\n",
    "z = my_max(x, y)\n",
    "\n",
    "print('The max is', z)"
   ]
  },
  {
   "cell_type": "markdown",
   "metadata": {},
   "source": [
    "\n",
    "<br><br><br><br><br><br><br><br><br><br>\n",
    "\n",
    "### * Try writing a function called `my_abs`, which should receive one numerical argument, and return the absolute value of that argument."
   ]
  },
  {
   "cell_type": "code",
   "execution_count": null,
   "metadata": {},
   "outputs": [],
   "source": [
    "# EXAMPLE 5b: my_abs\n",
    "\n",
    "#\n",
    "# Write my_abs()\n",
    "#\n",
    "\n",
    "print('If this isn\\'t 2, your function has a problem :', my_abs(2))\n",
    "print('If this isn\\'t 4, your function has a problem :', my_abs(-4))\n",
    "print('If this isn\\'t 0, your function has a problem :', my_abs(0))"
   ]
  },
  {
   "cell_type": "markdown",
   "metadata": {},
   "source": [
    "\n",
    "<br><br><br><br><br><br><br><br><br><br>\n",
    "\n",
    "# 6. Local Variables and Evan's Laws of Functions\n",
    "\n",
    "### * A *local variable* is a variable that is either a formal parameter of the function, or one which is **created** in the body of a function.  \n",
    "\n",
    "### * Beginners sometimes misuse functions in ways that either *cause* confusion, or straight-up do not work.  \n",
    "\n",
    "### * Explaining exactly why certain things are bad ideas or illegal tends to eat up more time than I want to spend right now.  \n",
    "\n",
    "\n",
    "<br><br><br><br><br><br><br><br><br><br>\n",
    "\n",
    "\n",
    "### * To guide you in the right direction without having to explain myself, I hereby hand down to you: Evan's 3 Laws of Python functions\n",
    "\n",
    "### 1. The only variables you can use within the body of a function definition are local variables.\n",
    "### 2. Local variables may not appear outside of the function definition.\n",
    "### 3. `print()` never goes in a function body.\n",
    "\n",
    "### * (Actually, none of these are really laws at all -- but for now, I suggest you follow them.)\n",
    "\n",
    "\n",
    "<br><br><br><br><br><br><br><br><br><br>\n"
   ]
  },
  {
   "cell_type": "code",
   "execution_count": null,
   "metadata": {},
   "outputs": [],
   "source": [
    "# EXAMPLE 6a: Law 1 violation\n",
    "\n",
    "x = 20 # x is created here...\n",
    "\n",
    "def x_times_y(y):\n",
    "    x = x*y     # ...and so x is not local: violating Law 1\n",
    "    return x    \n",
    "\n",
    "print(x_times_y(10))\n",
    "# And whoops -- error!"
   ]
  },
  {
   "cell_type": "code",
   "execution_count": null,
   "metadata": {},
   "outputs": [],
   "source": [
    "# EXAMPLE 6b: Law 2 violation\n",
    "\n",
    "def fn(z):\n",
    "    new_guy = z + 1 # new_guy is local...\n",
    "    return new_guy\n",
    "\n",
    "x = fn(40)\n",
    "\n",
    "print(new_guy) # ...and so this is a Law 2 violation\n",
    "# And whoops -- error!"
   ]
  },
  {
   "cell_type": "code",
   "execution_count": null,
   "metadata": {},
   "outputs": [],
   "source": [
    "# EXAMPLE 6c: Law 3 violation\n",
    "\n",
    "def bad_max(x, y):\n",
    "    if x > y:\n",
    "        output = x\n",
    "    else:\n",
    "        output = y\n",
    "    print(output)  # Law 3 violation!!!\n",
    "    \n",
    "\n",
    "# At first this seems fine...mostly. \n",
    "print(bad_max(3,7))\n",
    "print(bad_max(5,-1))\n",
    "\n",
    "# Uh-oh, this doesn't work!\n",
    "x = bad_max(1,2) + bad_max(5,3)\n",
    "print(x)"
   ]
  },
  {
   "cell_type": "markdown",
   "metadata": {},
   "source": [
    "<br><br><br><br><br><br><br><br><br><br>\n",
    "\n",
    "# 8. Lists\n",
    "\n",
    "### * A **_list_** is a collection of values, arranged in an order.  The basic way to create a list is with the following syntax:\n"
   ]
  },
  {
   "cell_type": "code",
   "execution_count": null,
   "metadata": {
    "jupyter": {
     "outputs_hidden": true
    }
   },
   "outputs": [],
   "source": [
    "LIST SYNTAX:\n",
    "    \n",
    "<list name> = [<first value>, <second value>, <...and so on...>, <last value>]\n"
   ]
  },
  {
   "cell_type": "markdown",
   "metadata": {},
   "source": [
    "### * Note that a list is enclosed in square brackets `[` and `]`.  If you use regular parentheses, you're creating something else that may end up working for your purposes, but it is definitely not the same type of list that I'm talking about.\n",
    "\n",
    "### * The values can be of any types, and don't all have to be the same type.\n",
    "\n",
    "<br><br><br><br><br><br><br><br><br><br>"
   ]
  },
  {
   "cell_type": "code",
   "execution_count": null,
   "metadata": {},
   "outputs": [],
   "source": [
    "#EXAMPLE 8a: Lists\n",
    "\n",
    "x = [12, 'Hello', 13, 'Goodbye', True, 14]\n",
    "y = [5, 6, 7]\n",
    "\n",
    "print('type(x) =', type(x)) # This will print the name of the data type\n",
    "\n",
    "print('x[2] =', x[2])\n",
    "print('x[-1] =', x[-1])\n",
    "print('x[-2] =', x[-2])\n",
    "print('len(x) =', len(x))\n",
    "print('x + y =', x + y)\n",
    "print('y*3 =', y*3)\n",
    "print('x[626] =', x[626])"
   ]
  },
  {
   "cell_type": "markdown",
   "metadata": {},
   "source": [
    "### * As you can tell, we just illustrated several features of lists.\n",
    "\n",
    "### --- First, `list` is a new data type.  \n",
    "### --- Remember how you can index the characters of a `str` using `[ ]`?  You can do the same thing with `list`s.  And just like with `str`s, **zero-based indexing** is employed.\n",
    "### --- You can also do indexing based from the end: e.g., `x[-1]` is the last element of `x`, `x[-2]` is the second-to-last, etc.\n",
    "### --- If you try to read an index that is longer than the length of the list, however, you will get a run-time error.\n",
    "### --- `len()` also works for lists.  \n",
    "### --- You can concatenate `list`s using `+`: this will produce a new `list`, which combines the two operands.\n",
    "### --- And you can multiply a `list` by an integer."
   ]
  }
 ],
 "metadata": {
  "kernelspec": {
   "display_name": "Python 3 (ipykernel)",
   "language": "python",
   "name": "python3"
  },
  "language_info": {
   "codemirror_mode": {
    "name": "ipython",
    "version": 3
   },
   "file_extension": ".py",
   "mimetype": "text/x-python",
   "name": "python",
   "nbconvert_exporter": "python",
   "pygments_lexer": "ipython3",
   "version": "3.10.10"
  },
  "name": "_merged_merged"
 },
 "nbformat": 4,
 "nbformat_minor": 4
}
